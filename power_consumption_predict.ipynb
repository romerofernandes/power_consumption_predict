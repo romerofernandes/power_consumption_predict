{
  "nbformat": 4,
  "nbformat_minor": 0,
  "metadata": {
    "colab": {
      "name": "power_consumption_predict.ipynb",
      "provenance": [],
      "authorship_tag": "ABX9TyNlSjpJ3lspwCsSLJtPGAyU",
      "include_colab_link": true
    },
    "kernelspec": {
      "name": "python3",
      "display_name": "Python 3"
    },
    "language_info": {
      "name": "python"
    }
  },
  "cells": [
    {
      "cell_type": "markdown",
      "metadata": {
        "id": "view-in-github",
        "colab_type": "text"
      },
      "source": [
        "<a href=\"https://colab.research.google.com/github/romerofernandes/power_consumption_predict/blob/main/power_consumption_predict.ipynb\" target=\"_parent\"><img src=\"https://colab.research.google.com/assets/colab-badge.svg\" alt=\"Open In Colab\"/></a>"
      ]
    },
    {
      "cell_type": "markdown",
      "source": [
        "##Importações"
      ],
      "metadata": {
        "id": "uYkmuZNk3M0K"
      }
    },
    {
      "cell_type": "markdown",
      "source": [
        "###Bibliotecas"
      ],
      "metadata": {
        "id": "tbe0bX6SQZPl"
      }
    },
    {
      "cell_type": "code",
      "source": [
        "#Analise de dados\n",
        "import pandas as pd\n",
        "import numpy as np\n",
        "import datetime as dt"
      ],
      "metadata": {
        "id": "F53vYnKy5qc_"
      },
      "execution_count": null,
      "outputs": []
    },
    {
      "cell_type": "code",
      "source": [
        "#Visualização de dados\n",
        "import matplotlib.pyplot as plt\n",
        "import seaborn as sns\n",
        "import plotly.express as px"
      ],
      "metadata": {
        "id": "u5Lipch7YDXj"
      },
      "execution_count": null,
      "outputs": []
    },
    {
      "cell_type": "code",
      "source": [
        "#Função para colocar os valores sobre as barras nos gráficos de barras\n",
        "def values_text(graf):\n",
        "    for bar in graf.patches:\n",
        "        graf.text(\n",
        "            bar.get_x() + bar.get_width() / 2,\n",
        "            bar.get_height() * 1.01,\n",
        "            round(bar.get_height(),1),\n",
        "            horizontalalignment='center',\n",
        "            color= 'black'\n",
        "            )"
      ],
      "metadata": {
        "id": "pzEXW2oqf09T"
      },
      "execution_count": null,
      "outputs": []
    },
    {
      "cell_type": "code",
      "execution_count": null,
      "metadata": {
        "id": "6Jvhot2X2DjU"
      },
      "outputs": [],
      "source": [
        "#Modelagem\n",
        "from sklearn.model_selection import train_test_split\n",
        "from sklearn.model_selection import cross_val_score\n",
        "from sklearn.model_selection import cross_validate"
      ]
    },
    {
      "cell_type": "code",
      "source": [
        "#! pip install scikit-optimize"
      ],
      "metadata": {
        "id": "Xx7RMLCmW5E9"
      },
      "execution_count": null,
      "outputs": []
    },
    {
      "cell_type": "code",
      "source": [
        "#Otimização de hiperparametros \n",
        "#Necessario instalar scikit-optimize: ! pip install scikit-optimize\n",
        "#from skopt import BayesSearchCV\n",
        "#from skopt.space import Integer"
      ],
      "metadata": {
        "id": "rkJPfJ5pLJfa"
      },
      "execution_count": null,
      "outputs": []
    },
    {
      "cell_type": "code",
      "source": [
        "#Modelos\n",
        "from sklearn.ensemble import RandomForestClassifier\n",
        "from sklearn.neighbors import KNeighborsClassifier\n",
        "from sklearn.svm import SVC\n",
        "from sklearn.tree import DecisionTreeClassifier\n",
        "from xgboost import XGBClassifier"
      ],
      "metadata": {
        "id": "lgPe2nX3LLgq"
      },
      "execution_count": null,
      "outputs": []
    },
    {
      "cell_type": "code",
      "source": [
        "#Análise dos modelos\n",
        "from sklearn import metrics\n",
        "from sklearn.metrics import confusion_matrix, ConfusionMatrixDisplay\n",
        "from sklearn.metrics import f1_score\n",
        "from sklearn.metrics import recall_score"
      ],
      "metadata": {
        "id": "rnApnBCoLNa6"
      },
      "execution_count": null,
      "outputs": []
    },
    {
      "cell_type": "markdown",
      "source": [
        "###Dados"
      ],
      "metadata": {
        "id": "nWl20w2n3DP1"
      }
    },
    {
      "cell_type": "markdown",
      "source": [
        "####Dados de consumo"
      ],
      "metadata": {
        "id": "hCIVgsoxFosm"
      }
    },
    {
      "cell_type": "code",
      "source": [
        "#Dados sobre o consumo de energia elétrica\n",
        "\n",
        "df_consumption = pd.read_csv('/content/power_usage_2016_to_2020.csv', \n",
        "                             parse_dates= ['StartDate'])"
      ],
      "metadata": {
        "id": "_VfM9kUO3HgK"
      },
      "execution_count": 323,
      "outputs": []
    },
    {
      "cell_type": "code",
      "source": [
        "df_consumption.head()"
      ],
      "metadata": {
        "colab": {
          "base_uri": "https://localhost:8080/",
          "height": 206
        },
        "id": "POf4TgVlFw4M",
        "outputId": "167b2348-7074-43d1-df01-e90878dca83c"
      },
      "execution_count": 310,
      "outputs": [
        {
          "output_type": "execute_result",
          "data": {
            "text/plain": [
              "            StartDate  Value (kWh)  day_of_week    notes\n",
              "0 2016-01-06 00:00:00        1.057            2  weekday\n",
              "1 2016-01-06 01:00:00        1.171            2  weekday\n",
              "2 2016-01-06 02:00:00        0.560            2  weekday\n",
              "3 2016-01-06 03:00:00        0.828            2  weekday\n",
              "4 2016-01-06 04:00:00        0.932            2  weekday"
            ],
            "text/html": [
              "\n",
              "  <div id=\"df-b3df14cc-4bae-4f61-815e-8d037ffc10b5\">\n",
              "    <div class=\"colab-df-container\">\n",
              "      <div>\n",
              "<style scoped>\n",
              "    .dataframe tbody tr th:only-of-type {\n",
              "        vertical-align: middle;\n",
              "    }\n",
              "\n",
              "    .dataframe tbody tr th {\n",
              "        vertical-align: top;\n",
              "    }\n",
              "\n",
              "    .dataframe thead th {\n",
              "        text-align: right;\n",
              "    }\n",
              "</style>\n",
              "<table border=\"1\" class=\"dataframe\">\n",
              "  <thead>\n",
              "    <tr style=\"text-align: right;\">\n",
              "      <th></th>\n",
              "      <th>StartDate</th>\n",
              "      <th>Value (kWh)</th>\n",
              "      <th>day_of_week</th>\n",
              "      <th>notes</th>\n",
              "    </tr>\n",
              "  </thead>\n",
              "  <tbody>\n",
              "    <tr>\n",
              "      <th>0</th>\n",
              "      <td>2016-01-06 00:00:00</td>\n",
              "      <td>1.057</td>\n",
              "      <td>2</td>\n",
              "      <td>weekday</td>\n",
              "    </tr>\n",
              "    <tr>\n",
              "      <th>1</th>\n",
              "      <td>2016-01-06 01:00:00</td>\n",
              "      <td>1.171</td>\n",
              "      <td>2</td>\n",
              "      <td>weekday</td>\n",
              "    </tr>\n",
              "    <tr>\n",
              "      <th>2</th>\n",
              "      <td>2016-01-06 02:00:00</td>\n",
              "      <td>0.560</td>\n",
              "      <td>2</td>\n",
              "      <td>weekday</td>\n",
              "    </tr>\n",
              "    <tr>\n",
              "      <th>3</th>\n",
              "      <td>2016-01-06 03:00:00</td>\n",
              "      <td>0.828</td>\n",
              "      <td>2</td>\n",
              "      <td>weekday</td>\n",
              "    </tr>\n",
              "    <tr>\n",
              "      <th>4</th>\n",
              "      <td>2016-01-06 04:00:00</td>\n",
              "      <td>0.932</td>\n",
              "      <td>2</td>\n",
              "      <td>weekday</td>\n",
              "    </tr>\n",
              "  </tbody>\n",
              "</table>\n",
              "</div>\n",
              "      <button class=\"colab-df-convert\" onclick=\"convertToInteractive('df-b3df14cc-4bae-4f61-815e-8d037ffc10b5')\"\n",
              "              title=\"Convert this dataframe to an interactive table.\"\n",
              "              style=\"display:none;\">\n",
              "        \n",
              "  <svg xmlns=\"http://www.w3.org/2000/svg\" height=\"24px\"viewBox=\"0 0 24 24\"\n",
              "       width=\"24px\">\n",
              "    <path d=\"M0 0h24v24H0V0z\" fill=\"none\"/>\n",
              "    <path d=\"M18.56 5.44l.94 2.06.94-2.06 2.06-.94-2.06-.94-.94-2.06-.94 2.06-2.06.94zm-11 1L8.5 8.5l.94-2.06 2.06-.94-2.06-.94L8.5 2.5l-.94 2.06-2.06.94zm10 10l.94 2.06.94-2.06 2.06-.94-2.06-.94-.94-2.06-.94 2.06-2.06.94z\"/><path d=\"M17.41 7.96l-1.37-1.37c-.4-.4-.92-.59-1.43-.59-.52 0-1.04.2-1.43.59L10.3 9.45l-7.72 7.72c-.78.78-.78 2.05 0 2.83L4 21.41c.39.39.9.59 1.41.59.51 0 1.02-.2 1.41-.59l7.78-7.78 2.81-2.81c.8-.78.8-2.07 0-2.86zM5.41 20L4 18.59l7.72-7.72 1.47 1.35L5.41 20z\"/>\n",
              "  </svg>\n",
              "      </button>\n",
              "      \n",
              "  <style>\n",
              "    .colab-df-container {\n",
              "      display:flex;\n",
              "      flex-wrap:wrap;\n",
              "      gap: 12px;\n",
              "    }\n",
              "\n",
              "    .colab-df-convert {\n",
              "      background-color: #E8F0FE;\n",
              "      border: none;\n",
              "      border-radius: 50%;\n",
              "      cursor: pointer;\n",
              "      display: none;\n",
              "      fill: #1967D2;\n",
              "      height: 32px;\n",
              "      padding: 0 0 0 0;\n",
              "      width: 32px;\n",
              "    }\n",
              "\n",
              "    .colab-df-convert:hover {\n",
              "      background-color: #E2EBFA;\n",
              "      box-shadow: 0px 1px 2px rgba(60, 64, 67, 0.3), 0px 1px 3px 1px rgba(60, 64, 67, 0.15);\n",
              "      fill: #174EA6;\n",
              "    }\n",
              "\n",
              "    [theme=dark] .colab-df-convert {\n",
              "      background-color: #3B4455;\n",
              "      fill: #D2E3FC;\n",
              "    }\n",
              "\n",
              "    [theme=dark] .colab-df-convert:hover {\n",
              "      background-color: #434B5C;\n",
              "      box-shadow: 0px 1px 3px 1px rgba(0, 0, 0, 0.15);\n",
              "      filter: drop-shadow(0px 1px 2px rgba(0, 0, 0, 0.3));\n",
              "      fill: #FFFFFF;\n",
              "    }\n",
              "  </style>\n",
              "\n",
              "      <script>\n",
              "        const buttonEl =\n",
              "          document.querySelector('#df-b3df14cc-4bae-4f61-815e-8d037ffc10b5 button.colab-df-convert');\n",
              "        buttonEl.style.display =\n",
              "          google.colab.kernel.accessAllowed ? 'block' : 'none';\n",
              "\n",
              "        async function convertToInteractive(key) {\n",
              "          const element = document.querySelector('#df-b3df14cc-4bae-4f61-815e-8d037ffc10b5');\n",
              "          const dataTable =\n",
              "            await google.colab.kernel.invokeFunction('convertToInteractive',\n",
              "                                                     [key], {});\n",
              "          if (!dataTable) return;\n",
              "\n",
              "          const docLinkHtml = 'Like what you see? Visit the ' +\n",
              "            '<a target=\"_blank\" href=https://colab.research.google.com/notebooks/data_table.ipynb>data table notebook</a>'\n",
              "            + ' to learn more about interactive tables.';\n",
              "          element.innerHTML = '';\n",
              "          dataTable['output_type'] = 'display_data';\n",
              "          await google.colab.output.renderOutput(dataTable, element);\n",
              "          const docLink = document.createElement('div');\n",
              "          docLink.innerHTML = docLinkHtml;\n",
              "          element.appendChild(docLink);\n",
              "        }\n",
              "      </script>\n",
              "    </div>\n",
              "  </div>\n",
              "  "
            ]
          },
          "metadata": {},
          "execution_count": 310
        }
      ]
    },
    {
      "cell_type": "code",
      "source": [
        "df_consumption.info()"
      ],
      "metadata": {
        "colab": {
          "base_uri": "https://localhost:8080/"
        },
        "id": "mGNdr33zGCod",
        "outputId": "afeb24fe-d98a-4207-f2bd-af981c68d91e"
      },
      "execution_count": 311,
      "outputs": [
        {
          "output_type": "stream",
          "name": "stdout",
          "text": [
            "<class 'pandas.core.frame.DataFrame'>\n",
            "RangeIndex: 35952 entries, 0 to 35951\n",
            "Data columns (total 4 columns):\n",
            " #   Column       Non-Null Count  Dtype         \n",
            "---  ------       --------------  -----         \n",
            " 0   StartDate    35952 non-null  datetime64[ns]\n",
            " 1   Value (kWh)  35952 non-null  float64       \n",
            " 2   day_of_week  35952 non-null  int64         \n",
            " 3   notes        35952 non-null  object        \n",
            "dtypes: datetime64[ns](1), float64(1), int64(1), object(1)\n",
            "memory usage: 1.1+ MB\n"
          ]
        }
      ]
    },
    {
      "cell_type": "code",
      "source": [
        "#Verificando registros duplicados\n",
        "print(f\"Valores duplicados: {df_consumption.duplicated().sum()}\")"
      ],
      "metadata": {
        "colab": {
          "base_uri": "https://localhost:8080/"
        },
        "id": "1eb4acShIGP7",
        "outputId": "b551c0ce-1b17-4b7b-e263-29dc10614263"
      },
      "execution_count": 312,
      "outputs": [
        {
          "output_type": "stream",
          "name": "stdout",
          "text": [
            "Valores duplicados: 0\n"
          ]
        }
      ]
    },
    {
      "cell_type": "code",
      "source": [
        "df_consumption.notes.unique()"
      ],
      "metadata": {
        "colab": {
          "base_uri": "https://localhost:8080/"
        },
        "id": "Kvl5Td_OI2wI",
        "outputId": "153f71a4-43fb-408b-f100-35d79ab92b12"
      },
      "execution_count": 313,
      "outputs": [
        {
          "output_type": "execute_result",
          "data": {
            "text/plain": [
              "array(['weekday', 'weekend', 'vacation', 'COVID_lockdown'], dtype=object)"
            ]
          },
          "metadata": {},
          "execution_count": 313
        }
      ]
    },
    {
      "cell_type": "code",
      "source": [
        "df_consumption.drop(columns=['notes','day_of_week'], inplace=True)"
      ],
      "metadata": {
        "id": "kdOZYqS8HARb"
      },
      "execution_count": 314,
      "outputs": []
    },
    {
      "cell_type": "code",
      "source": [
        "df_consumption.sort_values(by='StartDate').head(40)"
      ],
      "metadata": {
        "colab": {
          "base_uri": "https://localhost:8080/",
          "height": 1000
        },
        "id": "-79AYVF4LRx1",
        "outputId": "9740fe4f-1a4b-4ac0-cdf1-b208758e70c3"
      },
      "execution_count": 322,
      "outputs": [
        {
          "output_type": "execute_result",
          "data": {
            "text/plain": [
              "              StartDate  consumption\n",
              "0   2016-01-06 00:00:00        1.057\n",
              "1   2016-01-06 01:00:00        1.171\n",
              "2   2016-01-06 02:00:00        0.560\n",
              "3   2016-01-06 03:00:00        0.828\n",
              "4   2016-01-06 04:00:00        0.932\n",
              "5   2016-01-06 05:00:00        0.333\n",
              "6   2016-01-06 06:00:00        0.462\n",
              "7   2016-01-06 07:00:00        0.493\n",
              "8   2016-01-06 08:00:00        0.325\n",
              "9   2016-01-06 09:00:00        0.294\n",
              "10  2016-01-06 10:00:00        0.273\n",
              "11  2016-01-06 11:00:00        0.723\n",
              "12  2016-01-06 12:00:00        0.426\n",
              "13  2016-01-06 13:00:00        0.421\n",
              "14  2016-01-06 14:00:00        0.447\n",
              "15  2016-01-06 15:00:00        0.496\n",
              "16  2016-01-06 16:00:00        0.523\n",
              "17  2016-01-06 17:00:00        3.647\n",
              "18  2016-01-06 18:00:00        3.018\n",
              "19  2016-01-06 19:00:00        3.326\n",
              "20  2016-01-06 20:00:00        2.175\n",
              "21  2016-01-06 21:00:00        2.973\n",
              "22  2016-01-06 22:00:00        2.994\n",
              "23  2016-01-06 23:00:00        1.794\n",
              "720 2016-01-07 00:00:00        1.572\n",
              "721 2016-01-07 01:00:00        1.010\n",
              "722 2016-01-07 02:00:00        1.260\n",
              "723 2016-01-07 03:00:00        1.257\n",
              "724 2016-01-07 04:00:00        0.921\n",
              "725 2016-01-07 05:00:00        0.724\n",
              "726 2016-01-07 06:00:00        0.572\n",
              "727 2016-01-07 07:00:00        0.569\n",
              "728 2016-01-07 08:00:00        0.347\n",
              "729 2016-01-07 09:00:00        0.334\n",
              "730 2016-01-07 10:00:00        0.413\n",
              "731 2016-01-07 11:00:00        0.424\n",
              "732 2016-01-07 12:00:00        0.319\n",
              "733 2016-01-07 13:00:00        3.314\n",
              "734 2016-01-07 14:00:00        5.139\n",
              "735 2016-01-07 15:00:00        4.268"
            ],
            "text/html": [
              "\n",
              "  <div id=\"df-44c88840-a45b-4a6f-a1b7-c44631e18c14\">\n",
              "    <div class=\"colab-df-container\">\n",
              "      <div>\n",
              "<style scoped>\n",
              "    .dataframe tbody tr th:only-of-type {\n",
              "        vertical-align: middle;\n",
              "    }\n",
              "\n",
              "    .dataframe tbody tr th {\n",
              "        vertical-align: top;\n",
              "    }\n",
              "\n",
              "    .dataframe thead th {\n",
              "        text-align: right;\n",
              "    }\n",
              "</style>\n",
              "<table border=\"1\" class=\"dataframe\">\n",
              "  <thead>\n",
              "    <tr style=\"text-align: right;\">\n",
              "      <th></th>\n",
              "      <th>StartDate</th>\n",
              "      <th>consumption</th>\n",
              "    </tr>\n",
              "  </thead>\n",
              "  <tbody>\n",
              "    <tr>\n",
              "      <th>0</th>\n",
              "      <td>2016-01-06 00:00:00</td>\n",
              "      <td>1.057</td>\n",
              "    </tr>\n",
              "    <tr>\n",
              "      <th>1</th>\n",
              "      <td>2016-01-06 01:00:00</td>\n",
              "      <td>1.171</td>\n",
              "    </tr>\n",
              "    <tr>\n",
              "      <th>2</th>\n",
              "      <td>2016-01-06 02:00:00</td>\n",
              "      <td>0.560</td>\n",
              "    </tr>\n",
              "    <tr>\n",
              "      <th>3</th>\n",
              "      <td>2016-01-06 03:00:00</td>\n",
              "      <td>0.828</td>\n",
              "    </tr>\n",
              "    <tr>\n",
              "      <th>4</th>\n",
              "      <td>2016-01-06 04:00:00</td>\n",
              "      <td>0.932</td>\n",
              "    </tr>\n",
              "    <tr>\n",
              "      <th>5</th>\n",
              "      <td>2016-01-06 05:00:00</td>\n",
              "      <td>0.333</td>\n",
              "    </tr>\n",
              "    <tr>\n",
              "      <th>6</th>\n",
              "      <td>2016-01-06 06:00:00</td>\n",
              "      <td>0.462</td>\n",
              "    </tr>\n",
              "    <tr>\n",
              "      <th>7</th>\n",
              "      <td>2016-01-06 07:00:00</td>\n",
              "      <td>0.493</td>\n",
              "    </tr>\n",
              "    <tr>\n",
              "      <th>8</th>\n",
              "      <td>2016-01-06 08:00:00</td>\n",
              "      <td>0.325</td>\n",
              "    </tr>\n",
              "    <tr>\n",
              "      <th>9</th>\n",
              "      <td>2016-01-06 09:00:00</td>\n",
              "      <td>0.294</td>\n",
              "    </tr>\n",
              "    <tr>\n",
              "      <th>10</th>\n",
              "      <td>2016-01-06 10:00:00</td>\n",
              "      <td>0.273</td>\n",
              "    </tr>\n",
              "    <tr>\n",
              "      <th>11</th>\n",
              "      <td>2016-01-06 11:00:00</td>\n",
              "      <td>0.723</td>\n",
              "    </tr>\n",
              "    <tr>\n",
              "      <th>12</th>\n",
              "      <td>2016-01-06 12:00:00</td>\n",
              "      <td>0.426</td>\n",
              "    </tr>\n",
              "    <tr>\n",
              "      <th>13</th>\n",
              "      <td>2016-01-06 13:00:00</td>\n",
              "      <td>0.421</td>\n",
              "    </tr>\n",
              "    <tr>\n",
              "      <th>14</th>\n",
              "      <td>2016-01-06 14:00:00</td>\n",
              "      <td>0.447</td>\n",
              "    </tr>\n",
              "    <tr>\n",
              "      <th>15</th>\n",
              "      <td>2016-01-06 15:00:00</td>\n",
              "      <td>0.496</td>\n",
              "    </tr>\n",
              "    <tr>\n",
              "      <th>16</th>\n",
              "      <td>2016-01-06 16:00:00</td>\n",
              "      <td>0.523</td>\n",
              "    </tr>\n",
              "    <tr>\n",
              "      <th>17</th>\n",
              "      <td>2016-01-06 17:00:00</td>\n",
              "      <td>3.647</td>\n",
              "    </tr>\n",
              "    <tr>\n",
              "      <th>18</th>\n",
              "      <td>2016-01-06 18:00:00</td>\n",
              "      <td>3.018</td>\n",
              "    </tr>\n",
              "    <tr>\n",
              "      <th>19</th>\n",
              "      <td>2016-01-06 19:00:00</td>\n",
              "      <td>3.326</td>\n",
              "    </tr>\n",
              "    <tr>\n",
              "      <th>20</th>\n",
              "      <td>2016-01-06 20:00:00</td>\n",
              "      <td>2.175</td>\n",
              "    </tr>\n",
              "    <tr>\n",
              "      <th>21</th>\n",
              "      <td>2016-01-06 21:00:00</td>\n",
              "      <td>2.973</td>\n",
              "    </tr>\n",
              "    <tr>\n",
              "      <th>22</th>\n",
              "      <td>2016-01-06 22:00:00</td>\n",
              "      <td>2.994</td>\n",
              "    </tr>\n",
              "    <tr>\n",
              "      <th>23</th>\n",
              "      <td>2016-01-06 23:00:00</td>\n",
              "      <td>1.794</td>\n",
              "    </tr>\n",
              "    <tr>\n",
              "      <th>720</th>\n",
              "      <td>2016-01-07 00:00:00</td>\n",
              "      <td>1.572</td>\n",
              "    </tr>\n",
              "    <tr>\n",
              "      <th>721</th>\n",
              "      <td>2016-01-07 01:00:00</td>\n",
              "      <td>1.010</td>\n",
              "    </tr>\n",
              "    <tr>\n",
              "      <th>722</th>\n",
              "      <td>2016-01-07 02:00:00</td>\n",
              "      <td>1.260</td>\n",
              "    </tr>\n",
              "    <tr>\n",
              "      <th>723</th>\n",
              "      <td>2016-01-07 03:00:00</td>\n",
              "      <td>1.257</td>\n",
              "    </tr>\n",
              "    <tr>\n",
              "      <th>724</th>\n",
              "      <td>2016-01-07 04:00:00</td>\n",
              "      <td>0.921</td>\n",
              "    </tr>\n",
              "    <tr>\n",
              "      <th>725</th>\n",
              "      <td>2016-01-07 05:00:00</td>\n",
              "      <td>0.724</td>\n",
              "    </tr>\n",
              "    <tr>\n",
              "      <th>726</th>\n",
              "      <td>2016-01-07 06:00:00</td>\n",
              "      <td>0.572</td>\n",
              "    </tr>\n",
              "    <tr>\n",
              "      <th>727</th>\n",
              "      <td>2016-01-07 07:00:00</td>\n",
              "      <td>0.569</td>\n",
              "    </tr>\n",
              "    <tr>\n",
              "      <th>728</th>\n",
              "      <td>2016-01-07 08:00:00</td>\n",
              "      <td>0.347</td>\n",
              "    </tr>\n",
              "    <tr>\n",
              "      <th>729</th>\n",
              "      <td>2016-01-07 09:00:00</td>\n",
              "      <td>0.334</td>\n",
              "    </tr>\n",
              "    <tr>\n",
              "      <th>730</th>\n",
              "      <td>2016-01-07 10:00:00</td>\n",
              "      <td>0.413</td>\n",
              "    </tr>\n",
              "    <tr>\n",
              "      <th>731</th>\n",
              "      <td>2016-01-07 11:00:00</td>\n",
              "      <td>0.424</td>\n",
              "    </tr>\n",
              "    <tr>\n",
              "      <th>732</th>\n",
              "      <td>2016-01-07 12:00:00</td>\n",
              "      <td>0.319</td>\n",
              "    </tr>\n",
              "    <tr>\n",
              "      <th>733</th>\n",
              "      <td>2016-01-07 13:00:00</td>\n",
              "      <td>3.314</td>\n",
              "    </tr>\n",
              "    <tr>\n",
              "      <th>734</th>\n",
              "      <td>2016-01-07 14:00:00</td>\n",
              "      <td>5.139</td>\n",
              "    </tr>\n",
              "    <tr>\n",
              "      <th>735</th>\n",
              "      <td>2016-01-07 15:00:00</td>\n",
              "      <td>4.268</td>\n",
              "    </tr>\n",
              "  </tbody>\n",
              "</table>\n",
              "</div>\n",
              "      <button class=\"colab-df-convert\" onclick=\"convertToInteractive('df-44c88840-a45b-4a6f-a1b7-c44631e18c14')\"\n",
              "              title=\"Convert this dataframe to an interactive table.\"\n",
              "              style=\"display:none;\">\n",
              "        \n",
              "  <svg xmlns=\"http://www.w3.org/2000/svg\" height=\"24px\"viewBox=\"0 0 24 24\"\n",
              "       width=\"24px\">\n",
              "    <path d=\"M0 0h24v24H0V0z\" fill=\"none\"/>\n",
              "    <path d=\"M18.56 5.44l.94 2.06.94-2.06 2.06-.94-2.06-.94-.94-2.06-.94 2.06-2.06.94zm-11 1L8.5 8.5l.94-2.06 2.06-.94-2.06-.94L8.5 2.5l-.94 2.06-2.06.94zm10 10l.94 2.06.94-2.06 2.06-.94-2.06-.94-.94-2.06-.94 2.06-2.06.94z\"/><path d=\"M17.41 7.96l-1.37-1.37c-.4-.4-.92-.59-1.43-.59-.52 0-1.04.2-1.43.59L10.3 9.45l-7.72 7.72c-.78.78-.78 2.05 0 2.83L4 21.41c.39.39.9.59 1.41.59.51 0 1.02-.2 1.41-.59l7.78-7.78 2.81-2.81c.8-.78.8-2.07 0-2.86zM5.41 20L4 18.59l7.72-7.72 1.47 1.35L5.41 20z\"/>\n",
              "  </svg>\n",
              "      </button>\n",
              "      \n",
              "  <style>\n",
              "    .colab-df-container {\n",
              "      display:flex;\n",
              "      flex-wrap:wrap;\n",
              "      gap: 12px;\n",
              "    }\n",
              "\n",
              "    .colab-df-convert {\n",
              "      background-color: #E8F0FE;\n",
              "      border: none;\n",
              "      border-radius: 50%;\n",
              "      cursor: pointer;\n",
              "      display: none;\n",
              "      fill: #1967D2;\n",
              "      height: 32px;\n",
              "      padding: 0 0 0 0;\n",
              "      width: 32px;\n",
              "    }\n",
              "\n",
              "    .colab-df-convert:hover {\n",
              "      background-color: #E2EBFA;\n",
              "      box-shadow: 0px 1px 2px rgba(60, 64, 67, 0.3), 0px 1px 3px 1px rgba(60, 64, 67, 0.15);\n",
              "      fill: #174EA6;\n",
              "    }\n",
              "\n",
              "    [theme=dark] .colab-df-convert {\n",
              "      background-color: #3B4455;\n",
              "      fill: #D2E3FC;\n",
              "    }\n",
              "\n",
              "    [theme=dark] .colab-df-convert:hover {\n",
              "      background-color: #434B5C;\n",
              "      box-shadow: 0px 1px 3px 1px rgba(0, 0, 0, 0.15);\n",
              "      filter: drop-shadow(0px 1px 2px rgba(0, 0, 0, 0.3));\n",
              "      fill: #FFFFFF;\n",
              "    }\n",
              "  </style>\n",
              "\n",
              "      <script>\n",
              "        const buttonEl =\n",
              "          document.querySelector('#df-44c88840-a45b-4a6f-a1b7-c44631e18c14 button.colab-df-convert');\n",
              "        buttonEl.style.display =\n",
              "          google.colab.kernel.accessAllowed ? 'block' : 'none';\n",
              "\n",
              "        async function convertToInteractive(key) {\n",
              "          const element = document.querySelector('#df-44c88840-a45b-4a6f-a1b7-c44631e18c14');\n",
              "          const dataTable =\n",
              "            await google.colab.kernel.invokeFunction('convertToInteractive',\n",
              "                                                     [key], {});\n",
              "          if (!dataTable) return;\n",
              "\n",
              "          const docLinkHtml = 'Like what you see? Visit the ' +\n",
              "            '<a target=\"_blank\" href=https://colab.research.google.com/notebooks/data_table.ipynb>data table notebook</a>'\n",
              "            + ' to learn more about interactive tables.';\n",
              "          element.innerHTML = '';\n",
              "          dataTable['output_type'] = 'display_data';\n",
              "          await google.colab.output.renderOutput(dataTable, element);\n",
              "          const docLink = document.createElement('div');\n",
              "          docLink.innerHTML = docLinkHtml;\n",
              "          element.appendChild(docLink);\n",
              "        }\n",
              "      </script>\n",
              "    </div>\n",
              "  </div>\n",
              "  "
            ]
          },
          "metadata": {},
          "execution_count": 322
        }
      ]
    },
    {
      "cell_type": "code",
      "source": [
        "#Renomeando a coluna de consumo\n",
        "df_consumption.rename(columns={'Value (kWh)': 'consumption'}, inplace=True)"
      ],
      "metadata": {
        "id": "WyQaZ2OjMqEM"
      },
      "execution_count": 316,
      "outputs": []
    },
    {
      "cell_type": "code",
      "source": [
        "df_consumption = df_consumption.groupby().sum().reset_index()"
      ],
      "metadata": {
        "id": "C1cX4yiPi2BT"
      },
      "execution_count": 295,
      "outputs": []
    },
    {
      "cell_type": "code",
      "source": [
        "df_consumption.StartDate = pd.to_datetime(df_consumption.StartDate)"
      ],
      "metadata": {
        "id": "zyEumApLl70o"
      },
      "execution_count": 296,
      "outputs": []
    },
    {
      "cell_type": "code",
      "source": [
        "df_consumption.info()"
      ],
      "metadata": {
        "colab": {
          "base_uri": "https://localhost:8080/"
        },
        "id": "t35Smds6nCBA",
        "outputId": "9fa099f8-67ad-40e9-b308-cebd1a9c077d"
      },
      "execution_count": 297,
      "outputs": [
        {
          "output_type": "stream",
          "name": "stdout",
          "text": [
            "<class 'pandas.core.frame.DataFrame'>\n",
            "RangeIndex: 1498 entries, 0 to 1497\n",
            "Data columns (total 2 columns):\n",
            " #   Column       Non-Null Count  Dtype         \n",
            "---  ------       --------------  -----         \n",
            " 0   StartDate    1498 non-null   datetime64[ns]\n",
            " 1   consumption  1498 non-null   float64       \n",
            "dtypes: datetime64[ns](1), float64(1)\n",
            "memory usage: 23.5 KB\n"
          ]
        }
      ]
    },
    {
      "cell_type": "code",
      "source": [
        "df_consumption = df_consumption.sort_values(by='StartDate')"
      ],
      "metadata": {
        "id": "ingEi9f_m__R"
      },
      "execution_count": 301,
      "outputs": []
    },
    {
      "cell_type": "code",
      "source": [
        "df_consumption.describe()"
      ],
      "metadata": {
        "colab": {
          "base_uri": "https://localhost:8080/",
          "height": 300
        },
        "id": "M54w73V1Rq5X",
        "outputId": "722db168-1517-4329-eebc-51ea36454f23"
      },
      "execution_count": 304,
      "outputs": [
        {
          "output_type": "execute_result",
          "data": {
            "text/plain": [
              "       consumption\n",
              "count  1498.000000\n",
              "mean     21.399148\n",
              "std      12.635139\n",
              "min       4.610000\n",
              "25%      10.828750\n",
              "50%      16.833500\n",
              "75%      30.726250\n",
              "max      78.225300"
            ],
            "text/html": [
              "\n",
              "  <div id=\"df-25ad4eb8-5b75-4451-aec5-e0d4d707e6fa\">\n",
              "    <div class=\"colab-df-container\">\n",
              "      <div>\n",
              "<style scoped>\n",
              "    .dataframe tbody tr th:only-of-type {\n",
              "        vertical-align: middle;\n",
              "    }\n",
              "\n",
              "    .dataframe tbody tr th {\n",
              "        vertical-align: top;\n",
              "    }\n",
              "\n",
              "    .dataframe thead th {\n",
              "        text-align: right;\n",
              "    }\n",
              "</style>\n",
              "<table border=\"1\" class=\"dataframe\">\n",
              "  <thead>\n",
              "    <tr style=\"text-align: right;\">\n",
              "      <th></th>\n",
              "      <th>consumption</th>\n",
              "    </tr>\n",
              "  </thead>\n",
              "  <tbody>\n",
              "    <tr>\n",
              "      <th>count</th>\n",
              "      <td>1498.000000</td>\n",
              "    </tr>\n",
              "    <tr>\n",
              "      <th>mean</th>\n",
              "      <td>21.399148</td>\n",
              "    </tr>\n",
              "    <tr>\n",
              "      <th>std</th>\n",
              "      <td>12.635139</td>\n",
              "    </tr>\n",
              "    <tr>\n",
              "      <th>min</th>\n",
              "      <td>4.610000</td>\n",
              "    </tr>\n",
              "    <tr>\n",
              "      <th>25%</th>\n",
              "      <td>10.828750</td>\n",
              "    </tr>\n",
              "    <tr>\n",
              "      <th>50%</th>\n",
              "      <td>16.833500</td>\n",
              "    </tr>\n",
              "    <tr>\n",
              "      <th>75%</th>\n",
              "      <td>30.726250</td>\n",
              "    </tr>\n",
              "    <tr>\n",
              "      <th>max</th>\n",
              "      <td>78.225300</td>\n",
              "    </tr>\n",
              "  </tbody>\n",
              "</table>\n",
              "</div>\n",
              "      <button class=\"colab-df-convert\" onclick=\"convertToInteractive('df-25ad4eb8-5b75-4451-aec5-e0d4d707e6fa')\"\n",
              "              title=\"Convert this dataframe to an interactive table.\"\n",
              "              style=\"display:none;\">\n",
              "        \n",
              "  <svg xmlns=\"http://www.w3.org/2000/svg\" height=\"24px\"viewBox=\"0 0 24 24\"\n",
              "       width=\"24px\">\n",
              "    <path d=\"M0 0h24v24H0V0z\" fill=\"none\"/>\n",
              "    <path d=\"M18.56 5.44l.94 2.06.94-2.06 2.06-.94-2.06-.94-.94-2.06-.94 2.06-2.06.94zm-11 1L8.5 8.5l.94-2.06 2.06-.94-2.06-.94L8.5 2.5l-.94 2.06-2.06.94zm10 10l.94 2.06.94-2.06 2.06-.94-2.06-.94-.94-2.06-.94 2.06-2.06.94z\"/><path d=\"M17.41 7.96l-1.37-1.37c-.4-.4-.92-.59-1.43-.59-.52 0-1.04.2-1.43.59L10.3 9.45l-7.72 7.72c-.78.78-.78 2.05 0 2.83L4 21.41c.39.39.9.59 1.41.59.51 0 1.02-.2 1.41-.59l7.78-7.78 2.81-2.81c.8-.78.8-2.07 0-2.86zM5.41 20L4 18.59l7.72-7.72 1.47 1.35L5.41 20z\"/>\n",
              "  </svg>\n",
              "      </button>\n",
              "      \n",
              "  <style>\n",
              "    .colab-df-container {\n",
              "      display:flex;\n",
              "      flex-wrap:wrap;\n",
              "      gap: 12px;\n",
              "    }\n",
              "\n",
              "    .colab-df-convert {\n",
              "      background-color: #E8F0FE;\n",
              "      border: none;\n",
              "      border-radius: 50%;\n",
              "      cursor: pointer;\n",
              "      display: none;\n",
              "      fill: #1967D2;\n",
              "      height: 32px;\n",
              "      padding: 0 0 0 0;\n",
              "      width: 32px;\n",
              "    }\n",
              "\n",
              "    .colab-df-convert:hover {\n",
              "      background-color: #E2EBFA;\n",
              "      box-shadow: 0px 1px 2px rgba(60, 64, 67, 0.3), 0px 1px 3px 1px rgba(60, 64, 67, 0.15);\n",
              "      fill: #174EA6;\n",
              "    }\n",
              "\n",
              "    [theme=dark] .colab-df-convert {\n",
              "      background-color: #3B4455;\n",
              "      fill: #D2E3FC;\n",
              "    }\n",
              "\n",
              "    [theme=dark] .colab-df-convert:hover {\n",
              "      background-color: #434B5C;\n",
              "      box-shadow: 0px 1px 3px 1px rgba(0, 0, 0, 0.15);\n",
              "      filter: drop-shadow(0px 1px 2px rgba(0, 0, 0, 0.3));\n",
              "      fill: #FFFFFF;\n",
              "    }\n",
              "  </style>\n",
              "\n",
              "      <script>\n",
              "        const buttonEl =\n",
              "          document.querySelector('#df-25ad4eb8-5b75-4451-aec5-e0d4d707e6fa button.colab-df-convert');\n",
              "        buttonEl.style.display =\n",
              "          google.colab.kernel.accessAllowed ? 'block' : 'none';\n",
              "\n",
              "        async function convertToInteractive(key) {\n",
              "          const element = document.querySelector('#df-25ad4eb8-5b75-4451-aec5-e0d4d707e6fa');\n",
              "          const dataTable =\n",
              "            await google.colab.kernel.invokeFunction('convertToInteractive',\n",
              "                                                     [key], {});\n",
              "          if (!dataTable) return;\n",
              "\n",
              "          const docLinkHtml = 'Like what you see? Visit the ' +\n",
              "            '<a target=\"_blank\" href=https://colab.research.google.com/notebooks/data_table.ipynb>data table notebook</a>'\n",
              "            + ' to learn more about interactive tables.';\n",
              "          element.innerHTML = '';\n",
              "          dataTable['output_type'] = 'display_data';\n",
              "          await google.colab.output.renderOutput(dataTable, element);\n",
              "          const docLink = document.createElement('div');\n",
              "          docLink.innerHTML = docLinkHtml;\n",
              "          element.appendChild(docLink);\n",
              "        }\n",
              "      </script>\n",
              "    </div>\n",
              "  </div>\n",
              "  "
            ]
          },
          "metadata": {},
          "execution_count": 304
        }
      ]
    },
    {
      "cell_type": "markdown",
      "source": [
        "####Dados sobre o tempo"
      ],
      "metadata": {
        "id": "ecR4Dm8hFr3u"
      }
    },
    {
      "cell_type": "code",
      "source": [
        "#Dados sobre tempo (temperatura, pressão, preciptação...)\n",
        "df_weather = pd.read_csv('/content/weather_2016_2020_daily.csv')"
      ],
      "metadata": {
        "id": "Wuu8Tw9v6H_n"
      },
      "execution_count": 79,
      "outputs": []
    },
    {
      "cell_type": "code",
      "source": [
        "df_weather.head()"
      ],
      "metadata": {
        "colab": {
          "base_uri": "https://localhost:8080/",
          "height": 357
        },
        "id": "MRw3RgY6ITSF",
        "outputId": "5d8eac14-6f13-4682-d64a-5492cee91e13"
      },
      "execution_count": 84,
      "outputs": [
        {
          "output_type": "execute_result",
          "data": {
            "text/plain": [
              "         Date  Day  Temp_max  Temp_avg  Temp_min  Dew_max  Dew_avg  Dew_min  \\\n",
              "0  2016-01-06    1        85      74.8        68       74     71.4       66   \n",
              "1  2016-02-06    2        76      71.2        66       74     70.3       66   \n",
              "2  2016-03-06    3        79      72.1        68       72     70.0       68   \n",
              "3  2016-04-06    4        76      71.2        69       73     70.0       66   \n",
              "4  2016-05-06    5        82      73.8        68       72     70.0       68   \n",
              "\n",
              "   Hum_max  Hum_avg  Hum_min  Wind_max  Wind_avg  Wind_min  Press_max  \\\n",
              "0      100     89.4       65        21       9.5         0       29.8   \n",
              "1      100     96.8       89        18       7.8         0       29.8   \n",
              "2      100     93.6       72        18       4.7         0       29.8   \n",
              "3      100     96.1       85        20       7.0         0       29.8   \n",
              "4      100     88.7       62        17       7.7         0       29.7   \n",
              "\n",
              "   Press_avg  Press_min  Precipit  day_of_week  \n",
              "0       29.8       29.7      0.00            2  \n",
              "1       29.8       29.7      4.33            5  \n",
              "2       29.8       29.7      3.18            6  \n",
              "3       29.7       29.7      2.37            2  \n",
              "4       29.7       29.7      0.39            4  "
            ],
            "text/html": [
              "\n",
              "  <div id=\"df-bd9aca84-8efa-462c-acd2-4841434bc3a2\">\n",
              "    <div class=\"colab-df-container\">\n",
              "      <div>\n",
              "<style scoped>\n",
              "    .dataframe tbody tr th:only-of-type {\n",
              "        vertical-align: middle;\n",
              "    }\n",
              "\n",
              "    .dataframe tbody tr th {\n",
              "        vertical-align: top;\n",
              "    }\n",
              "\n",
              "    .dataframe thead th {\n",
              "        text-align: right;\n",
              "    }\n",
              "</style>\n",
              "<table border=\"1\" class=\"dataframe\">\n",
              "  <thead>\n",
              "    <tr style=\"text-align: right;\">\n",
              "      <th></th>\n",
              "      <th>Date</th>\n",
              "      <th>Day</th>\n",
              "      <th>Temp_max</th>\n",
              "      <th>Temp_avg</th>\n",
              "      <th>Temp_min</th>\n",
              "      <th>Dew_max</th>\n",
              "      <th>Dew_avg</th>\n",
              "      <th>Dew_min</th>\n",
              "      <th>Hum_max</th>\n",
              "      <th>Hum_avg</th>\n",
              "      <th>Hum_min</th>\n",
              "      <th>Wind_max</th>\n",
              "      <th>Wind_avg</th>\n",
              "      <th>Wind_min</th>\n",
              "      <th>Press_max</th>\n",
              "      <th>Press_avg</th>\n",
              "      <th>Press_min</th>\n",
              "      <th>Precipit</th>\n",
              "      <th>day_of_week</th>\n",
              "    </tr>\n",
              "  </thead>\n",
              "  <tbody>\n",
              "    <tr>\n",
              "      <th>0</th>\n",
              "      <td>2016-01-06</td>\n",
              "      <td>1</td>\n",
              "      <td>85</td>\n",
              "      <td>74.8</td>\n",
              "      <td>68</td>\n",
              "      <td>74</td>\n",
              "      <td>71.4</td>\n",
              "      <td>66</td>\n",
              "      <td>100</td>\n",
              "      <td>89.4</td>\n",
              "      <td>65</td>\n",
              "      <td>21</td>\n",
              "      <td>9.5</td>\n",
              "      <td>0</td>\n",
              "      <td>29.8</td>\n",
              "      <td>29.8</td>\n",
              "      <td>29.7</td>\n",
              "      <td>0.00</td>\n",
              "      <td>2</td>\n",
              "    </tr>\n",
              "    <tr>\n",
              "      <th>1</th>\n",
              "      <td>2016-02-06</td>\n",
              "      <td>2</td>\n",
              "      <td>76</td>\n",
              "      <td>71.2</td>\n",
              "      <td>66</td>\n",
              "      <td>74</td>\n",
              "      <td>70.3</td>\n",
              "      <td>66</td>\n",
              "      <td>100</td>\n",
              "      <td>96.8</td>\n",
              "      <td>89</td>\n",
              "      <td>18</td>\n",
              "      <td>7.8</td>\n",
              "      <td>0</td>\n",
              "      <td>29.8</td>\n",
              "      <td>29.8</td>\n",
              "      <td>29.7</td>\n",
              "      <td>4.33</td>\n",
              "      <td>5</td>\n",
              "    </tr>\n",
              "    <tr>\n",
              "      <th>2</th>\n",
              "      <td>2016-03-06</td>\n",
              "      <td>3</td>\n",
              "      <td>79</td>\n",
              "      <td>72.1</td>\n",
              "      <td>68</td>\n",
              "      <td>72</td>\n",
              "      <td>70.0</td>\n",
              "      <td>68</td>\n",
              "      <td>100</td>\n",
              "      <td>93.6</td>\n",
              "      <td>72</td>\n",
              "      <td>18</td>\n",
              "      <td>4.7</td>\n",
              "      <td>0</td>\n",
              "      <td>29.8</td>\n",
              "      <td>29.8</td>\n",
              "      <td>29.7</td>\n",
              "      <td>3.18</td>\n",
              "      <td>6</td>\n",
              "    </tr>\n",
              "    <tr>\n",
              "      <th>3</th>\n",
              "      <td>2016-04-06</td>\n",
              "      <td>4</td>\n",
              "      <td>76</td>\n",
              "      <td>71.2</td>\n",
              "      <td>69</td>\n",
              "      <td>73</td>\n",
              "      <td>70.0</td>\n",
              "      <td>66</td>\n",
              "      <td>100</td>\n",
              "      <td>96.1</td>\n",
              "      <td>85</td>\n",
              "      <td>20</td>\n",
              "      <td>7.0</td>\n",
              "      <td>0</td>\n",
              "      <td>29.8</td>\n",
              "      <td>29.7</td>\n",
              "      <td>29.7</td>\n",
              "      <td>2.37</td>\n",
              "      <td>2</td>\n",
              "    </tr>\n",
              "    <tr>\n",
              "      <th>4</th>\n",
              "      <td>2016-05-06</td>\n",
              "      <td>5</td>\n",
              "      <td>82</td>\n",
              "      <td>73.8</td>\n",
              "      <td>68</td>\n",
              "      <td>72</td>\n",
              "      <td>70.0</td>\n",
              "      <td>68</td>\n",
              "      <td>100</td>\n",
              "      <td>88.7</td>\n",
              "      <td>62</td>\n",
              "      <td>17</td>\n",
              "      <td>7.7</td>\n",
              "      <td>0</td>\n",
              "      <td>29.7</td>\n",
              "      <td>29.7</td>\n",
              "      <td>29.7</td>\n",
              "      <td>0.39</td>\n",
              "      <td>4</td>\n",
              "    </tr>\n",
              "  </tbody>\n",
              "</table>\n",
              "</div>\n",
              "      <button class=\"colab-df-convert\" onclick=\"convertToInteractive('df-bd9aca84-8efa-462c-acd2-4841434bc3a2')\"\n",
              "              title=\"Convert this dataframe to an interactive table.\"\n",
              "              style=\"display:none;\">\n",
              "        \n",
              "  <svg xmlns=\"http://www.w3.org/2000/svg\" height=\"24px\"viewBox=\"0 0 24 24\"\n",
              "       width=\"24px\">\n",
              "    <path d=\"M0 0h24v24H0V0z\" fill=\"none\"/>\n",
              "    <path d=\"M18.56 5.44l.94 2.06.94-2.06 2.06-.94-2.06-.94-.94-2.06-.94 2.06-2.06.94zm-11 1L8.5 8.5l.94-2.06 2.06-.94-2.06-.94L8.5 2.5l-.94 2.06-2.06.94zm10 10l.94 2.06.94-2.06 2.06-.94-2.06-.94-.94-2.06-.94 2.06-2.06.94z\"/><path d=\"M17.41 7.96l-1.37-1.37c-.4-.4-.92-.59-1.43-.59-.52 0-1.04.2-1.43.59L10.3 9.45l-7.72 7.72c-.78.78-.78 2.05 0 2.83L4 21.41c.39.39.9.59 1.41.59.51 0 1.02-.2 1.41-.59l7.78-7.78 2.81-2.81c.8-.78.8-2.07 0-2.86zM5.41 20L4 18.59l7.72-7.72 1.47 1.35L5.41 20z\"/>\n",
              "  </svg>\n",
              "      </button>\n",
              "      \n",
              "  <style>\n",
              "    .colab-df-container {\n",
              "      display:flex;\n",
              "      flex-wrap:wrap;\n",
              "      gap: 12px;\n",
              "    }\n",
              "\n",
              "    .colab-df-convert {\n",
              "      background-color: #E8F0FE;\n",
              "      border: none;\n",
              "      border-radius: 50%;\n",
              "      cursor: pointer;\n",
              "      display: none;\n",
              "      fill: #1967D2;\n",
              "      height: 32px;\n",
              "      padding: 0 0 0 0;\n",
              "      width: 32px;\n",
              "    }\n",
              "\n",
              "    .colab-df-convert:hover {\n",
              "      background-color: #E2EBFA;\n",
              "      box-shadow: 0px 1px 2px rgba(60, 64, 67, 0.3), 0px 1px 3px 1px rgba(60, 64, 67, 0.15);\n",
              "      fill: #174EA6;\n",
              "    }\n",
              "\n",
              "    [theme=dark] .colab-df-convert {\n",
              "      background-color: #3B4455;\n",
              "      fill: #D2E3FC;\n",
              "    }\n",
              "\n",
              "    [theme=dark] .colab-df-convert:hover {\n",
              "      background-color: #434B5C;\n",
              "      box-shadow: 0px 1px 3px 1px rgba(0, 0, 0, 0.15);\n",
              "      filter: drop-shadow(0px 1px 2px rgba(0, 0, 0, 0.3));\n",
              "      fill: #FFFFFF;\n",
              "    }\n",
              "  </style>\n",
              "\n",
              "      <script>\n",
              "        const buttonEl =\n",
              "          document.querySelector('#df-bd9aca84-8efa-462c-acd2-4841434bc3a2 button.colab-df-convert');\n",
              "        buttonEl.style.display =\n",
              "          google.colab.kernel.accessAllowed ? 'block' : 'none';\n",
              "\n",
              "        async function convertToInteractive(key) {\n",
              "          const element = document.querySelector('#df-bd9aca84-8efa-462c-acd2-4841434bc3a2');\n",
              "          const dataTable =\n",
              "            await google.colab.kernel.invokeFunction('convertToInteractive',\n",
              "                                                     [key], {});\n",
              "          if (!dataTable) return;\n",
              "\n",
              "          const docLinkHtml = 'Like what you see? Visit the ' +\n",
              "            '<a target=\"_blank\" href=https://colab.research.google.com/notebooks/data_table.ipynb>data table notebook</a>'\n",
              "            + ' to learn more about interactive tables.';\n",
              "          element.innerHTML = '';\n",
              "          dataTable['output_type'] = 'display_data';\n",
              "          await google.colab.output.renderOutput(dataTable, element);\n",
              "          const docLink = document.createElement('div');\n",
              "          docLink.innerHTML = docLinkHtml;\n",
              "          element.appendChild(docLink);\n",
              "        }\n",
              "      </script>\n",
              "    </div>\n",
              "  </div>\n",
              "  "
            ]
          },
          "metadata": {},
          "execution_count": 84
        }
      ]
    },
    {
      "cell_type": "code",
      "source": [
        "df_weather.info()"
      ],
      "metadata": {
        "colab": {
          "base_uri": "https://localhost:8080/"
        },
        "id": "yxdjumHjSEnZ",
        "outputId": "3b68f83a-cdf3-4432-b90e-9699160c1108"
      },
      "execution_count": 81,
      "outputs": [
        {
          "output_type": "stream",
          "name": "stdout",
          "text": [
            "<class 'pandas.core.frame.DataFrame'>\n",
            "RangeIndex: 1552 entries, 0 to 1551\n",
            "Data columns (total 19 columns):\n",
            " #   Column       Non-Null Count  Dtype  \n",
            "---  ------       --------------  -----  \n",
            " 0   Date         1552 non-null   object \n",
            " 1   Day          1552 non-null   int64  \n",
            " 2   Temp_max     1552 non-null   int64  \n",
            " 3   Temp_avg     1552 non-null   float64\n",
            " 4   Temp_min     1552 non-null   int64  \n",
            " 5   Dew_max      1552 non-null   int64  \n",
            " 6   Dew_avg      1552 non-null   float64\n",
            " 7   Dew_min      1552 non-null   int64  \n",
            " 8   Hum_max      1552 non-null   int64  \n",
            " 9   Hum_avg      1552 non-null   float64\n",
            " 10  Hum_min      1552 non-null   int64  \n",
            " 11  Wind_max     1552 non-null   int64  \n",
            " 12  Wind_avg     1552 non-null   float64\n",
            " 13  Wind_min     1552 non-null   int64  \n",
            " 14  Press_max    1552 non-null   float64\n",
            " 15  Press_avg    1552 non-null   float64\n",
            " 16  Press_min    1552 non-null   float64\n",
            " 17  Precipit     1552 non-null   float64\n",
            " 18  day_of_week  1552 non-null   int64  \n",
            "dtypes: float64(8), int64(10), object(1)\n",
            "memory usage: 230.5+ KB\n"
          ]
        }
      ]
    },
    {
      "cell_type": "markdown",
      "source": [
        "##Testes"
      ],
      "metadata": {
        "id": "JGESng3I6SHU"
      }
    },
    {
      "cell_type": "code",
      "source": [
        ""
      ],
      "metadata": {
        "id": "U41nCX6UsmPQ"
      },
      "execution_count": null,
      "outputs": []
    }
  ]
}