{
  "nbformat": 4,
  "nbformat_minor": 0,
  "metadata": {
    "colab": {
      "name": "power_consumption_predict.ipynb",
      "provenance": [],
      "authorship_tag": "ABX9TyOGS1q2UkV2qEH+fnD/fXEo",
      "include_colab_link": true
    },
    "kernelspec": {
      "name": "python3",
      "display_name": "Python 3"
    },
    "language_info": {
      "name": "python"
    }
  },
  "cells": [
    {
      "cell_type": "markdown",
      "metadata": {
        "id": "view-in-github",
        "colab_type": "text"
      },
      "source": [
        "<a href=\"https://colab.research.google.com/github/romerofernandes/power_consumption_predict/blob/main/power_consumption_predict.ipynb\" target=\"_parent\"><img src=\"https://colab.research.google.com/assets/colab-badge.svg\" alt=\"Open In Colab\"/></a>"
      ]
    },
    {
      "cell_type": "markdown",
      "source": [
        "##Importações"
      ],
      "metadata": {
        "id": "uYkmuZNk3M0K"
      }
    },
    {
      "cell_type": "markdown",
      "source": [
        "###Bibliotecas"
      ],
      "metadata": {
        "id": "tbe0bX6SQZPl"
      }
    },
    {
      "cell_type": "code",
      "source": [
        "#Analise de dados\n",
        "import pandas as pd\n",
        "import numpy as np\n",
        "import datetime as dt\n",
        "from sklearn.preprocessing import StandardScaler"
      ],
      "metadata": {
        "id": "F53vYnKy5qc_"
      },
      "execution_count": 541,
      "outputs": []
    },
    {
      "cell_type": "code",
      "source": [
        "#Visualização de dados\n",
        "import matplotlib.pyplot as plt\n",
        "import seaborn as sns\n",
        "import plotly.express as px"
      ],
      "metadata": {
        "id": "u5Lipch7YDXj"
      },
      "execution_count": 542,
      "outputs": []
    },
    {
      "cell_type": "code",
      "source": [
        "#Função para colocar os valores sobre as barras nos gráficos de barras\n",
        "def values_text(graf):\n",
        "    for bar in graf.patches:\n",
        "        graf.text(\n",
        "            bar.get_x() + bar.get_width() / 2,\n",
        "            bar.get_height() * 1.01,\n",
        "            round(bar.get_height(),1),\n",
        "            horizontalalignment='center',\n",
        "            color= 'black'\n",
        "            )"
      ],
      "metadata": {
        "id": "pzEXW2oqf09T"
      },
      "execution_count": 543,
      "outputs": []
    },
    {
      "cell_type": "code",
      "execution_count": 544,
      "metadata": {
        "id": "6Jvhot2X2DjU"
      },
      "outputs": [],
      "source": [
        "#Modelagem\n",
        "from sklearn.model_selection import train_test_split\n",
        "from sklearn.model_selection import cross_val_score\n",
        "from sklearn.model_selection import cross_validate\n",
        "\n",
        "from sklearn.feature_selection import SelectKBest\n",
        "from sklearn.feature_selection import f_regression, r_regression"
      ]
    },
    {
      "cell_type": "code",
      "source": [
        "#! pip install scikit-optimize"
      ],
      "metadata": {
        "id": "Xx7RMLCmW5E9"
      },
      "execution_count": 545,
      "outputs": []
    },
    {
      "cell_type": "code",
      "source": [
        "#Otimização de hiperparametros \n",
        "#Necessario instalar scikit-optimize: ! pip install scikit-optimize\n",
        "#from skopt import BayesSearchCV\n",
        "#from skopt.space import Integer"
      ],
      "metadata": {
        "id": "rkJPfJ5pLJfa"
      },
      "execution_count": 546,
      "outputs": []
    },
    {
      "cell_type": "code",
      "source": [
        "#Modelos\n",
        "from sklearn.ensemble import RandomForestClassifier\n",
        "from sklearn.neighbors import KNeighborsClassifier\n",
        "from sklearn.svm import SVC\n",
        "from sklearn.tree import DecisionTreeClassifier\n",
        "from xgboost import XGBClassifier"
      ],
      "metadata": {
        "id": "lgPe2nX3LLgq"
      },
      "execution_count": 547,
      "outputs": []
    },
    {
      "cell_type": "code",
      "source": [
        "#Análise dos modelos\n",
        "from sklearn import metrics\n",
        "from sklearn.metrics import confusion_matrix, ConfusionMatrixDisplay\n",
        "from sklearn.metrics import f1_score\n",
        "from sklearn.metrics import recall_score"
      ],
      "metadata": {
        "id": "rnApnBCoLNa6"
      },
      "execution_count": 548,
      "outputs": []
    },
    {
      "cell_type": "markdown",
      "source": [
        "###Dados"
      ],
      "metadata": {
        "id": "nWl20w2n3DP1"
      }
    },
    {
      "cell_type": "markdown",
      "source": [
        "####Dados de consumo"
      ],
      "metadata": {
        "id": "hCIVgsoxFosm"
      }
    },
    {
      "cell_type": "code",
      "source": [
        "#Dados sobre o consumo de energia elétrica\n",
        "\n",
        "df_consumption = pd.read_csv('/content/power_usage_2016_to_2020.csv', \n",
        "                             parse_dates= ['StartDate'])"
      ],
      "metadata": {
        "id": "_VfM9kUO3HgK"
      },
      "execution_count": 549,
      "outputs": []
    },
    {
      "cell_type": "code",
      "source": [
        "df_consumption.head()"
      ],
      "metadata": {
        "colab": {
          "base_uri": "https://localhost:8080/",
          "height": 0
        },
        "id": "POf4TgVlFw4M",
        "outputId": "52ed4a22-1b91-4292-c2cc-54c54f87219d"
      },
      "execution_count": 550,
      "outputs": [
        {
          "output_type": "execute_result",
          "data": {
            "text/plain": [
              "            StartDate  Value (kWh)  day_of_week    notes\n",
              "0 2016-01-06 00:00:00        1.057            2  weekday\n",
              "1 2016-01-06 01:00:00        1.171            2  weekday\n",
              "2 2016-01-06 02:00:00        0.560            2  weekday\n",
              "3 2016-01-06 03:00:00        0.828            2  weekday\n",
              "4 2016-01-06 04:00:00        0.932            2  weekday"
            ],
            "text/html": [
              "\n",
              "  <div id=\"df-9559f9d5-f8db-47e7-bcab-6c4b2cf78277\">\n",
              "    <div class=\"colab-df-container\">\n",
              "      <div>\n",
              "<style scoped>\n",
              "    .dataframe tbody tr th:only-of-type {\n",
              "        vertical-align: middle;\n",
              "    }\n",
              "\n",
              "    .dataframe tbody tr th {\n",
              "        vertical-align: top;\n",
              "    }\n",
              "\n",
              "    .dataframe thead th {\n",
              "        text-align: right;\n",
              "    }\n",
              "</style>\n",
              "<table border=\"1\" class=\"dataframe\">\n",
              "  <thead>\n",
              "    <tr style=\"text-align: right;\">\n",
              "      <th></th>\n",
              "      <th>StartDate</th>\n",
              "      <th>Value (kWh)</th>\n",
              "      <th>day_of_week</th>\n",
              "      <th>notes</th>\n",
              "    </tr>\n",
              "  </thead>\n",
              "  <tbody>\n",
              "    <tr>\n",
              "      <th>0</th>\n",
              "      <td>2016-01-06 00:00:00</td>\n",
              "      <td>1.057</td>\n",
              "      <td>2</td>\n",
              "      <td>weekday</td>\n",
              "    </tr>\n",
              "    <tr>\n",
              "      <th>1</th>\n",
              "      <td>2016-01-06 01:00:00</td>\n",
              "      <td>1.171</td>\n",
              "      <td>2</td>\n",
              "      <td>weekday</td>\n",
              "    </tr>\n",
              "    <tr>\n",
              "      <th>2</th>\n",
              "      <td>2016-01-06 02:00:00</td>\n",
              "      <td>0.560</td>\n",
              "      <td>2</td>\n",
              "      <td>weekday</td>\n",
              "    </tr>\n",
              "    <tr>\n",
              "      <th>3</th>\n",
              "      <td>2016-01-06 03:00:00</td>\n",
              "      <td>0.828</td>\n",
              "      <td>2</td>\n",
              "      <td>weekday</td>\n",
              "    </tr>\n",
              "    <tr>\n",
              "      <th>4</th>\n",
              "      <td>2016-01-06 04:00:00</td>\n",
              "      <td>0.932</td>\n",
              "      <td>2</td>\n",
              "      <td>weekday</td>\n",
              "    </tr>\n",
              "  </tbody>\n",
              "</table>\n",
              "</div>\n",
              "      <button class=\"colab-df-convert\" onclick=\"convertToInteractive('df-9559f9d5-f8db-47e7-bcab-6c4b2cf78277')\"\n",
              "              title=\"Convert this dataframe to an interactive table.\"\n",
              "              style=\"display:none;\">\n",
              "        \n",
              "  <svg xmlns=\"http://www.w3.org/2000/svg\" height=\"24px\"viewBox=\"0 0 24 24\"\n",
              "       width=\"24px\">\n",
              "    <path d=\"M0 0h24v24H0V0z\" fill=\"none\"/>\n",
              "    <path d=\"M18.56 5.44l.94 2.06.94-2.06 2.06-.94-2.06-.94-.94-2.06-.94 2.06-2.06.94zm-11 1L8.5 8.5l.94-2.06 2.06-.94-2.06-.94L8.5 2.5l-.94 2.06-2.06.94zm10 10l.94 2.06.94-2.06 2.06-.94-2.06-.94-.94-2.06-.94 2.06-2.06.94z\"/><path d=\"M17.41 7.96l-1.37-1.37c-.4-.4-.92-.59-1.43-.59-.52 0-1.04.2-1.43.59L10.3 9.45l-7.72 7.72c-.78.78-.78 2.05 0 2.83L4 21.41c.39.39.9.59 1.41.59.51 0 1.02-.2 1.41-.59l7.78-7.78 2.81-2.81c.8-.78.8-2.07 0-2.86zM5.41 20L4 18.59l7.72-7.72 1.47 1.35L5.41 20z\"/>\n",
              "  </svg>\n",
              "      </button>\n",
              "      \n",
              "  <style>\n",
              "    .colab-df-container {\n",
              "      display:flex;\n",
              "      flex-wrap:wrap;\n",
              "      gap: 12px;\n",
              "    }\n",
              "\n",
              "    .colab-df-convert {\n",
              "      background-color: #E8F0FE;\n",
              "      border: none;\n",
              "      border-radius: 50%;\n",
              "      cursor: pointer;\n",
              "      display: none;\n",
              "      fill: #1967D2;\n",
              "      height: 32px;\n",
              "      padding: 0 0 0 0;\n",
              "      width: 32px;\n",
              "    }\n",
              "\n",
              "    .colab-df-convert:hover {\n",
              "      background-color: #E2EBFA;\n",
              "      box-shadow: 0px 1px 2px rgba(60, 64, 67, 0.3), 0px 1px 3px 1px rgba(60, 64, 67, 0.15);\n",
              "      fill: #174EA6;\n",
              "    }\n",
              "\n",
              "    [theme=dark] .colab-df-convert {\n",
              "      background-color: #3B4455;\n",
              "      fill: #D2E3FC;\n",
              "    }\n",
              "\n",
              "    [theme=dark] .colab-df-convert:hover {\n",
              "      background-color: #434B5C;\n",
              "      box-shadow: 0px 1px 3px 1px rgba(0, 0, 0, 0.15);\n",
              "      filter: drop-shadow(0px 1px 2px rgba(0, 0, 0, 0.3));\n",
              "      fill: #FFFFFF;\n",
              "    }\n",
              "  </style>\n",
              "\n",
              "      <script>\n",
              "        const buttonEl =\n",
              "          document.querySelector('#df-9559f9d5-f8db-47e7-bcab-6c4b2cf78277 button.colab-df-convert');\n",
              "        buttonEl.style.display =\n",
              "          google.colab.kernel.accessAllowed ? 'block' : 'none';\n",
              "\n",
              "        async function convertToInteractive(key) {\n",
              "          const element = document.querySelector('#df-9559f9d5-f8db-47e7-bcab-6c4b2cf78277');\n",
              "          const dataTable =\n",
              "            await google.colab.kernel.invokeFunction('convertToInteractive',\n",
              "                                                     [key], {});\n",
              "          if (!dataTable) return;\n",
              "\n",
              "          const docLinkHtml = 'Like what you see? Visit the ' +\n",
              "            '<a target=\"_blank\" href=https://colab.research.google.com/notebooks/data_table.ipynb>data table notebook</a>'\n",
              "            + ' to learn more about interactive tables.';\n",
              "          element.innerHTML = '';\n",
              "          dataTable['output_type'] = 'display_data';\n",
              "          await google.colab.output.renderOutput(dataTable, element);\n",
              "          const docLink = document.createElement('div');\n",
              "          docLink.innerHTML = docLinkHtml;\n",
              "          element.appendChild(docLink);\n",
              "        }\n",
              "      </script>\n",
              "    </div>\n",
              "  </div>\n",
              "  "
            ]
          },
          "metadata": {},
          "execution_count": 550
        }
      ]
    },
    {
      "cell_type": "code",
      "source": [
        "df_consumption.info()"
      ],
      "metadata": {
        "colab": {
          "base_uri": "https://localhost:8080/"
        },
        "id": "mGNdr33zGCod",
        "outputId": "b4071a77-2d72-4daf-8aa3-18f3c47cefbd"
      },
      "execution_count": 551,
      "outputs": [
        {
          "output_type": "stream",
          "name": "stdout",
          "text": [
            "<class 'pandas.core.frame.DataFrame'>\n",
            "RangeIndex: 35952 entries, 0 to 35951\n",
            "Data columns (total 4 columns):\n",
            " #   Column       Non-Null Count  Dtype         \n",
            "---  ------       --------------  -----         \n",
            " 0   StartDate    35952 non-null  datetime64[ns]\n",
            " 1   Value (kWh)  35952 non-null  float64       \n",
            " 2   day_of_week  35952 non-null  int64         \n",
            " 3   notes        35952 non-null  object        \n",
            "dtypes: datetime64[ns](1), float64(1), int64(1), object(1)\n",
            "memory usage: 1.1+ MB\n"
          ]
        }
      ]
    },
    {
      "cell_type": "code",
      "source": [
        "#Verificando registros duplicados\n",
        "print(f\"Valores duplicados: {df_consumption.duplicated().sum()}\")"
      ],
      "metadata": {
        "colab": {
          "base_uri": "https://localhost:8080/"
        },
        "id": "1eb4acShIGP7",
        "outputId": "c0ae4264-e583-4acc-a74b-2168b4bf4476"
      },
      "execution_count": 552,
      "outputs": [
        {
          "output_type": "stream",
          "name": "stdout",
          "text": [
            "Valores duplicados: 0\n"
          ]
        }
      ]
    },
    {
      "cell_type": "code",
      "source": [
        "df_consumption.notes.unique()"
      ],
      "metadata": {
        "colab": {
          "base_uri": "https://localhost:8080/"
        },
        "id": "Kvl5Td_OI2wI",
        "outputId": "f48b57dc-744e-4bab-88ad-f18ba1dcebbb"
      },
      "execution_count": 553,
      "outputs": [
        {
          "output_type": "execute_result",
          "data": {
            "text/plain": [
              "array(['weekday', 'weekend', 'vacation', 'COVID_lockdown'], dtype=object)"
            ]
          },
          "metadata": {},
          "execution_count": 553
        }
      ]
    },
    {
      "cell_type": "code",
      "source": [
        "df_consumption.drop(columns=['notes','day_of_week'], inplace=True)"
      ],
      "metadata": {
        "id": "kdOZYqS8HARb"
      },
      "execution_count": 554,
      "outputs": []
    },
    {
      "cell_type": "code",
      "source": [
        "df_consumption.sort_values(by='StartDate').head()"
      ],
      "metadata": {
        "colab": {
          "base_uri": "https://localhost:8080/",
          "height": 0
        },
        "id": "-79AYVF4LRx1",
        "outputId": "7c0b4efc-68f2-4ebf-cf28-7caa2752ce30"
      },
      "execution_count": 555,
      "outputs": [
        {
          "output_type": "execute_result",
          "data": {
            "text/plain": [
              "            StartDate  Value (kWh)\n",
              "0 2016-01-06 00:00:00        1.057\n",
              "1 2016-01-06 01:00:00        1.171\n",
              "2 2016-01-06 02:00:00        0.560\n",
              "3 2016-01-06 03:00:00        0.828\n",
              "4 2016-01-06 04:00:00        0.932"
            ],
            "text/html": [
              "\n",
              "  <div id=\"df-917c0cb9-101a-4b8d-882f-e501241222e5\">\n",
              "    <div class=\"colab-df-container\">\n",
              "      <div>\n",
              "<style scoped>\n",
              "    .dataframe tbody tr th:only-of-type {\n",
              "        vertical-align: middle;\n",
              "    }\n",
              "\n",
              "    .dataframe tbody tr th {\n",
              "        vertical-align: top;\n",
              "    }\n",
              "\n",
              "    .dataframe thead th {\n",
              "        text-align: right;\n",
              "    }\n",
              "</style>\n",
              "<table border=\"1\" class=\"dataframe\">\n",
              "  <thead>\n",
              "    <tr style=\"text-align: right;\">\n",
              "      <th></th>\n",
              "      <th>StartDate</th>\n",
              "      <th>Value (kWh)</th>\n",
              "    </tr>\n",
              "  </thead>\n",
              "  <tbody>\n",
              "    <tr>\n",
              "      <th>0</th>\n",
              "      <td>2016-01-06 00:00:00</td>\n",
              "      <td>1.057</td>\n",
              "    </tr>\n",
              "    <tr>\n",
              "      <th>1</th>\n",
              "      <td>2016-01-06 01:00:00</td>\n",
              "      <td>1.171</td>\n",
              "    </tr>\n",
              "    <tr>\n",
              "      <th>2</th>\n",
              "      <td>2016-01-06 02:00:00</td>\n",
              "      <td>0.560</td>\n",
              "    </tr>\n",
              "    <tr>\n",
              "      <th>3</th>\n",
              "      <td>2016-01-06 03:00:00</td>\n",
              "      <td>0.828</td>\n",
              "    </tr>\n",
              "    <tr>\n",
              "      <th>4</th>\n",
              "      <td>2016-01-06 04:00:00</td>\n",
              "      <td>0.932</td>\n",
              "    </tr>\n",
              "  </tbody>\n",
              "</table>\n",
              "</div>\n",
              "      <button class=\"colab-df-convert\" onclick=\"convertToInteractive('df-917c0cb9-101a-4b8d-882f-e501241222e5')\"\n",
              "              title=\"Convert this dataframe to an interactive table.\"\n",
              "              style=\"display:none;\">\n",
              "        \n",
              "  <svg xmlns=\"http://www.w3.org/2000/svg\" height=\"24px\"viewBox=\"0 0 24 24\"\n",
              "       width=\"24px\">\n",
              "    <path d=\"M0 0h24v24H0V0z\" fill=\"none\"/>\n",
              "    <path d=\"M18.56 5.44l.94 2.06.94-2.06 2.06-.94-2.06-.94-.94-2.06-.94 2.06-2.06.94zm-11 1L8.5 8.5l.94-2.06 2.06-.94-2.06-.94L8.5 2.5l-.94 2.06-2.06.94zm10 10l.94 2.06.94-2.06 2.06-.94-2.06-.94-.94-2.06-.94 2.06-2.06.94z\"/><path d=\"M17.41 7.96l-1.37-1.37c-.4-.4-.92-.59-1.43-.59-.52 0-1.04.2-1.43.59L10.3 9.45l-7.72 7.72c-.78.78-.78 2.05 0 2.83L4 21.41c.39.39.9.59 1.41.59.51 0 1.02-.2 1.41-.59l7.78-7.78 2.81-2.81c.8-.78.8-2.07 0-2.86zM5.41 20L4 18.59l7.72-7.72 1.47 1.35L5.41 20z\"/>\n",
              "  </svg>\n",
              "      </button>\n",
              "      \n",
              "  <style>\n",
              "    .colab-df-container {\n",
              "      display:flex;\n",
              "      flex-wrap:wrap;\n",
              "      gap: 12px;\n",
              "    }\n",
              "\n",
              "    .colab-df-convert {\n",
              "      background-color: #E8F0FE;\n",
              "      border: none;\n",
              "      border-radius: 50%;\n",
              "      cursor: pointer;\n",
              "      display: none;\n",
              "      fill: #1967D2;\n",
              "      height: 32px;\n",
              "      padding: 0 0 0 0;\n",
              "      width: 32px;\n",
              "    }\n",
              "\n",
              "    .colab-df-convert:hover {\n",
              "      background-color: #E2EBFA;\n",
              "      box-shadow: 0px 1px 2px rgba(60, 64, 67, 0.3), 0px 1px 3px 1px rgba(60, 64, 67, 0.15);\n",
              "      fill: #174EA6;\n",
              "    }\n",
              "\n",
              "    [theme=dark] .colab-df-convert {\n",
              "      background-color: #3B4455;\n",
              "      fill: #D2E3FC;\n",
              "    }\n",
              "\n",
              "    [theme=dark] .colab-df-convert:hover {\n",
              "      background-color: #434B5C;\n",
              "      box-shadow: 0px 1px 3px 1px rgba(0, 0, 0, 0.15);\n",
              "      filter: drop-shadow(0px 1px 2px rgba(0, 0, 0, 0.3));\n",
              "      fill: #FFFFFF;\n",
              "    }\n",
              "  </style>\n",
              "\n",
              "      <script>\n",
              "        const buttonEl =\n",
              "          document.querySelector('#df-917c0cb9-101a-4b8d-882f-e501241222e5 button.colab-df-convert');\n",
              "        buttonEl.style.display =\n",
              "          google.colab.kernel.accessAllowed ? 'block' : 'none';\n",
              "\n",
              "        async function convertToInteractive(key) {\n",
              "          const element = document.querySelector('#df-917c0cb9-101a-4b8d-882f-e501241222e5');\n",
              "          const dataTable =\n",
              "            await google.colab.kernel.invokeFunction('convertToInteractive',\n",
              "                                                     [key], {});\n",
              "          if (!dataTable) return;\n",
              "\n",
              "          const docLinkHtml = 'Like what you see? Visit the ' +\n",
              "            '<a target=\"_blank\" href=https://colab.research.google.com/notebooks/data_table.ipynb>data table notebook</a>'\n",
              "            + ' to learn more about interactive tables.';\n",
              "          element.innerHTML = '';\n",
              "          dataTable['output_type'] = 'display_data';\n",
              "          await google.colab.output.renderOutput(dataTable, element);\n",
              "          const docLink = document.createElement('div');\n",
              "          docLink.innerHTML = docLinkHtml;\n",
              "          element.appendChild(docLink);\n",
              "        }\n",
              "      </script>\n",
              "    </div>\n",
              "  </div>\n",
              "  "
            ]
          },
          "metadata": {},
          "execution_count": 555
        }
      ]
    },
    {
      "cell_type": "code",
      "source": [
        "#Renomeando a coluna de consumo\n",
        "df_consumption.rename(columns={'Value (kWh)': 'consumption', 'StartDate':'Date'}, inplace=True)"
      ],
      "metadata": {
        "id": "WyQaZ2OjMqEM"
      },
      "execution_count": 556,
      "outputs": []
    },
    {
      "cell_type": "code",
      "source": [
        "df_consumption = df_consumption.groupby(df_consumption.Date.dt.date).sum().reset_index()"
      ],
      "metadata": {
        "id": "C1cX4yiPi2BT"
      },
      "execution_count": 557,
      "outputs": []
    },
    {
      "cell_type": "code",
      "source": [
        "df_consumption.info()"
      ],
      "metadata": {
        "colab": {
          "base_uri": "https://localhost:8080/"
        },
        "id": "t35Smds6nCBA",
        "outputId": "fdb077c0-570c-4e99-88d9-954b159b9937"
      },
      "execution_count": 558,
      "outputs": [
        {
          "output_type": "stream",
          "name": "stdout",
          "text": [
            "<class 'pandas.core.frame.DataFrame'>\n",
            "RangeIndex: 1498 entries, 0 to 1497\n",
            "Data columns (total 2 columns):\n",
            " #   Column       Non-Null Count  Dtype  \n",
            "---  ------       --------------  -----  \n",
            " 0   Date         1498 non-null   object \n",
            " 1   consumption  1498 non-null   float64\n",
            "dtypes: float64(1), object(1)\n",
            "memory usage: 23.5+ KB\n"
          ]
        }
      ]
    },
    {
      "cell_type": "code",
      "source": [
        "df_consumption.Date = pd.to_datetime(df_consumption.Date)"
      ],
      "metadata": {
        "id": "zYeJ4SD0SVhF"
      },
      "execution_count": 559,
      "outputs": []
    },
    {
      "cell_type": "code",
      "source": [
        "df_consumption.info()"
      ],
      "metadata": {
        "id": "pRg7GUnWSiDX",
        "outputId": "4cb6a62f-f0d7-4128-c2b4-7bfd7269775d",
        "colab": {
          "base_uri": "https://localhost:8080/"
        }
      },
      "execution_count": 560,
      "outputs": [
        {
          "output_type": "stream",
          "name": "stdout",
          "text": [
            "<class 'pandas.core.frame.DataFrame'>\n",
            "RangeIndex: 1498 entries, 0 to 1497\n",
            "Data columns (total 2 columns):\n",
            " #   Column       Non-Null Count  Dtype         \n",
            "---  ------       --------------  -----         \n",
            " 0   Date         1498 non-null   datetime64[ns]\n",
            " 1   consumption  1498 non-null   float64       \n",
            "dtypes: datetime64[ns](1), float64(1)\n",
            "memory usage: 23.5 KB\n"
          ]
        }
      ]
    },
    {
      "cell_type": "code",
      "source": [
        "df_consumption.describe()"
      ],
      "metadata": {
        "colab": {
          "base_uri": "https://localhost:8080/",
          "height": 0
        },
        "id": "M54w73V1Rq5X",
        "outputId": "9c91538d-2ffd-4be6-8978-6ff0b6290e82"
      },
      "execution_count": 561,
      "outputs": [
        {
          "output_type": "execute_result",
          "data": {
            "text/plain": [
              "       consumption\n",
              "count  1498.000000\n",
              "mean     21.399148\n",
              "std      12.635139\n",
              "min       4.610000\n",
              "25%      10.828750\n",
              "50%      16.833500\n",
              "75%      30.726250\n",
              "max      78.225300"
            ],
            "text/html": [
              "\n",
              "  <div id=\"df-478a349e-bfe6-466b-8621-9b26cc648f44\">\n",
              "    <div class=\"colab-df-container\">\n",
              "      <div>\n",
              "<style scoped>\n",
              "    .dataframe tbody tr th:only-of-type {\n",
              "        vertical-align: middle;\n",
              "    }\n",
              "\n",
              "    .dataframe tbody tr th {\n",
              "        vertical-align: top;\n",
              "    }\n",
              "\n",
              "    .dataframe thead th {\n",
              "        text-align: right;\n",
              "    }\n",
              "</style>\n",
              "<table border=\"1\" class=\"dataframe\">\n",
              "  <thead>\n",
              "    <tr style=\"text-align: right;\">\n",
              "      <th></th>\n",
              "      <th>consumption</th>\n",
              "    </tr>\n",
              "  </thead>\n",
              "  <tbody>\n",
              "    <tr>\n",
              "      <th>count</th>\n",
              "      <td>1498.000000</td>\n",
              "    </tr>\n",
              "    <tr>\n",
              "      <th>mean</th>\n",
              "      <td>21.399148</td>\n",
              "    </tr>\n",
              "    <tr>\n",
              "      <th>std</th>\n",
              "      <td>12.635139</td>\n",
              "    </tr>\n",
              "    <tr>\n",
              "      <th>min</th>\n",
              "      <td>4.610000</td>\n",
              "    </tr>\n",
              "    <tr>\n",
              "      <th>25%</th>\n",
              "      <td>10.828750</td>\n",
              "    </tr>\n",
              "    <tr>\n",
              "      <th>50%</th>\n",
              "      <td>16.833500</td>\n",
              "    </tr>\n",
              "    <tr>\n",
              "      <th>75%</th>\n",
              "      <td>30.726250</td>\n",
              "    </tr>\n",
              "    <tr>\n",
              "      <th>max</th>\n",
              "      <td>78.225300</td>\n",
              "    </tr>\n",
              "  </tbody>\n",
              "</table>\n",
              "</div>\n",
              "      <button class=\"colab-df-convert\" onclick=\"convertToInteractive('df-478a349e-bfe6-466b-8621-9b26cc648f44')\"\n",
              "              title=\"Convert this dataframe to an interactive table.\"\n",
              "              style=\"display:none;\">\n",
              "        \n",
              "  <svg xmlns=\"http://www.w3.org/2000/svg\" height=\"24px\"viewBox=\"0 0 24 24\"\n",
              "       width=\"24px\">\n",
              "    <path d=\"M0 0h24v24H0V0z\" fill=\"none\"/>\n",
              "    <path d=\"M18.56 5.44l.94 2.06.94-2.06 2.06-.94-2.06-.94-.94-2.06-.94 2.06-2.06.94zm-11 1L8.5 8.5l.94-2.06 2.06-.94-2.06-.94L8.5 2.5l-.94 2.06-2.06.94zm10 10l.94 2.06.94-2.06 2.06-.94-2.06-.94-.94-2.06-.94 2.06-2.06.94z\"/><path d=\"M17.41 7.96l-1.37-1.37c-.4-.4-.92-.59-1.43-.59-.52 0-1.04.2-1.43.59L10.3 9.45l-7.72 7.72c-.78.78-.78 2.05 0 2.83L4 21.41c.39.39.9.59 1.41.59.51 0 1.02-.2 1.41-.59l7.78-7.78 2.81-2.81c.8-.78.8-2.07 0-2.86zM5.41 20L4 18.59l7.72-7.72 1.47 1.35L5.41 20z\"/>\n",
              "  </svg>\n",
              "      </button>\n",
              "      \n",
              "  <style>\n",
              "    .colab-df-container {\n",
              "      display:flex;\n",
              "      flex-wrap:wrap;\n",
              "      gap: 12px;\n",
              "    }\n",
              "\n",
              "    .colab-df-convert {\n",
              "      background-color: #E8F0FE;\n",
              "      border: none;\n",
              "      border-radius: 50%;\n",
              "      cursor: pointer;\n",
              "      display: none;\n",
              "      fill: #1967D2;\n",
              "      height: 32px;\n",
              "      padding: 0 0 0 0;\n",
              "      width: 32px;\n",
              "    }\n",
              "\n",
              "    .colab-df-convert:hover {\n",
              "      background-color: #E2EBFA;\n",
              "      box-shadow: 0px 1px 2px rgba(60, 64, 67, 0.3), 0px 1px 3px 1px rgba(60, 64, 67, 0.15);\n",
              "      fill: #174EA6;\n",
              "    }\n",
              "\n",
              "    [theme=dark] .colab-df-convert {\n",
              "      background-color: #3B4455;\n",
              "      fill: #D2E3FC;\n",
              "    }\n",
              "\n",
              "    [theme=dark] .colab-df-convert:hover {\n",
              "      background-color: #434B5C;\n",
              "      box-shadow: 0px 1px 3px 1px rgba(0, 0, 0, 0.15);\n",
              "      filter: drop-shadow(0px 1px 2px rgba(0, 0, 0, 0.3));\n",
              "      fill: #FFFFFF;\n",
              "    }\n",
              "  </style>\n",
              "\n",
              "      <script>\n",
              "        const buttonEl =\n",
              "          document.querySelector('#df-478a349e-bfe6-466b-8621-9b26cc648f44 button.colab-df-convert');\n",
              "        buttonEl.style.display =\n",
              "          google.colab.kernel.accessAllowed ? 'block' : 'none';\n",
              "\n",
              "        async function convertToInteractive(key) {\n",
              "          const element = document.querySelector('#df-478a349e-bfe6-466b-8621-9b26cc648f44');\n",
              "          const dataTable =\n",
              "            await google.colab.kernel.invokeFunction('convertToInteractive',\n",
              "                                                     [key], {});\n",
              "          if (!dataTable) return;\n",
              "\n",
              "          const docLinkHtml = 'Like what you see? Visit the ' +\n",
              "            '<a target=\"_blank\" href=https://colab.research.google.com/notebooks/data_table.ipynb>data table notebook</a>'\n",
              "            + ' to learn more about interactive tables.';\n",
              "          element.innerHTML = '';\n",
              "          dataTable['output_type'] = 'display_data';\n",
              "          await google.colab.output.renderOutput(dataTable, element);\n",
              "          const docLink = document.createElement('div');\n",
              "          docLink.innerHTML = docLinkHtml;\n",
              "          element.appendChild(docLink);\n",
              "        }\n",
              "      </script>\n",
              "    </div>\n",
              "  </div>\n",
              "  "
            ]
          },
          "metadata": {},
          "execution_count": 561
        }
      ]
    },
    {
      "cell_type": "markdown",
      "source": [
        "####Dados sobre o tempo"
      ],
      "metadata": {
        "id": "ecR4Dm8hFr3u"
      }
    },
    {
      "cell_type": "code",
      "source": [
        "#Dados sobre tempo (temperatura, pressão, preciptação...)\n",
        "df_weather = pd.read_csv('/content/weather_2016_2020_daily.csv', parse_dates=['Date'])"
      ],
      "metadata": {
        "id": "Wuu8Tw9v6H_n"
      },
      "execution_count": 562,
      "outputs": []
    },
    {
      "cell_type": "code",
      "source": [
        "df_weather.head()"
      ],
      "metadata": {
        "colab": {
          "base_uri": "https://localhost:8080/",
          "height": 0
        },
        "id": "MRw3RgY6ITSF",
        "outputId": "f0293a5b-1adf-4feb-a637-ed63a84c1f25"
      },
      "execution_count": 563,
      "outputs": [
        {
          "output_type": "execute_result",
          "data": {
            "text/plain": [
              "        Date  Day  Temp_max  Temp_avg  Temp_min  Dew_max  Dew_avg  Dew_min  \\\n",
              "0 2016-01-06    1        85      74.8        68       74     71.4       66   \n",
              "1 2016-02-06    2        76      71.2        66       74     70.3       66   \n",
              "2 2016-03-06    3        79      72.1        68       72     70.0       68   \n",
              "3 2016-04-06    4        76      71.2        69       73     70.0       66   \n",
              "4 2016-05-06    5        82      73.8        68       72     70.0       68   \n",
              "\n",
              "   Hum_max  Hum_avg  Hum_min  Wind_max  Wind_avg  Wind_min  Press_max  \\\n",
              "0      100     89.4       65        21       9.5         0       29.8   \n",
              "1      100     96.8       89        18       7.8         0       29.8   \n",
              "2      100     93.6       72        18       4.7         0       29.8   \n",
              "3      100     96.1       85        20       7.0         0       29.8   \n",
              "4      100     88.7       62        17       7.7         0       29.7   \n",
              "\n",
              "   Press_avg  Press_min  Precipit  day_of_week  \n",
              "0       29.8       29.7      0.00            2  \n",
              "1       29.8       29.7      4.33            5  \n",
              "2       29.8       29.7      3.18            6  \n",
              "3       29.7       29.7      2.37            2  \n",
              "4       29.7       29.7      0.39            4  "
            ],
            "text/html": [
              "\n",
              "  <div id=\"df-d996eb15-118c-4cbf-a002-aa65f130fe0a\">\n",
              "    <div class=\"colab-df-container\">\n",
              "      <div>\n",
              "<style scoped>\n",
              "    .dataframe tbody tr th:only-of-type {\n",
              "        vertical-align: middle;\n",
              "    }\n",
              "\n",
              "    .dataframe tbody tr th {\n",
              "        vertical-align: top;\n",
              "    }\n",
              "\n",
              "    .dataframe thead th {\n",
              "        text-align: right;\n",
              "    }\n",
              "</style>\n",
              "<table border=\"1\" class=\"dataframe\">\n",
              "  <thead>\n",
              "    <tr style=\"text-align: right;\">\n",
              "      <th></th>\n",
              "      <th>Date</th>\n",
              "      <th>Day</th>\n",
              "      <th>Temp_max</th>\n",
              "      <th>Temp_avg</th>\n",
              "      <th>Temp_min</th>\n",
              "      <th>Dew_max</th>\n",
              "      <th>Dew_avg</th>\n",
              "      <th>Dew_min</th>\n",
              "      <th>Hum_max</th>\n",
              "      <th>Hum_avg</th>\n",
              "      <th>Hum_min</th>\n",
              "      <th>Wind_max</th>\n",
              "      <th>Wind_avg</th>\n",
              "      <th>Wind_min</th>\n",
              "      <th>Press_max</th>\n",
              "      <th>Press_avg</th>\n",
              "      <th>Press_min</th>\n",
              "      <th>Precipit</th>\n",
              "      <th>day_of_week</th>\n",
              "    </tr>\n",
              "  </thead>\n",
              "  <tbody>\n",
              "    <tr>\n",
              "      <th>0</th>\n",
              "      <td>2016-01-06</td>\n",
              "      <td>1</td>\n",
              "      <td>85</td>\n",
              "      <td>74.8</td>\n",
              "      <td>68</td>\n",
              "      <td>74</td>\n",
              "      <td>71.4</td>\n",
              "      <td>66</td>\n",
              "      <td>100</td>\n",
              "      <td>89.4</td>\n",
              "      <td>65</td>\n",
              "      <td>21</td>\n",
              "      <td>9.5</td>\n",
              "      <td>0</td>\n",
              "      <td>29.8</td>\n",
              "      <td>29.8</td>\n",
              "      <td>29.7</td>\n",
              "      <td>0.00</td>\n",
              "      <td>2</td>\n",
              "    </tr>\n",
              "    <tr>\n",
              "      <th>1</th>\n",
              "      <td>2016-02-06</td>\n",
              "      <td>2</td>\n",
              "      <td>76</td>\n",
              "      <td>71.2</td>\n",
              "      <td>66</td>\n",
              "      <td>74</td>\n",
              "      <td>70.3</td>\n",
              "      <td>66</td>\n",
              "      <td>100</td>\n",
              "      <td>96.8</td>\n",
              "      <td>89</td>\n",
              "      <td>18</td>\n",
              "      <td>7.8</td>\n",
              "      <td>0</td>\n",
              "      <td>29.8</td>\n",
              "      <td>29.8</td>\n",
              "      <td>29.7</td>\n",
              "      <td>4.33</td>\n",
              "      <td>5</td>\n",
              "    </tr>\n",
              "    <tr>\n",
              "      <th>2</th>\n",
              "      <td>2016-03-06</td>\n",
              "      <td>3</td>\n",
              "      <td>79</td>\n",
              "      <td>72.1</td>\n",
              "      <td>68</td>\n",
              "      <td>72</td>\n",
              "      <td>70.0</td>\n",
              "      <td>68</td>\n",
              "      <td>100</td>\n",
              "      <td>93.6</td>\n",
              "      <td>72</td>\n",
              "      <td>18</td>\n",
              "      <td>4.7</td>\n",
              "      <td>0</td>\n",
              "      <td>29.8</td>\n",
              "      <td>29.8</td>\n",
              "      <td>29.7</td>\n",
              "      <td>3.18</td>\n",
              "      <td>6</td>\n",
              "    </tr>\n",
              "    <tr>\n",
              "      <th>3</th>\n",
              "      <td>2016-04-06</td>\n",
              "      <td>4</td>\n",
              "      <td>76</td>\n",
              "      <td>71.2</td>\n",
              "      <td>69</td>\n",
              "      <td>73</td>\n",
              "      <td>70.0</td>\n",
              "      <td>66</td>\n",
              "      <td>100</td>\n",
              "      <td>96.1</td>\n",
              "      <td>85</td>\n",
              "      <td>20</td>\n",
              "      <td>7.0</td>\n",
              "      <td>0</td>\n",
              "      <td>29.8</td>\n",
              "      <td>29.7</td>\n",
              "      <td>29.7</td>\n",
              "      <td>2.37</td>\n",
              "      <td>2</td>\n",
              "    </tr>\n",
              "    <tr>\n",
              "      <th>4</th>\n",
              "      <td>2016-05-06</td>\n",
              "      <td>5</td>\n",
              "      <td>82</td>\n",
              "      <td>73.8</td>\n",
              "      <td>68</td>\n",
              "      <td>72</td>\n",
              "      <td>70.0</td>\n",
              "      <td>68</td>\n",
              "      <td>100</td>\n",
              "      <td>88.7</td>\n",
              "      <td>62</td>\n",
              "      <td>17</td>\n",
              "      <td>7.7</td>\n",
              "      <td>0</td>\n",
              "      <td>29.7</td>\n",
              "      <td>29.7</td>\n",
              "      <td>29.7</td>\n",
              "      <td>0.39</td>\n",
              "      <td>4</td>\n",
              "    </tr>\n",
              "  </tbody>\n",
              "</table>\n",
              "</div>\n",
              "      <button class=\"colab-df-convert\" onclick=\"convertToInteractive('df-d996eb15-118c-4cbf-a002-aa65f130fe0a')\"\n",
              "              title=\"Convert this dataframe to an interactive table.\"\n",
              "              style=\"display:none;\">\n",
              "        \n",
              "  <svg xmlns=\"http://www.w3.org/2000/svg\" height=\"24px\"viewBox=\"0 0 24 24\"\n",
              "       width=\"24px\">\n",
              "    <path d=\"M0 0h24v24H0V0z\" fill=\"none\"/>\n",
              "    <path d=\"M18.56 5.44l.94 2.06.94-2.06 2.06-.94-2.06-.94-.94-2.06-.94 2.06-2.06.94zm-11 1L8.5 8.5l.94-2.06 2.06-.94-2.06-.94L8.5 2.5l-.94 2.06-2.06.94zm10 10l.94 2.06.94-2.06 2.06-.94-2.06-.94-.94-2.06-.94 2.06-2.06.94z\"/><path d=\"M17.41 7.96l-1.37-1.37c-.4-.4-.92-.59-1.43-.59-.52 0-1.04.2-1.43.59L10.3 9.45l-7.72 7.72c-.78.78-.78 2.05 0 2.83L4 21.41c.39.39.9.59 1.41.59.51 0 1.02-.2 1.41-.59l7.78-7.78 2.81-2.81c.8-.78.8-2.07 0-2.86zM5.41 20L4 18.59l7.72-7.72 1.47 1.35L5.41 20z\"/>\n",
              "  </svg>\n",
              "      </button>\n",
              "      \n",
              "  <style>\n",
              "    .colab-df-container {\n",
              "      display:flex;\n",
              "      flex-wrap:wrap;\n",
              "      gap: 12px;\n",
              "    }\n",
              "\n",
              "    .colab-df-convert {\n",
              "      background-color: #E8F0FE;\n",
              "      border: none;\n",
              "      border-radius: 50%;\n",
              "      cursor: pointer;\n",
              "      display: none;\n",
              "      fill: #1967D2;\n",
              "      height: 32px;\n",
              "      padding: 0 0 0 0;\n",
              "      width: 32px;\n",
              "    }\n",
              "\n",
              "    .colab-df-convert:hover {\n",
              "      background-color: #E2EBFA;\n",
              "      box-shadow: 0px 1px 2px rgba(60, 64, 67, 0.3), 0px 1px 3px 1px rgba(60, 64, 67, 0.15);\n",
              "      fill: #174EA6;\n",
              "    }\n",
              "\n",
              "    [theme=dark] .colab-df-convert {\n",
              "      background-color: #3B4455;\n",
              "      fill: #D2E3FC;\n",
              "    }\n",
              "\n",
              "    [theme=dark] .colab-df-convert:hover {\n",
              "      background-color: #434B5C;\n",
              "      box-shadow: 0px 1px 3px 1px rgba(0, 0, 0, 0.15);\n",
              "      filter: drop-shadow(0px 1px 2px rgba(0, 0, 0, 0.3));\n",
              "      fill: #FFFFFF;\n",
              "    }\n",
              "  </style>\n",
              "\n",
              "      <script>\n",
              "        const buttonEl =\n",
              "          document.querySelector('#df-d996eb15-118c-4cbf-a002-aa65f130fe0a button.colab-df-convert');\n",
              "        buttonEl.style.display =\n",
              "          google.colab.kernel.accessAllowed ? 'block' : 'none';\n",
              "\n",
              "        async function convertToInteractive(key) {\n",
              "          const element = document.querySelector('#df-d996eb15-118c-4cbf-a002-aa65f130fe0a');\n",
              "          const dataTable =\n",
              "            await google.colab.kernel.invokeFunction('convertToInteractive',\n",
              "                                                     [key], {});\n",
              "          if (!dataTable) return;\n",
              "\n",
              "          const docLinkHtml = 'Like what you see? Visit the ' +\n",
              "            '<a target=\"_blank\" href=https://colab.research.google.com/notebooks/data_table.ipynb>data table notebook</a>'\n",
              "            + ' to learn more about interactive tables.';\n",
              "          element.innerHTML = '';\n",
              "          dataTable['output_type'] = 'display_data';\n",
              "          await google.colab.output.renderOutput(dataTable, element);\n",
              "          const docLink = document.createElement('div');\n",
              "          docLink.innerHTML = docLinkHtml;\n",
              "          element.appendChild(docLink);\n",
              "        }\n",
              "      </script>\n",
              "    </div>\n",
              "  </div>\n",
              "  "
            ]
          },
          "metadata": {},
          "execution_count": 563
        }
      ]
    },
    {
      "cell_type": "code",
      "source": [
        "df_weather.info()"
      ],
      "metadata": {
        "colab": {
          "base_uri": "https://localhost:8080/"
        },
        "id": "yxdjumHjSEnZ",
        "outputId": "54af8de4-1ded-4790-e90a-5dd394571505"
      },
      "execution_count": 564,
      "outputs": [
        {
          "output_type": "stream",
          "name": "stdout",
          "text": [
            "<class 'pandas.core.frame.DataFrame'>\n",
            "RangeIndex: 1552 entries, 0 to 1551\n",
            "Data columns (total 19 columns):\n",
            " #   Column       Non-Null Count  Dtype         \n",
            "---  ------       --------------  -----         \n",
            " 0   Date         1552 non-null   datetime64[ns]\n",
            " 1   Day          1552 non-null   int64         \n",
            " 2   Temp_max     1552 non-null   int64         \n",
            " 3   Temp_avg     1552 non-null   float64       \n",
            " 4   Temp_min     1552 non-null   int64         \n",
            " 5   Dew_max      1552 non-null   int64         \n",
            " 6   Dew_avg      1552 non-null   float64       \n",
            " 7   Dew_min      1552 non-null   int64         \n",
            " 8   Hum_max      1552 non-null   int64         \n",
            " 9   Hum_avg      1552 non-null   float64       \n",
            " 10  Hum_min      1552 non-null   int64         \n",
            " 11  Wind_max     1552 non-null   int64         \n",
            " 12  Wind_avg     1552 non-null   float64       \n",
            " 13  Wind_min     1552 non-null   int64         \n",
            " 14  Press_max    1552 non-null   float64       \n",
            " 15  Press_avg    1552 non-null   float64       \n",
            " 16  Press_min    1552 non-null   float64       \n",
            " 17  Precipit     1552 non-null   float64       \n",
            " 18  day_of_week  1552 non-null   int64         \n",
            "dtypes: datetime64[ns](1), float64(8), int64(10)\n",
            "memory usage: 230.5 KB\n"
          ]
        }
      ]
    },
    {
      "cell_type": "code",
      "source": [
        "#Verificando registros duplicados\n",
        "print(f\"Valores duplicados: {df_weather.duplicated().sum()}\")"
      ],
      "metadata": {
        "id": "6rQzrLe2LPbO",
        "outputId": "1f07cefe-462f-496c-e361-7b66af25a849",
        "colab": {
          "base_uri": "https://localhost:8080/"
        }
      },
      "execution_count": 565,
      "outputs": [
        {
          "output_type": "stream",
          "name": "stdout",
          "text": [
            "Valores duplicados: 0\n"
          ]
        }
      ]
    },
    {
      "cell_type": "markdown",
      "source": [
        "###Dataset para modelagem"
      ],
      "metadata": {
        "id": "kQWRs2RlLZ4A"
      }
    },
    {
      "cell_type": "code",
      "source": [
        "df_cons_pred = df_weather.merge(df_consumption, on='Date', how='right')"
      ],
      "metadata": {
        "id": "nbGFLZQALktO"
      },
      "execution_count": 566,
      "outputs": []
    },
    {
      "cell_type": "code",
      "source": [
        "df_cons_pred.isnull().sum()"
      ],
      "metadata": {
        "id": "Y3lLtPC3PHVa",
        "outputId": "90345fa5-77c0-4682-ced2-3f11ca90e370",
        "colab": {
          "base_uri": "https://localhost:8080/"
        }
      },
      "execution_count": 567,
      "outputs": [
        {
          "output_type": "execute_result",
          "data": {
            "text/plain": [
              "Date           0\n",
              "Day            0\n",
              "Temp_max       0\n",
              "Temp_avg       0\n",
              "Temp_min       0\n",
              "Dew_max        0\n",
              "Dew_avg        0\n",
              "Dew_min        0\n",
              "Hum_max        0\n",
              "Hum_avg        0\n",
              "Hum_min        0\n",
              "Wind_max       0\n",
              "Wind_avg       0\n",
              "Wind_min       0\n",
              "Press_max      0\n",
              "Press_avg      0\n",
              "Press_min      0\n",
              "Precipit       0\n",
              "day_of_week    0\n",
              "consumption    0\n",
              "dtype: int64"
            ]
          },
          "metadata": {},
          "execution_count": 567
        }
      ]
    },
    {
      "cell_type": "code",
      "source": [
        "#Verificando registros duplicados\n",
        "print(f\"Valores duplicados: {df_cons_pred.duplicated().sum()}\")"
      ],
      "metadata": {
        "id": "Zu4YLMBzLgJ_",
        "outputId": "4ed758d0-f9e1-4839-c33b-afc0d554ca70",
        "colab": {
          "base_uri": "https://localhost:8080/"
        }
      },
      "execution_count": 568,
      "outputs": [
        {
          "output_type": "stream",
          "name": "stdout",
          "text": [
            "Valores duplicados: 0\n"
          ]
        }
      ]
    },
    {
      "cell_type": "markdown",
      "source": [
        "##Analises dos dados"
      ],
      "metadata": {
        "id": "gLb-iw1UK_aH"
      }
    },
    {
      "cell_type": "markdown",
      "source": [
        "###Analise correlação"
      ],
      "metadata": {
        "id": "RtUZWlHTaP7m"
      }
    },
    {
      "cell_type": "code",
      "source": [
        "#correlacao linear\n",
        "#get correlations of each features in dataset\n",
        "corrmat = df_cons_pred.corr()\n",
        "top_corr_features = corrmat.index\n",
        "plt.figure(figsize=(20,20))\n",
        "#plot heat map\n",
        "g=sns.heatmap(df_cons_pred[top_corr_features].corr(),annot=True,cmap=\"RdYlGn\")"
      ],
      "metadata": {
        "id": "zryJ34FeonLS",
        "outputId": "d097e820-abfd-4d89-f88b-08de1a74ff2a",
        "colab": {
          "base_uri": "https://localhost:8080/",
          "height": 0
        }
      },
      "execution_count": 569,
      "outputs": [
        {
          "output_type": "display_data",
          "data": {
            "text/plain": [
              "<Figure size 1440x1440 with 2 Axes>"
            ],
            "image/png": "[encoded data removed]"
          },
          "metadata": {
            "needs_background": "light"
          }
        }
      ]
    },
    {
      "cell_type": "code",
      "source": [
        "# Avaliação das features aplicando o teste Anova\n",
        "test = SelectKBest(score_func=f_regression)\n",
        "fit = test.fit(df_cons_pred.drop(columns='Date'), df_cons_pred['consumption'])\n",
        "\n",
        "#print das features e seus respectivos p-value\n",
        "columns_select = []\n",
        "for value in zip(df_cons_pred.drop(columns='Date').columns, fit.pvalues_):\n",
        "  if value[1]<0.05:\n",
        "    columns_select.append(value[0])\n",
        "    print(value)"
      ],
      "metadata": {
        "id": "X4fK3xt5c2mv",
        "outputId": "e2ae43a3-0a4f-4e44-b1df-ba2669467e66",
        "colab": {
          "base_uri": "https://localhost:8080/"
        }
      },
      "execution_count": 570,
      "outputs": [
        {
          "output_type": "stream",
          "name": "stdout",
          "text": [
            "('Day', 0.02307587877892945)\n",
            "('Temp_max', 9.787346470938972e-231)\n",
            "('Temp_avg', 8.575695445540766e-240)\n",
            "('Temp_min', 1.0208785012429173e-225)\n",
            "('Dew_max', 3.0192689734113702e-151)\n",
            "('Dew_avg', 2.4063940564508213e-169)\n",
            "('Dew_min', 4.747554460791973e-177)\n",
            "('Hum_max', 9.809408408638186e-05)\n",
            "('Hum_min', 0.003578418223692525)\n",
            "('Wind_avg', 2.2831581020724233e-16)\n",
            "('Wind_min', 1.0559494635599866e-07)\n",
            "('Press_max', 2.4677375339118303e-54)\n",
            "('Press_avg', 1.176147839122526e-30)\n"
          ]
        }
      ]
    },
    {
      "cell_type": "code",
      "source": [
        "columns_select"
      ],
      "metadata": {
        "id": "B3LfJQw2f5EM",
        "outputId": "5954a930-f17e-4c72-847e-6e21ed85e834",
        "colab": {
          "base_uri": "https://localhost:8080/"
        }
      },
      "execution_count": 571,
      "outputs": [
        {
          "output_type": "execute_result",
          "data": {
            "text/plain": [
              "['Day',\n",
              " 'Temp_max',\n",
              " 'Temp_avg',\n",
              " 'Temp_min',\n",
              " 'Dew_max',\n",
              " 'Dew_avg',\n",
              " 'Dew_min',\n",
              " 'Hum_max',\n",
              " 'Hum_min',\n",
              " 'Wind_avg',\n",
              " 'Wind_min',\n",
              " 'Press_max',\n",
              " 'Press_avg']"
            ]
          },
          "metadata": {},
          "execution_count": 571
        }
      ]
    },
    {
      "cell_type": "code",
      "source": [
        "columns = columns_select + ['Date', 'consumption']\n",
        "columns.remove('Day')\n",
        "columns"
      ],
      "metadata": {
        "colab": {
          "base_uri": "https://localhost:8080/"
        },
        "id": "7pC-A5QpLPL7",
        "outputId": "8a83286c-6626-4c9e-ed93-95b0d062cc16"
      },
      "execution_count": 572,
      "outputs": [
        {
          "output_type": "execute_result",
          "data": {
            "text/plain": [
              "['Temp_max',\n",
              " 'Temp_avg',\n",
              " 'Temp_min',\n",
              " 'Dew_max',\n",
              " 'Dew_avg',\n",
              " 'Dew_min',\n",
              " 'Hum_max',\n",
              " 'Hum_min',\n",
              " 'Wind_avg',\n",
              " 'Wind_min',\n",
              " 'Press_max',\n",
              " 'Press_avg',\n",
              " 'Date',\n",
              " 'consumption']"
            ]
          },
          "metadata": {},
          "execution_count": 572
        }
      ]
    },
    {
      "cell_type": "code",
      "source": [
        "df_cons_pred = df_cons_pred[columns]"
      ],
      "metadata": {
        "id": "jL7h0zLLM7FW"
      },
      "execution_count": 573,
      "outputs": []
    },
    {
      "cell_type": "markdown",
      "source": [
        "###Analise de escala"
      ],
      "metadata": {
        "id": "XzBHCaFFVJcv"
      }
    },
    {
      "cell_type": "code",
      "source": [
        "scaler = StandardScaler()"
      ],
      "metadata": {
        "id": "9pxSAb7ihUSN"
      },
      "execution_count": 574,
      "outputs": []
    },
    {
      "cell_type": "code",
      "source": [
        "columns_scale_transf = ['Temp_max', 'Temp_avg', 'Temp_min', 'Dew_max', 'Dew_avg', 'Dew_min', 'Hum_max', 'Hum_min', 'Wind_avg', 'Wind_min', 'Press_max', 'Press_avg']"
      ],
      "metadata": {
        "id": "6pnu9KBfhbF8"
      },
      "execution_count": 575,
      "outputs": []
    },
    {
      "cell_type": "code",
      "source": [
        "for feature in columns_scale_transf:\n",
        "  temp = StandardScaler().fit_transform(df_cons_pred[feature].values.reshape(-1, 1))\n",
        "  df_cons_pred[feature] = temp"
      ],
      "metadata": {
        "id": "ro5WfmfYjemm"
      },
      "execution_count": 576,
      "outputs": []
    },
    {
      "cell_type": "code",
      "source": [
        "df_cons_pred.describe()"
      ],
      "metadata": {
        "id": "Q2nNtcs4kSi_",
        "outputId": "219b68b6-3e95-4a34-a28c-a1a6e8da2d9d",
        "colab": {
          "base_uri": "https://localhost:8080/",
          "height": 0
        }
      },
      "execution_count": 577,
      "outputs": [
        {
          "output_type": "execute_result",
          "data": {
            "text/plain": [
              "           Temp_max      Temp_avg      Temp_min       Dew_max       Dew_avg  \\\n",
              "count  1.498000e+03  1.498000e+03  1.498000e+03  1.498000e+03  1.498000e+03   \n",
              "mean   1.660888e-16  4.172601e-17  3.518177e-16  1.075760e-16 -2.275290e-17   \n",
              "std    1.000334e+00  1.000334e+00  1.000334e+00  1.000334e+00  1.000334e+00   \n",
              "min   -3.699131e+00 -3.511351e+00 -3.253744e+00 -3.909433e+00 -3.547677e+00   \n",
              "25%   -6.156245e-01 -6.734725e-01 -8.072374e-01 -4.869284e-01 -6.019136e-01   \n",
              "50%    1.750181e-01  2.028129e-01  3.048112e-01  3.028803e-01  3.081298e-01   \n",
              "75%    8.075321e-01  8.298796e-01  8.979038e-01  7.889164e-01  8.307652e-01   \n",
              "max    1.598175e+00  1.505182e+00  1.490996e+00  1.355959e+00  1.320507e+00   \n",
              "\n",
              "            Dew_min       Hum_max       Hum_min      Wind_avg      Wind_min  \\\n",
              "count  1.498000e+03  1.498000e+03  1.498000e+03  1.498000e+03  1.498000e+03   \n",
              "mean  -4.378312e-16  5.235391e-16  1.265862e-16 -9.471729e-17 -3.683450e-16   \n",
              "std    1.000334e+00  1.000334e+00  1.000334e+00  1.000334e+00  1.000334e+00   \n",
              "min   -3.054797e+00 -5.502529e+00 -2.316671e+00 -2.051619e+00 -5.531103e-01   \n",
              "25%   -7.558174e-01 -3.387644e-01 -6.619910e-01 -6.880911e-01 -5.531103e-01   \n",
              "50%    3.608297e-01  1.776121e-01 -8.921712e-02 -1.559827e-01 -5.531103e-01   \n",
              "75%    8.863107e-01  9.521769e-01  6.108399e-01  5.756664e-01  6.396334e-01   \n",
              "max    1.411792e+00  9.521769e-01  2.901935e+00  5.364642e+00  6.205771e+00   \n",
              "\n",
              "          Press_max     Press_avg  consumption  \n",
              "count  1.498000e+03  1.498000e+03  1498.000000  \n",
              "mean   2.903848e-15 -4.520075e-14    21.399148  \n",
              "std    1.000334e+00  1.000334e+00    12.635139  \n",
              "min   -2.852965e+00 -6.828904e+00     4.610000  \n",
              "25%   -4.620607e-01 -6.552780e-01    10.828750  \n",
              "50%   -4.620607e-01 -3.791546e-02    16.833500  \n",
              "75%    7.333916e-01  5.794471e-01    30.726250  \n",
              "max    3.722022e+00  4.283623e+00    78.225300  "
            ],
            "text/html": [
              "\n",
              "  <div id=\"df-0922d7a7-e4da-4b17-af05-3ebe946d1b81\">\n",
              "    <div class=\"colab-df-container\">\n",
              "      <div>\n",
              "<style scoped>\n",
              "    .dataframe tbody tr th:only-of-type {\n",
              "        vertical-align: middle;\n",
              "    }\n",
              "\n",
              "    .dataframe tbody tr th {\n",
              "        vertical-align: top;\n",
              "    }\n",
              "\n",
              "    .dataframe thead th {\n",
              "        text-align: right;\n",
              "    }\n",
              "</style>\n",
              "<table border=\"1\" class=\"dataframe\">\n",
              "  <thead>\n",
              "    <tr style=\"text-align: right;\">\n",
              "      <th></th>\n",
              "      <th>Temp_max</th>\n",
              "      <th>Temp_avg</th>\n",
              "      <th>Temp_min</th>\n",
              "      <th>Dew_max</th>\n",
              "      <th>Dew_avg</th>\n",
              "      <th>Dew_min</th>\n",
              "      <th>Hum_max</th>\n",
              "      <th>Hum_min</th>\n",
              "      <th>Wind_avg</th>\n",
              "      <th>Wind_min</th>\n",
              "      <th>Press_max</th>\n",
              "      <th>Press_avg</th>\n",
              "      <th>consumption</th>\n",
              "    </tr>\n",
              "  </thead>\n",
              "  <tbody>\n",
              "    <tr>\n",
              "      <th>count</th>\n",
              "      <td>1.498000e+03</td>\n",
              "      <td>1.498000e+03</td>\n",
              "      <td>1.498000e+03</td>\n",
              "      <td>1.498000e+03</td>\n",
              "      <td>1.498000e+03</td>\n",
              "      <td>1.498000e+03</td>\n",
              "      <td>1.498000e+03</td>\n",
              "      <td>1.498000e+03</td>\n",
              "      <td>1.498000e+03</td>\n",
              "      <td>1.498000e+03</td>\n",
              "      <td>1.498000e+03</td>\n",
              "      <td>1.498000e+03</td>\n",
              "      <td>1498.000000</td>\n",
              "    </tr>\n",
              "    <tr>\n",
              "      <th>mean</th>\n",
              "      <td>1.660888e-16</td>\n",
              "      <td>4.172601e-17</td>\n",
              "      <td>3.518177e-16</td>\n",
              "      <td>1.075760e-16</td>\n",
              "      <td>-2.275290e-17</td>\n",
              "      <td>-4.378312e-16</td>\n",
              "      <td>5.235391e-16</td>\n",
              "      <td>1.265862e-16</td>\n",
              "      <td>-9.471729e-17</td>\n",
              "      <td>-3.683450e-16</td>\n",
              "      <td>2.903848e-15</td>\n",
              "      <td>-4.520075e-14</td>\n",
              "      <td>21.399148</td>\n",
              "    </tr>\n",
              "    <tr>\n",
              "      <th>std</th>\n",
              "      <td>1.000334e+00</td>\n",
              "      <td>1.000334e+00</td>\n",
              "      <td>1.000334e+00</td>\n",
              "      <td>1.000334e+00</td>\n",
              "      <td>1.000334e+00</td>\n",
              "      <td>1.000334e+00</td>\n",
              "      <td>1.000334e+00</td>\n",
              "      <td>1.000334e+00</td>\n",
              "      <td>1.000334e+00</td>\n",
              "      <td>1.000334e+00</td>\n",
              "      <td>1.000334e+00</td>\n",
              "      <td>1.000334e+00</td>\n",
              "      <td>12.635139</td>\n",
              "    </tr>\n",
              "    <tr>\n",
              "      <th>min</th>\n",
              "      <td>-3.699131e+00</td>\n",
              "      <td>-3.511351e+00</td>\n",
              "      <td>-3.253744e+00</td>\n",
              "      <td>-3.909433e+00</td>\n",
              "      <td>-3.547677e+00</td>\n",
              "      <td>-3.054797e+00</td>\n",
              "      <td>-5.502529e+00</td>\n",
              "      <td>-2.316671e+00</td>\n",
              "      <td>-2.051619e+00</td>\n",
              "      <td>-5.531103e-01</td>\n",
              "      <td>-2.852965e+00</td>\n",
              "      <td>-6.828904e+00</td>\n",
              "      <td>4.610000</td>\n",
              "    </tr>\n",
              "    <tr>\n",
              "      <th>25%</th>\n",
              "      <td>-6.156245e-01</td>\n",
              "      <td>-6.734725e-01</td>\n",
              "      <td>-8.072374e-01</td>\n",
              "      <td>-4.869284e-01</td>\n",
              "      <td>-6.019136e-01</td>\n",
              "      <td>-7.558174e-01</td>\n",
              "      <td>-3.387644e-01</td>\n",
              "      <td>-6.619910e-01</td>\n",
              "      <td>-6.880911e-01</td>\n",
              "      <td>-5.531103e-01</td>\n",
              "      <td>-4.620607e-01</td>\n",
              "      <td>-6.552780e-01</td>\n",
              "      <td>10.828750</td>\n",
              "    </tr>\n",
              "    <tr>\n",
              "      <th>50%</th>\n",
              "      <td>1.750181e-01</td>\n",
              "      <td>2.028129e-01</td>\n",
              "      <td>3.048112e-01</td>\n",
              "      <td>3.028803e-01</td>\n",
              "      <td>3.081298e-01</td>\n",
              "      <td>3.608297e-01</td>\n",
              "      <td>1.776121e-01</td>\n",
              "      <td>-8.921712e-02</td>\n",
              "      <td>-1.559827e-01</td>\n",
              "      <td>-5.531103e-01</td>\n",
              "      <td>-4.620607e-01</td>\n",
              "      <td>-3.791546e-02</td>\n",
              "      <td>16.833500</td>\n",
              "    </tr>\n",
              "    <tr>\n",
              "      <th>75%</th>\n",
              "      <td>8.075321e-01</td>\n",
              "      <td>8.298796e-01</td>\n",
              "      <td>8.979038e-01</td>\n",
              "      <td>7.889164e-01</td>\n",
              "      <td>8.307652e-01</td>\n",
              "      <td>8.863107e-01</td>\n",
              "      <td>9.521769e-01</td>\n",
              "      <td>6.108399e-01</td>\n",
              "      <td>5.756664e-01</td>\n",
              "      <td>6.396334e-01</td>\n",
              "      <td>7.333916e-01</td>\n",
              "      <td>5.794471e-01</td>\n",
              "      <td>30.726250</td>\n",
              "    </tr>\n",
              "    <tr>\n",
              "      <th>max</th>\n",
              "      <td>1.598175e+00</td>\n",
              "      <td>1.505182e+00</td>\n",
              "      <td>1.490996e+00</td>\n",
              "      <td>1.355959e+00</td>\n",
              "      <td>1.320507e+00</td>\n",
              "      <td>1.411792e+00</td>\n",
              "      <td>9.521769e-01</td>\n",
              "      <td>2.901935e+00</td>\n",
              "      <td>5.364642e+00</td>\n",
              "      <td>6.205771e+00</td>\n",
              "      <td>3.722022e+00</td>\n",
              "      <td>4.283623e+00</td>\n",
              "      <td>78.225300</td>\n",
              "    </tr>\n",
              "  </tbody>\n",
              "</table>\n",
              "</div>\n",
              "      <button class=\"colab-df-convert\" onclick=\"convertToInteractive('df-0922d7a7-e4da-4b17-af05-3ebe946d1b81')\"\n",
              "              title=\"Convert this dataframe to an interactive table.\"\n",
              "              style=\"display:none;\">\n",
              "        \n",
              "  <svg xmlns=\"http://www.w3.org/2000/svg\" height=\"24px\"viewBox=\"0 0 24 24\"\n",
              "       width=\"24px\">\n",
              "    <path d=\"M0 0h24v24H0V0z\" fill=\"none\"/>\n",
              "    <path d=\"M18.56 5.44l.94 2.06.94-2.06 2.06-.94-2.06-.94-.94-2.06-.94 2.06-2.06.94zm-11 1L8.5 8.5l.94-2.06 2.06-.94-2.06-.94L8.5 2.5l-.94 2.06-2.06.94zm10 10l.94 2.06.94-2.06 2.06-.94-2.06-.94-.94-2.06-.94 2.06-2.06.94z\"/><path d=\"M17.41 7.96l-1.37-1.37c-.4-.4-.92-.59-1.43-.59-.52 0-1.04.2-1.43.59L10.3 9.45l-7.72 7.72c-.78.78-.78 2.05 0 2.83L4 21.41c.39.39.9.59 1.41.59.51 0 1.02-.2 1.41-.59l7.78-7.78 2.81-2.81c.8-.78.8-2.07 0-2.86zM5.41 20L4 18.59l7.72-7.72 1.47 1.35L5.41 20z\"/>\n",
              "  </svg>\n",
              "      </button>\n",
              "      \n",
              "  <style>\n",
              "    .colab-df-container {\n",
              "      display:flex;\n",
              "      flex-wrap:wrap;\n",
              "      gap: 12px;\n",
              "    }\n",
              "\n",
              "    .colab-df-convert {\n",
              "      background-color: #E8F0FE;\n",
              "      border: none;\n",
              "      border-radius: 50%;\n",
              "      cursor: pointer;\n",
              "      display: none;\n",
              "      fill: #1967D2;\n",
              "      height: 32px;\n",
              "      padding: 0 0 0 0;\n",
              "      width: 32px;\n",
              "    }\n",
              "\n",
              "    .colab-df-convert:hover {\n",
              "      background-color: #E2EBFA;\n",
              "      box-shadow: 0px 1px 2px rgba(60, 64, 67, 0.3), 0px 1px 3px 1px rgba(60, 64, 67, 0.15);\n",
              "      fill: #174EA6;\n",
              "    }\n",
              "\n",
              "    [theme=dark] .colab-df-convert {\n",
              "      background-color: #3B4455;\n",
              "      fill: #D2E3FC;\n",
              "    }\n",
              "\n",
              "    [theme=dark] .colab-df-convert:hover {\n",
              "      background-color: #434B5C;\n",
              "      box-shadow: 0px 1px 3px 1px rgba(0, 0, 0, 0.15);\n",
              "      filter: drop-shadow(0px 1px 2px rgba(0, 0, 0, 0.3));\n",
              "      fill: #FFFFFF;\n",
              "    }\n",
              "  </style>\n",
              "\n",
              "      <script>\n",
              "        const buttonEl =\n",
              "          document.querySelector('#df-0922d7a7-e4da-4b17-af05-3ebe946d1b81 button.colab-df-convert');\n",
              "        buttonEl.style.display =\n",
              "          google.colab.kernel.accessAllowed ? 'block' : 'none';\n",
              "\n",
              "        async function convertToInteractive(key) {\n",
              "          const element = document.querySelector('#df-0922d7a7-e4da-4b17-af05-3ebe946d1b81');\n",
              "          const dataTable =\n",
              "            await google.colab.kernel.invokeFunction('convertToInteractive',\n",
              "                                                     [key], {});\n",
              "          if (!dataTable) return;\n",
              "\n",
              "          const docLinkHtml = 'Like what you see? Visit the ' +\n",
              "            '<a target=\"_blank\" href=https://colab.research.google.com/notebooks/data_table.ipynb>data table notebook</a>'\n",
              "            + ' to learn more about interactive tables.';\n",
              "          element.innerHTML = '';\n",
              "          dataTable['output_type'] = 'display_data';\n",
              "          await google.colab.output.renderOutput(dataTable, element);\n",
              "          const docLink = document.createElement('div');\n",
              "          docLink.innerHTML = docLinkHtml;\n",
              "          element.appendChild(docLink);\n",
              "        }\n",
              "      </script>\n",
              "    </div>\n",
              "  </div>\n",
              "  "
            ]
          },
          "metadata": {},
          "execution_count": 577
        }
      ]
    },
    {
      "cell_type": "code",
      "source": [
        "columns = df_cons_pred.columns.values\n",
        "columns"
      ],
      "metadata": {
        "id": "zRZW9Ug7Nw8d",
        "outputId": "2b7f544d-1872-4902-823b-a6aa9689d2ea",
        "colab": {
          "base_uri": "https://localhost:8080/"
        }
      },
      "execution_count": 578,
      "outputs": [
        {
          "output_type": "execute_result",
          "data": {
            "text/plain": [
              "array(['Temp_max', 'Temp_avg', 'Temp_min', 'Dew_max', 'Dew_avg',\n",
              "       'Dew_min', 'Hum_max', 'Hum_min', 'Wind_avg', 'Wind_min',\n",
              "       'Press_max', 'Press_avg', 'Date', 'consumption'], dtype=object)"
            ]
          },
          "metadata": {},
          "execution_count": 578
        }
      ]
    },
    {
      "cell_type": "code",
      "source": [
        "for feature in columns[2:-2]:\n",
        "  fig, ax = plt.subplots()\n",
        "  fig.tight_layout()\n",
        "  ax.hist(x=df_cons_pred[feature])\n",
        "  ax.set_title(feature)"
      ],
      "metadata": {
        "id": "dkvl8kMBGsL1",
        "outputId": "2bc62a05-c1a2-4976-e1db-908a927d5abb",
        "colab": {
          "base_uri": "https://localhost:8080/",
          "height": 0
        }
      },
      "execution_count": 579,
      "outputs": [
        {
          "output_type": "display_data",
          "data": {
            "text/plain": [
              "<Figure size 432x288 with 1 Axes>"
            ],
            "image/png": "[encoded data removed]"
          },
          "metadata": {
            "needs_background": "light"
          }
        },
        {
          "output_type": "display_data",
          "data": {
            "text/plain": [
              "<Figure size 432x288 with 1 Axes>"
            ],
            "image/png": "[encoded data removed]"
          },
          "metadata": {
            "needs_background": "light"
          }
        },
        {
          "output_type": "display_data",
          "data": {
            "text/plain": [
              "<Figure size 432x288 with 1 Axes>"
            ],
            "image/png": "[encoded data removed]"
          },
          "metadata": {
            "needs_background": "light"
          }
        },
        {
          "output_type": "display_data",
          "data": {
            "text/plain": [
              "<Figure size 432x288 with 1 Axes>"
            ],
            "image/png": "[encoded data removed]"
          },
          "metadata": {
            "needs_background": "light"
          }
        },
        {
          "output_type": "display_data",
          "data": {
            "text/plain": [
              "<Figure size 432x288 with 1 Axes>"
            ],
            "image/png": "[encoded data removed]"
          },
          "metadata": {
            "needs_background": "light"
          }
        },
        {
          "output_type": "display_data",
          "data": {
            "text/plain": [
              "<Figure size 432x288 with 1 Axes>"
            ],
            "image/png": "[encoded data removed]"
          },
          "metadata": {
            "needs_background": "light"
          }
        },
        {
          "output_type": "display_data",
          "data": {
            "text/plain": [
              "<Figure size 432x288 with 1 Axes>"
            ],
            "image/png": "[encoded data removed]"
          },
          "metadata": {
            "needs_background": "light"
          }
        },
        {
          "output_type": "display_data",
          "data": {
            "text/plain": [
              "<Figure size 432x288 with 1 Axes>"
            ],
            "image/png": "[encoded data removed]"
          },
          "metadata": {
            "needs_background": "light"
          }
        },
        {
          "output_type": "display_data",
          "data": {
            "text/plain": [
              "<Figure size 432x288 with 1 Axes>"
            ],
            "image/png": "[encoded data removed]"
          },
          "metadata": {
            "needs_background": "light"
          }
        },
        {
          "output_type": "display_data",
          "data": {
            "text/plain": [
              "<Figure size 432x288 with 1 Axes>"
            ],
            "image/png": "[encoded data removed]"
          },
          "metadata": {
            "needs_background": "light"
          }
        }
      ]
    },
    {
      "cell_type": "code",
      "source": [
        "#df_cons_pred['Dew_avg2'] = np.log10(df_cons_pred['Dew_avg'] + 1)\n",
        "#fig, ax = plt.subplots()\n",
        "#fig.tight_layout()\n",
        "#ax.hist(x=df_cons_pred['Dew_avg2'])\n",
        "#ax.set_title('Dew_avg2')"
      ],
      "metadata": {
        "id": "E4k9yWK9bXqm"
      },
      "execution_count": 580,
      "outputs": []
    },
    {
      "cell_type": "markdown",
      "source": [
        "##Feature engineering"
      ],
      "metadata": {
        "id": "OCOc3oMMJhRb"
      }
    },
    {
      "cell_type": "code",
      "source": [
        "df_cons_pred['day'] = df_cons_pred.Date.dt.day\n",
        "df_cons_pred['day_of_week'] = df_cons_pred.Date.dt.day_of_week\n",
        "df_cons_pred['month'] = df_cons_pred.Date.dt.month\n",
        "df_cons_pred['year'] = df_cons_pred.Date.dt.year\n",
        "df_cons_pred.drop(columns='Date', inplace=True)"
      ],
      "metadata": {
        "id": "VLBTkJ8RqcEg"
      },
      "execution_count": 581,
      "outputs": []
    },
    {
      "cell_type": "code",
      "source": [
        "df_cons_pred.head()"
      ],
      "metadata": {
        "colab": {
          "base_uri": "https://localhost:8080/",
          "height": 206
        },
        "id": "V-ADKurYqt1P",
        "outputId": "aaf73839-b5c3-43d7-ed88-a2898ac2bbea"
      },
      "execution_count": 582,
      "outputs": [
        {
          "output_type": "execute_result",
          "data": {
            "text/plain": [
              "   Temp_max  Temp_avg  Temp_min   Dew_max   Dew_avg   Dew_min   Hum_max  \\\n",
              "0  0.333147  0.283206  0.378948  0.626904  0.706502  0.623570  0.952177   \n",
              "1  1.044725  1.095177  0.972040  0.788916  0.896551  1.017681  0.177612   \n",
              "2  1.281918  1.223806  0.897904  0.788916  0.845384  0.689255  0.435800   \n",
              "3  1.202853  1.199688  1.120313  0.707910  0.845384  0.886311 -0.596953   \n",
              "4  0.016890 -0.014249 -0.140008 -0.183156 -0.170648  0.032404 -0.338764   \n",
              "\n",
              "    Hum_min  Wind_avg  Wind_min  Press_max  Press_avg  consumption  day  \\\n",
              "0  0.865406  0.575666  -0.55311  -1.059787  -0.655278       29.691    6   \n",
              "1 -0.025576 -0.688091  -0.55311  -0.462061  -0.037915       43.177    7   \n",
              "2 -0.916557 -0.588321  -0.55311   0.135665  -0.037915       50.057    8   \n",
              "3 -0.343783 -0.488550  -0.55311  -1.059787  -0.655278       47.363    9   \n",
              "4 -0.407425 -1.486254  -0.55311   0.135665  -0.037915       42.203   10   \n",
              "\n",
              "   day_of_week  month  year  \n",
              "0            2      1  2016  \n",
              "1            3      1  2016  \n",
              "2            4      1  2016  \n",
              "3            5      1  2016  \n",
              "4            6      1  2016  "
            ],
            "text/html": [
              "\n",
              "  <div id=\"df-dc5f1662-4f5a-48f3-b5a8-b6ece2ef1f96\">\n",
              "    <div class=\"colab-df-container\">\n",
              "      <div>\n",
              "<style scoped>\n",
              "    .dataframe tbody tr th:only-of-type {\n",
              "        vertical-align: middle;\n",
              "    }\n",
              "\n",
              "    .dataframe tbody tr th {\n",
              "        vertical-align: top;\n",
              "    }\n",
              "\n",
              "    .dataframe thead th {\n",
              "        text-align: right;\n",
              "    }\n",
              "</style>\n",
              "<table border=\"1\" class=\"dataframe\">\n",
              "  <thead>\n",
              "    <tr style=\"text-align: right;\">\n",
              "      <th></th>\n",
              "      <th>Temp_max</th>\n",
              "      <th>Temp_avg</th>\n",
              "      <th>Temp_min</th>\n",
              "      <th>Dew_max</th>\n",
              "      <th>Dew_avg</th>\n",
              "      <th>Dew_min</th>\n",
              "      <th>Hum_max</th>\n",
              "      <th>Hum_min</th>\n",
              "      <th>Wind_avg</th>\n",
              "      <th>Wind_min</th>\n",
              "      <th>Press_max</th>\n",
              "      <th>Press_avg</th>\n",
              "      <th>consumption</th>\n",
              "      <th>day</th>\n",
              "      <th>day_of_week</th>\n",
              "      <th>month</th>\n",
              "      <th>year</th>\n",
              "    </tr>\n",
              "  </thead>\n",
              "  <tbody>\n",
              "    <tr>\n",
              "      <th>0</th>\n",
              "      <td>0.333147</td>\n",
              "      <td>0.283206</td>\n",
              "      <td>0.378948</td>\n",
              "      <td>0.626904</td>\n",
              "      <td>0.706502</td>\n",
              "      <td>0.623570</td>\n",
              "      <td>0.952177</td>\n",
              "      <td>0.865406</td>\n",
              "      <td>0.575666</td>\n",
              "      <td>-0.55311</td>\n",
              "      <td>-1.059787</td>\n",
              "      <td>-0.655278</td>\n",
              "      <td>29.691</td>\n",
              "      <td>6</td>\n",
              "      <td>2</td>\n",
              "      <td>1</td>\n",
              "      <td>2016</td>\n",
              "    </tr>\n",
              "    <tr>\n",
              "      <th>1</th>\n",
              "      <td>1.044725</td>\n",
              "      <td>1.095177</td>\n",
              "      <td>0.972040</td>\n",
              "      <td>0.788916</td>\n",
              "      <td>0.896551</td>\n",
              "      <td>1.017681</td>\n",
              "      <td>0.177612</td>\n",
              "      <td>-0.025576</td>\n",
              "      <td>-0.688091</td>\n",
              "      <td>-0.55311</td>\n",
              "      <td>-0.462061</td>\n",
              "      <td>-0.037915</td>\n",
              "      <td>43.177</td>\n",
              "      <td>7</td>\n",
              "      <td>3</td>\n",
              "      <td>1</td>\n",
              "      <td>2016</td>\n",
              "    </tr>\n",
              "    <tr>\n",
              "      <th>2</th>\n",
              "      <td>1.281918</td>\n",
              "      <td>1.223806</td>\n",
              "      <td>0.897904</td>\n",
              "      <td>0.788916</td>\n",
              "      <td>0.845384</td>\n",
              "      <td>0.689255</td>\n",
              "      <td>0.435800</td>\n",
              "      <td>-0.916557</td>\n",
              "      <td>-0.588321</td>\n",
              "      <td>-0.55311</td>\n",
              "      <td>0.135665</td>\n",
              "      <td>-0.037915</td>\n",
              "      <td>50.057</td>\n",
              "      <td>8</td>\n",
              "      <td>4</td>\n",
              "      <td>1</td>\n",
              "      <td>2016</td>\n",
              "    </tr>\n",
              "    <tr>\n",
              "      <th>3</th>\n",
              "      <td>1.202853</td>\n",
              "      <td>1.199688</td>\n",
              "      <td>1.120313</td>\n",
              "      <td>0.707910</td>\n",
              "      <td>0.845384</td>\n",
              "      <td>0.886311</td>\n",
              "      <td>-0.596953</td>\n",
              "      <td>-0.343783</td>\n",
              "      <td>-0.488550</td>\n",
              "      <td>-0.55311</td>\n",
              "      <td>-1.059787</td>\n",
              "      <td>-0.655278</td>\n",
              "      <td>47.363</td>\n",
              "      <td>9</td>\n",
              "      <td>5</td>\n",
              "      <td>1</td>\n",
              "      <td>2016</td>\n",
              "    </tr>\n",
              "    <tr>\n",
              "      <th>4</th>\n",
              "      <td>0.016890</td>\n",
              "      <td>-0.014249</td>\n",
              "      <td>-0.140008</td>\n",
              "      <td>-0.183156</td>\n",
              "      <td>-0.170648</td>\n",
              "      <td>0.032404</td>\n",
              "      <td>-0.338764</td>\n",
              "      <td>-0.407425</td>\n",
              "      <td>-1.486254</td>\n",
              "      <td>-0.55311</td>\n",
              "      <td>0.135665</td>\n",
              "      <td>-0.037915</td>\n",
              "      <td>42.203</td>\n",
              "      <td>10</td>\n",
              "      <td>6</td>\n",
              "      <td>1</td>\n",
              "      <td>2016</td>\n",
              "    </tr>\n",
              "  </tbody>\n",
              "</table>\n",
              "</div>\n",
              "      <button class=\"colab-df-convert\" onclick=\"convertToInteractive('df-dc5f1662-4f5a-48f3-b5a8-b6ece2ef1f96')\"\n",
              "              title=\"Convert this dataframe to an interactive table.\"\n",
              "              style=\"display:none;\">\n",
              "        \n",
              "  <svg xmlns=\"http://www.w3.org/2000/svg\" height=\"24px\"viewBox=\"0 0 24 24\"\n",
              "       width=\"24px\">\n",
              "    <path d=\"M0 0h24v24H0V0z\" fill=\"none\"/>\n",
              "    <path d=\"M18.56 5.44l.94 2.06.94-2.06 2.06-.94-2.06-.94-.94-2.06-.94 2.06-2.06.94zm-11 1L8.5 8.5l.94-2.06 2.06-.94-2.06-.94L8.5 2.5l-.94 2.06-2.06.94zm10 10l.94 2.06.94-2.06 2.06-.94-2.06-.94-.94-2.06-.94 2.06-2.06.94z\"/><path d=\"M17.41 7.96l-1.37-1.37c-.4-.4-.92-.59-1.43-.59-.52 0-1.04.2-1.43.59L10.3 9.45l-7.72 7.72c-.78.78-.78 2.05 0 2.83L4 21.41c.39.39.9.59 1.41.59.51 0 1.02-.2 1.41-.59l7.78-7.78 2.81-2.81c.8-.78.8-2.07 0-2.86zM5.41 20L4 18.59l7.72-7.72 1.47 1.35L5.41 20z\"/>\n",
              "  </svg>\n",
              "      </button>\n",
              "      \n",
              "  <style>\n",
              "    .colab-df-container {\n",
              "      display:flex;\n",
              "      flex-wrap:wrap;\n",
              "      gap: 12px;\n",
              "    }\n",
              "\n",
              "    .colab-df-convert {\n",
              "      background-color: #E8F0FE;\n",
              "      border: none;\n",
              "      border-radius: 50%;\n",
              "      cursor: pointer;\n",
              "      display: none;\n",
              "      fill: #1967D2;\n",
              "      height: 32px;\n",
              "      padding: 0 0 0 0;\n",
              "      width: 32px;\n",
              "    }\n",
              "\n",
              "    .colab-df-convert:hover {\n",
              "      background-color: #E2EBFA;\n",
              "      box-shadow: 0px 1px 2px rgba(60, 64, 67, 0.3), 0px 1px 3px 1px rgba(60, 64, 67, 0.15);\n",
              "      fill: #174EA6;\n",
              "    }\n",
              "\n",
              "    [theme=dark] .colab-df-convert {\n",
              "      background-color: #3B4455;\n",
              "      fill: #D2E3FC;\n",
              "    }\n",
              "\n",
              "    [theme=dark] .colab-df-convert:hover {\n",
              "      background-color: #434B5C;\n",
              "      box-shadow: 0px 1px 3px 1px rgba(0, 0, 0, 0.15);\n",
              "      filter: drop-shadow(0px 1px 2px rgba(0, 0, 0, 0.3));\n",
              "      fill: #FFFFFF;\n",
              "    }\n",
              "  </style>\n",
              "\n",
              "      <script>\n",
              "        const buttonEl =\n",
              "          document.querySelector('#df-dc5f1662-4f5a-48f3-b5a8-b6ece2ef1f96 button.colab-df-convert');\n",
              "        buttonEl.style.display =\n",
              "          google.colab.kernel.accessAllowed ? 'block' : 'none';\n",
              "\n",
              "        async function convertToInteractive(key) {\n",
              "          const element = document.querySelector('#df-dc5f1662-4f5a-48f3-b5a8-b6ece2ef1f96');\n",
              "          const dataTable =\n",
              "            await google.colab.kernel.invokeFunction('convertToInteractive',\n",
              "                                                     [key], {});\n",
              "          if (!dataTable) return;\n",
              "\n",
              "          const docLinkHtml = 'Like what you see? Visit the ' +\n",
              "            '<a target=\"_blank\" href=https://colab.research.google.com/notebooks/data_table.ipynb>data table notebook</a>'\n",
              "            + ' to learn more about interactive tables.';\n",
              "          element.innerHTML = '';\n",
              "          dataTable['output_type'] = 'display_data';\n",
              "          await google.colab.output.renderOutput(dataTable, element);\n",
              "          const docLink = document.createElement('div');\n",
              "          docLink.innerHTML = docLinkHtml;\n",
              "          element.appendChild(docLink);\n",
              "        }\n",
              "      </script>\n",
              "    </div>\n",
              "  </div>\n",
              "  "
            ]
          },
          "metadata": {},
          "execution_count": 582
        }
      ]
    },
    {
      "cell_type": "code",
      "source": [
        "# Definindo a função Dummies\n",
        "def dummies(x,df):\n",
        "    \n",
        "    #cria um dataframe temporario com o resultado do processo One-hot Encode e deletando a primeira coluna\n",
        "    temp = pd.get_dummies(df[x], drop_first = True)\n",
        "    \n",
        "    #concatena o dataframe df com o temporario\n",
        "    df = pd.concat([df, temp], axis = 1)\n",
        "    \n",
        "    #exclui a coluna referente ao atributo x\n",
        "    df = df.drop(columns = x)\n",
        "    \n",
        "    return df"
      ],
      "metadata": {
        "id": "n5j6_WhHtH5Z"
      },
      "execution_count": 354,
      "outputs": []
    },
    {
      "cell_type": "code",
      "source": [
        "var_categ = ['Day',\t'day_of_week',\t'month',\t'year']"
      ],
      "metadata": {
        "id": "CBt8H9mGtK04"
      },
      "execution_count": 355,
      "outputs": []
    },
    {
      "cell_type": "code",
      "source": [
        "#aplica a função dummies para os atributos categoricos\n",
        "for var in var_categ:\n",
        "    df_cons_pred = dummies(var,df_cons_pred)"
      ],
      "metadata": {
        "id": "SKHPixVvtVNT"
      },
      "execution_count": 356,
      "outputs": []
    },
    {
      "cell_type": "code",
      "source": [
        "df_cons_pred.head()"
      ],
      "metadata": {
        "colab": {
          "base_uri": "https://localhost:8080/",
          "height": 236
        },
        "id": "tRO0Sa1uvtfc",
        "outputId": "cac7a319-7bf1-4cd3-f2e6-50ddfc66a332"
      },
      "execution_count": 207,
      "outputs": [
        {
          "output_type": "execute_result",
          "data": {
            "text/plain": [
              "   Temp_max  Temp_avg  Temp_min  Dew_max  Dew_avg  Dew_min  Hum_max  Hum_min  \\\n",
              "0        85      74.8        68       74     71.4       66      100       65   \n",
              "1        94      84.9        76       76     74.0       72       94       51   \n",
              "2        97      86.5        75       76     73.3       67       96       37   \n",
              "3        96      86.2        78       75     73.3       70       88       46   \n",
              "4        81      71.1        61       64     59.4       57       90       45   \n",
              "\n",
              "   Wind_avg  Wind_min  ...  7  8  9  10  11  12  2017  2018  2019  2020  \n",
              "0       9.5         0  ...  0  0  0   0   0   0     0     0     0     0  \n",
              "1       5.7         0  ...  0  0  0   0   0   0     0     0     0     0  \n",
              "2       6.0         0  ...  0  0  0   0   0   0     0     0     0     0  \n",
              "3       6.3         0  ...  0  0  0   0   0   0     0     0     0     0  \n",
              "4       3.3         0  ...  0  0  0   0   0   0     0     0     0     0  \n",
              "\n",
              "[5 rows x 64 columns]"
            ],
            "text/html": [
              "\n",
              "  <div id=\"df-52bddd5a-e42b-4047-9809-cb5e2f7f2698\">\n",
              "    <div class=\"colab-df-container\">\n",
              "      <div>\n",
              "<style scoped>\n",
              "    .dataframe tbody tr th:only-of-type {\n",
              "        vertical-align: middle;\n",
              "    }\n",
              "\n",
              "    .dataframe tbody tr th {\n",
              "        vertical-align: top;\n",
              "    }\n",
              "\n",
              "    .dataframe thead th {\n",
              "        text-align: right;\n",
              "    }\n",
              "</style>\n",
              "<table border=\"1\" class=\"dataframe\">\n",
              "  <thead>\n",
              "    <tr style=\"text-align: right;\">\n",
              "      <th></th>\n",
              "      <th>Temp_max</th>\n",
              "      <th>Temp_avg</th>\n",
              "      <th>Temp_min</th>\n",
              "      <th>Dew_max</th>\n",
              "      <th>Dew_avg</th>\n",
              "      <th>Dew_min</th>\n",
              "      <th>Hum_max</th>\n",
              "      <th>Hum_min</th>\n",
              "      <th>Wind_avg</th>\n",
              "      <th>Wind_min</th>\n",
              "      <th>...</th>\n",
              "      <th>7</th>\n",
              "      <th>8</th>\n",
              "      <th>9</th>\n",
              "      <th>10</th>\n",
              "      <th>11</th>\n",
              "      <th>12</th>\n",
              "      <th>2017</th>\n",
              "      <th>2018</th>\n",
              "      <th>2019</th>\n",
              "      <th>2020</th>\n",
              "    </tr>\n",
              "  </thead>\n",
              "  <tbody>\n",
              "    <tr>\n",
              "      <th>0</th>\n",
              "      <td>85</td>\n",
              "      <td>74.8</td>\n",
              "      <td>68</td>\n",
              "      <td>74</td>\n",
              "      <td>71.4</td>\n",
              "      <td>66</td>\n",
              "      <td>100</td>\n",
              "      <td>65</td>\n",
              "      <td>9.5</td>\n",
              "      <td>0</td>\n",
              "      <td>...</td>\n",
              "      <td>0</td>\n",
              "      <td>0</td>\n",
              "      <td>0</td>\n",
              "      <td>0</td>\n",
              "      <td>0</td>\n",
              "      <td>0</td>\n",
              "      <td>0</td>\n",
              "      <td>0</td>\n",
              "      <td>0</td>\n",
              "      <td>0</td>\n",
              "    </tr>\n",
              "    <tr>\n",
              "      <th>1</th>\n",
              "      <td>94</td>\n",
              "      <td>84.9</td>\n",
              "      <td>76</td>\n",
              "      <td>76</td>\n",
              "      <td>74.0</td>\n",
              "      <td>72</td>\n",
              "      <td>94</td>\n",
              "      <td>51</td>\n",
              "      <td>5.7</td>\n",
              "      <td>0</td>\n",
              "      <td>...</td>\n",
              "      <td>0</td>\n",
              "      <td>0</td>\n",
              "      <td>0</td>\n",
              "      <td>0</td>\n",
              "      <td>0</td>\n",
              "      <td>0</td>\n",
              "      <td>0</td>\n",
              "      <td>0</td>\n",
              "      <td>0</td>\n",
              "      <td>0</td>\n",
              "    </tr>\n",
              "    <tr>\n",
              "      <th>2</th>\n",
              "      <td>97</td>\n",
              "      <td>86.5</td>\n",
              "      <td>75</td>\n",
              "      <td>76</td>\n",
              "      <td>73.3</td>\n",
              "      <td>67</td>\n",
              "      <td>96</td>\n",
              "      <td>37</td>\n",
              "      <td>6.0</td>\n",
              "      <td>0</td>\n",
              "      <td>...</td>\n",
              "      <td>0</td>\n",
              "      <td>0</td>\n",
              "      <td>0</td>\n",
              "      <td>0</td>\n",
              "      <td>0</td>\n",
              "      <td>0</td>\n",
              "      <td>0</td>\n",
              "      <td>0</td>\n",
              "      <td>0</td>\n",
              "      <td>0</td>\n",
              "    </tr>\n",
              "    <tr>\n",
              "      <th>3</th>\n",
              "      <td>96</td>\n",
              "      <td>86.2</td>\n",
              "      <td>78</td>\n",
              "      <td>75</td>\n",
              "      <td>73.3</td>\n",
              "      <td>70</td>\n",
              "      <td>88</td>\n",
              "      <td>46</td>\n",
              "      <td>6.3</td>\n",
              "      <td>0</td>\n",
              "      <td>...</td>\n",
              "      <td>0</td>\n",
              "      <td>0</td>\n",
              "      <td>0</td>\n",
              "      <td>0</td>\n",
              "      <td>0</td>\n",
              "      <td>0</td>\n",
              "      <td>0</td>\n",
              "      <td>0</td>\n",
              "      <td>0</td>\n",
              "      <td>0</td>\n",
              "    </tr>\n",
              "    <tr>\n",
              "      <th>4</th>\n",
              "      <td>81</td>\n",
              "      <td>71.1</td>\n",
              "      <td>61</td>\n",
              "      <td>64</td>\n",
              "      <td>59.4</td>\n",
              "      <td>57</td>\n",
              "      <td>90</td>\n",
              "      <td>45</td>\n",
              "      <td>3.3</td>\n",
              "      <td>0</td>\n",
              "      <td>...</td>\n",
              "      <td>0</td>\n",
              "      <td>0</td>\n",
              "      <td>0</td>\n",
              "      <td>0</td>\n",
              "      <td>0</td>\n",
              "      <td>0</td>\n",
              "      <td>0</td>\n",
              "      <td>0</td>\n",
              "      <td>0</td>\n",
              "      <td>0</td>\n",
              "    </tr>\n",
              "  </tbody>\n",
              "</table>\n",
              "<p>5 rows × 64 columns</p>\n",
              "</div>\n",
              "      <button class=\"colab-df-convert\" onclick=\"convertToInteractive('df-52bddd5a-e42b-4047-9809-cb5e2f7f2698')\"\n",
              "              title=\"Convert this dataframe to an interactive table.\"\n",
              "              style=\"display:none;\">\n",
              "        \n",
              "  <svg xmlns=\"http://www.w3.org/2000/svg\" height=\"24px\"viewBox=\"0 0 24 24\"\n",
              "       width=\"24px\">\n",
              "    <path d=\"M0 0h24v24H0V0z\" fill=\"none\"/>\n",
              "    <path d=\"M18.56 5.44l.94 2.06.94-2.06 2.06-.94-2.06-.94-.94-2.06-.94 2.06-2.06.94zm-11 1L8.5 8.5l.94-2.06 2.06-.94-2.06-.94L8.5 2.5l-.94 2.06-2.06.94zm10 10l.94 2.06.94-2.06 2.06-.94-2.06-.94-.94-2.06-.94 2.06-2.06.94z\"/><path d=\"M17.41 7.96l-1.37-1.37c-.4-.4-.92-.59-1.43-.59-.52 0-1.04.2-1.43.59L10.3 9.45l-7.72 7.72c-.78.78-.78 2.05 0 2.83L4 21.41c.39.39.9.59 1.41.59.51 0 1.02-.2 1.41-.59l7.78-7.78 2.81-2.81c.8-.78.8-2.07 0-2.86zM5.41 20L4 18.59l7.72-7.72 1.47 1.35L5.41 20z\"/>\n",
              "  </svg>\n",
              "      </button>\n",
              "      \n",
              "  <style>\n",
              "    .colab-df-container {\n",
              "      display:flex;\n",
              "      flex-wrap:wrap;\n",
              "      gap: 12px;\n",
              "    }\n",
              "\n",
              "    .colab-df-convert {\n",
              "      background-color: #E8F0FE;\n",
              "      border: none;\n",
              "      border-radius: 50%;\n",
              "      cursor: pointer;\n",
              "      display: none;\n",
              "      fill: #1967D2;\n",
              "      height: 32px;\n",
              "      padding: 0 0 0 0;\n",
              "      width: 32px;\n",
              "    }\n",
              "\n",
              "    .colab-df-convert:hover {\n",
              "      background-color: #E2EBFA;\n",
              "      box-shadow: 0px 1px 2px rgba(60, 64, 67, 0.3), 0px 1px 3px 1px rgba(60, 64, 67, 0.15);\n",
              "      fill: #174EA6;\n",
              "    }\n",
              "\n",
              "    [theme=dark] .colab-df-convert {\n",
              "      background-color: #3B4455;\n",
              "      fill: #D2E3FC;\n",
              "    }\n",
              "\n",
              "    [theme=dark] .colab-df-convert:hover {\n",
              "      background-color: #434B5C;\n",
              "      box-shadow: 0px 1px 3px 1px rgba(0, 0, 0, 0.15);\n",
              "      filter: drop-shadow(0px 1px 2px rgba(0, 0, 0, 0.3));\n",
              "      fill: #FFFFFF;\n",
              "    }\n",
              "  </style>\n",
              "\n",
              "      <script>\n",
              "        const buttonEl =\n",
              "          document.querySelector('#df-52bddd5a-e42b-4047-9809-cb5e2f7f2698 button.colab-df-convert');\n",
              "        buttonEl.style.display =\n",
              "          google.colab.kernel.accessAllowed ? 'block' : 'none';\n",
              "\n",
              "        async function convertToInteractive(key) {\n",
              "          const element = document.querySelector('#df-52bddd5a-e42b-4047-9809-cb5e2f7f2698');\n",
              "          const dataTable =\n",
              "            await google.colab.kernel.invokeFunction('convertToInteractive',\n",
              "                                                     [key], {});\n",
              "          if (!dataTable) return;\n",
              "\n",
              "          const docLinkHtml = 'Like what you see? Visit the ' +\n",
              "            '<a target=\"_blank\" href=https://colab.research.google.com/notebooks/data_table.ipynb>data table notebook</a>'\n",
              "            + ' to learn more about interactive tables.';\n",
              "          element.innerHTML = '';\n",
              "          dataTable['output_type'] = 'display_data';\n",
              "          await google.colab.output.renderOutput(dataTable, element);\n",
              "          const docLink = document.createElement('div');\n",
              "          docLink.innerHTML = docLinkHtml;\n",
              "          element.appendChild(docLink);\n",
              "        }\n",
              "      </script>\n",
              "    </div>\n",
              "  </div>\n",
              "  "
            ]
          },
          "metadata": {},
          "execution_count": 207
        }
      ]
    },
    {
      "cell_type": "markdown",
      "source": [
        "##Testes"
      ],
      "metadata": {
        "id": "JGESng3I6SHU"
      }
    },
    {
      "cell_type": "code",
      "source": [
        "from sklearn.linear_model import LinearRegression\n",
        "from sklearn.ensemble import RandomForestRegressor\n",
        "from sklearn.linear_model import RidgeCV\n",
        "from sklearn.linear_model import LassoCV\n",
        "\n",
        "from sklearn.metrics import r2_score"
      ],
      "metadata": {
        "id": "U41nCX6UsmPQ"
      },
      "execution_count": 348,
      "outputs": []
    },
    {
      "cell_type": "code",
      "source": [
        "X = df_cons_pred.drop(columns=['consumption'])\n",
        "y = df_cons_pred.consumption"
      ],
      "metadata": {
        "id": "yLRsB4hJO4oS"
      },
      "execution_count": 357,
      "outputs": []
    },
    {
      "cell_type": "code",
      "source": [
        "X_columns = X.columns"
      ],
      "metadata": {
        "id": "Zf4tzmg-TBos"
      },
      "execution_count": 358,
      "outputs": []
    },
    {
      "cell_type": "code",
      "source": [
        "scaler = StandardScaler()"
      ],
      "metadata": {
        "id": "xhdyzq_TQAkw"
      },
      "execution_count": 359,
      "outputs": []
    },
    {
      "cell_type": "code",
      "source": [
        "X = StandardScaler().fit_transform(X)"
      ],
      "metadata": {
        "colab": {
          "base_uri": "https://localhost:8080/"
        },
        "id": "nXNlzRy9OQrB",
        "outputId": "ee3a22d8-0bdd-4608-aa71-173e78ec4d07"
      },
      "execution_count": 360,
      "outputs": [
        {
          "output_type": "stream",
          "name": "stderr",
          "text": [
            "/usr/local/lib/python3.7/dist-packages/sklearn/utils/validation.py:1692: FutureWarning: Feature names only support names that are all strings. Got feature names with dtypes: ['int', 'str']. An error will be raised in 1.2.\n",
            "  FutureWarning,\n",
            "/usr/local/lib/python3.7/dist-packages/sklearn/utils/validation.py:1692: FutureWarning: Feature names only support names that are all strings. Got feature names with dtypes: ['int', 'str']. An error will be raised in 1.2.\n",
            "  FutureWarning,\n"
          ]
        }
      ]
    },
    {
      "cell_type": "code",
      "source": [
        "X_train, X_test, y_train, y_test = train_test_split(X, y, test_size=0.25, random_state=123)"
      ],
      "metadata": {
        "id": "SVnTAAAXQbCH"
      },
      "execution_count": 361,
      "outputs": []
    },
    {
      "cell_type": "code",
      "source": [
        "LM = LinearRegression()"
      ],
      "metadata": {
        "id": "yCfaOcyuQeWz"
      },
      "execution_count": 362,
      "outputs": []
    },
    {
      "cell_type": "code",
      "source": [
        "LM.fit(X_train, y_train)"
      ],
      "metadata": {
        "id": "hF2zUVMPUoiJ",
        "outputId": "c5ed184a-3d7a-42dc-c042-0ac44e961a95",
        "colab": {
          "base_uri": "https://localhost:8080/"
        }
      },
      "execution_count": 363,
      "outputs": [
        {
          "output_type": "execute_result",
          "data": {
            "text/plain": [
              "LinearRegression()"
            ]
          },
          "metadata": {},
          "execution_count": 363
        }
      ]
    },
    {
      "cell_type": "code",
      "source": [
        "r2_score(y_test, LM.predict(X_test))"
      ],
      "metadata": {
        "id": "20WWM8XJUu3H",
        "outputId": "e756be0a-77ba-44a7-c692-b400ba281da5",
        "colab": {
          "base_uri": "https://localhost:8080/"
        }
      },
      "execution_count": 364,
      "outputs": [
        {
          "output_type": "execute_result",
          "data": {
            "text/plain": [
              "0.6543859367757077"
            ]
          },
          "metadata": {},
          "execution_count": 364
        }
      ]
    },
    {
      "cell_type": "code",
      "source": [
        "RFR = RandomForestRegressor()"
      ],
      "metadata": {
        "id": "cBJiyHHAVlwJ"
      },
      "execution_count": 215,
      "outputs": []
    },
    {
      "cell_type": "code",
      "source": [
        "RFR.fit(X_train, y_train)"
      ],
      "metadata": {
        "id": "EoM-9_8JVr2p",
        "outputId": "78836019-0852-4219-87a4-fe5db53ae59e",
        "colab": {
          "base_uri": "https://localhost:8080/"
        }
      },
      "execution_count": 365,
      "outputs": [
        {
          "output_type": "execute_result",
          "data": {
            "text/plain": [
              "RandomForestRegressor()"
            ]
          },
          "metadata": {},
          "execution_count": 365
        }
      ]
    },
    {
      "cell_type": "code",
      "source": [
        "r2_score(y_test, RFR.predict(X_test))"
      ],
      "metadata": {
        "id": "zb5PGST5Vw95",
        "outputId": "05667429-4881-46da-ff95-917d2a68816f",
        "colab": {
          "base_uri": "https://localhost:8080/"
        }
      },
      "execution_count": 366,
      "outputs": [
        {
          "output_type": "execute_result",
          "data": {
            "text/plain": [
              "0.7741735388691082"
            ]
          },
          "metadata": {},
          "execution_count": 366
        }
      ]
    },
    {
      "cell_type": "code",
      "source": [
        "Lasso = LassoCV()"
      ],
      "metadata": {
        "id": "E8REg_8nZwld"
      },
      "execution_count": 220,
      "outputs": []
    },
    {
      "cell_type": "code",
      "source": [
        "Lasso.fit(X_train, y_train)"
      ],
      "metadata": {
        "colab": {
          "base_uri": "https://localhost:8080/"
        },
        "id": "inDH-iM1RwkT",
        "outputId": "662b92d1-9ae9-4678-d298-86838a1c1462"
      },
      "execution_count": 221,
      "outputs": [
        {
          "output_type": "execute_result",
          "data": {
            "text/plain": [
              "LassoCV()"
            ]
          },
          "metadata": {},
          "execution_count": 221
        }
      ]
    },
    {
      "cell_type": "code",
      "source": [
        "Lasso.score(X_test, y_test)"
      ],
      "metadata": {
        "colab": {
          "base_uri": "https://localhost:8080/"
        },
        "id": "RinwNd7gR4wS",
        "outputId": "5903abed-35cc-4cee-b5a1-916da2f86d7c"
      },
      "execution_count": 224,
      "outputs": [
        {
          "output_type": "execute_result",
          "data": {
            "text/plain": [
              "0.6531843099160066"
            ]
          },
          "metadata": {},
          "execution_count": 224
        }
      ]
    },
    {
      "cell_type": "code",
      "source": [
        "Lasso.coef_"
      ],
      "metadata": {
        "colab": {
          "base_uri": "https://localhost:8080/"
        },
        "id": "RowpgDXOR80i",
        "outputId": "4948cce8-240b-420e-d2f4-ea22dc60593a"
      },
      "execution_count": 225,
      "outputs": [
        {
          "output_type": "execute_result",
          "data": {
            "text/plain": [
              "array([ 1.62950818e+00,  1.36856332e+00,  3.79573255e+00, -0.00000000e+00,\n",
              "        0.00000000e+00,  3.47696957e-01, -7.79850448e-02, -1.36673268e+00,\n",
              "       -2.61231026e-01,  0.00000000e+00,  1.18639528e-03,  3.71430875e-01,\n",
              "       -2.71822929e-01, -8.43836052e-01, -7.34215550e-01, -2.71053709e-01,\n",
              "        8.79148952e-01,  1.40723107e+00,  1.11522649e+00,  2.90304265e-01,\n",
              "        7.57998881e-01, -4.17229451e-01, -2.83992461e-01,  3.78951757e-01,\n",
              "        3.65027501e-01,  4.16472278e-01,  0.00000000e+00,  2.09344331e-02,\n",
              "        1.51400807e-01,  0.00000000e+00,  1.66839573e-01, -0.00000000e+00,\n",
              "       -0.00000000e+00, -1.60642533e-01, -2.45552484e-01, -3.16762755e-01,\n",
              "       -4.21439028e-01, -1.83254977e-01, -0.00000000e+00, -7.32814077e-02,\n",
              "        0.00000000e+00, -0.00000000e+00, -7.95579786e-02, -0.00000000e+00,\n",
              "        3.36357009e-02, -7.17972798e-02,  1.65491816e-01,  1.77901961e-01,\n",
              "       -3.04499788e-01, -8.43050914e-01, -4.95489944e-01,  3.62159578e-02,\n",
              "        1.21256589e+00,  9.34649975e-01,  1.90586963e+00,  1.05243072e+00,\n",
              "       -1.97448150e-01, -5.16687757e-01, -2.72822767e-01, -3.28648760e+00,\n",
              "       -1.21339869e+00, -2.25494971e+00, -2.04136014e+00])"
            ]
          },
          "metadata": {},
          "execution_count": 225
        }
      ]
    },
    {
      "cell_type": "code",
      "source": [
        "#print das features e seus respectivos p-value\n",
        "for value in [*zip(X_columns, Lasso.coef_)]:\n",
        "  print(value)"
      ],
      "metadata": {
        "colab": {
          "base_uri": "https://localhost:8080/"
        },
        "id": "P2A_d9b0SRND",
        "outputId": "e9bb9a67-f126-4cca-d9c6-59530ab7832e"
      },
      "execution_count": 235,
      "outputs": [
        {
          "output_type": "stream",
          "name": "stdout",
          "text": [
            "('Temp_max', 1.6295081838911252)\n",
            "('Temp_avg', 1.3685633194197984)\n",
            "('Temp_min', 3.795732553719301)\n",
            "('Dew_max', -0.0)\n",
            "('Dew_avg', 0.0)\n",
            "('Dew_min', 0.34769695655784766)\n",
            "('Hum_max', -0.07798504478690281)\n",
            "('Hum_min', -1.3667326796486703)\n",
            "('Wind_avg', -0.26123102630725314)\n",
            "('Wind_min', 0.0)\n",
            "('Press_max', 0.0011863952800133483)\n",
            "('Press_avg', 0.3714308750419818)\n",
            "(2, -0.27182292947469583)\n",
            "(3, -0.8438360515256619)\n",
            "(4, -0.7342155503711952)\n",
            "(5, -0.2710537093435635)\n",
            "(6, 0.8791489522392015)\n",
            "(7, 1.407231070078969)\n",
            "(8, 1.1152264902716942)\n",
            "(9, 0.2903042646868856)\n",
            "(10, 0.7579988805646224)\n",
            "(11, -0.4172294512175706)\n",
            "(12, -0.2839924611558189)\n",
            "(13, 0.3789517572274063)\n",
            "(14, 0.36502750117330346)\n",
            "(15, 0.41647227829388556)\n",
            "(16, 0.0)\n",
            "(17, 0.020934433088997197)\n",
            "(18, 0.1514008065543257)\n",
            "(19, 0.0)\n",
            "(20, 0.16683957336808097)\n",
            "(21, -0.0)\n",
            "(22, -0.0)\n",
            "(23, -0.16064253302823323)\n",
            "(24, -0.2455524841857677)\n",
            "(25, -0.31676275541319304)\n",
            "(26, -0.4214390275019427)\n",
            "(27, -0.18325497695025608)\n",
            "(28, -0.0)\n",
            "(29, -0.0732814076981772)\n",
            "(30, 0.0)\n",
            "(31, -0.0)\n",
            "(1, -0.0795579786261475)\n",
            "(2, -0.0)\n",
            "(3, 0.033635700878351986)\n",
            "(4, -0.07179727976689636)\n",
            "(5, 0.16549181588407996)\n",
            "(6, 0.1779019611127492)\n",
            "(2, -0.3044997883250984)\n",
            "(3, -0.8430509139987425)\n",
            "(4, -0.49548994357624987)\n",
            "(5, 0.03621595780494829)\n",
            "(6, 1.2125658891915971)\n",
            "(7, 0.9346499745133944)\n",
            "(8, 1.905869627293748)\n",
            "(9, 1.0524307174367653)\n",
            "(10, -0.1974481499444493)\n",
            "(11, -0.5166877569145023)\n",
            "(12, -0.27282276650552356)\n",
            "(2017, -3.2864875975728394)\n",
            "(2018, -1.2133986877778866)\n",
            "(2019, -2.25494970541644)\n",
            "(2020, -2.0413601372623176)\n"
          ]
        }
      ]
    },
    {
      "cell_type": "code",
      "source": [
        "Ridge = RidgeCV()"
      ],
      "metadata": {
        "id": "sE61YoUnTQIU"
      },
      "execution_count": 236,
      "outputs": []
    },
    {
      "cell_type": "code",
      "source": [
        "Ridge.fit(X_train, y_train)"
      ],
      "metadata": {
        "id": "I_FRRyO2UHCW",
        "outputId": "4954426a-0e7d-4c7d-b186-690106883b1d",
        "colab": {
          "base_uri": "https://localhost:8080/"
        }
      },
      "execution_count": 237,
      "outputs": [
        {
          "output_type": "execute_result",
          "data": {
            "text/plain": [
              "RidgeCV(alphas=array([ 0.1,  1. , 10. ]))"
            ]
          },
          "metadata": {},
          "execution_count": 237
        }
      ]
    },
    {
      "cell_type": "code",
      "source": [
        "Ridge.score(X_test, y_test)"
      ],
      "metadata": {
        "id": "x5QU2yIlUMdl",
        "outputId": "d8cde78b-dc1e-4b92-9f85-58a7b5d57c5e",
        "colab": {
          "base_uri": "https://localhost:8080/"
        }
      },
      "execution_count": 238,
      "outputs": [
        {
          "output_type": "execute_result",
          "data": {
            "text/plain": [
              "0.6548278236760655"
            ]
          },
          "metadata": {},
          "execution_count": 238
        }
      ]
    },
    {
      "cell_type": "code",
      "source": [
        ""
      ],
      "metadata": {
        "id": "bLgImA2aUSwl"
      },
      "execution_count": null,
      "outputs": []
    }
  ]
}