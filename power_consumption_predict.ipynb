{
  "nbformat": 4,
  "nbformat_minor": 0,
  "metadata": {
    "colab": {
      "name": "power_consumption_predict.ipynb",
      "provenance": [],
      "authorship_tag": "ABX9TyO1Kyu0GOLxtBEo8RepS7VG",
      "include_colab_link": true
    },
    "kernelspec": {
      "name": "python3",
      "display_name": "Python 3"
    },
    "language_info": {
      "name": "python"
    }
  },
  "cells": [
    {
      "cell_type": "markdown",
      "metadata": {
        "id": "view-in-github",
        "colab_type": "text"
      },
      "source": [
        "<a href=\"https://colab.research.google.com/github/romerofernandes/power_consumption_predict/blob/main/power_consumption_predict.ipynb\" target=\"_parent\"><img src=\"https://colab.research.google.com/assets/colab-badge.svg\" alt=\"Open In Colab\"/></a>"
      ]
    },
    {
      "cell_type": "markdown",
      "source": [
        "#Importações"
      ],
      "metadata": {
        "id": "uYkmuZNk3M0K"
      }
    },
    {
      "cell_type": "markdown",
      "source": [
        "###Bibliotecas"
      ],
      "metadata": {
        "id": "tbe0bX6SQZPl"
      }
    },
    {
      "cell_type": "code",
      "source": [
        "#Analise de dados\n",
        "import pandas as pd\n",
        "import numpy as np\n",
        "import datetime as dt\n",
        "from sklearn.preprocessing import StandardScaler"
      ],
      "metadata": {
        "id": "F53vYnKy5qc_"
      },
      "execution_count": 1,
      "outputs": []
    },
    {
      "cell_type": "code",
      "source": [
        "#Visualização de dados\n",
        "import matplotlib.pyplot as plt\n",
        "import seaborn as sns\n",
        "import plotly.express as px"
      ],
      "metadata": {
        "id": "u5Lipch7YDXj"
      },
      "execution_count": 2,
      "outputs": []
    },
    {
      "cell_type": "code",
      "source": [
        "#Função para colocar os valores sobre as barras nos gráficos de barras\n",
        "def values_text(graf):\n",
        "    for bar in graf.patches:\n",
        "        graf.text(\n",
        "            bar.get_x() + bar.get_width() / 2,\n",
        "            bar.get_height() * 1.01,\n",
        "            round(bar.get_height(),1),\n",
        "            horizontalalignment='center',\n",
        "            color= 'black'\n",
        "            )"
      ],
      "metadata": {
        "id": "pzEXW2oqf09T"
      },
      "execution_count": 3,
      "outputs": []
    },
    {
      "cell_type": "code",
      "execution_count": 4,
      "metadata": {
        "id": "6Jvhot2X2DjU"
      },
      "outputs": [],
      "source": [
        "#Modelagem\n",
        "from sklearn.model_selection import train_test_split\n",
        "from sklearn.model_selection import cross_val_score\n",
        "from sklearn.model_selection import cross_validate\n",
        "\n",
        "from sklearn.feature_selection import SelectKBest\n",
        "from sklearn.feature_selection import f_regression, r_regression"
      ]
    },
    {
      "cell_type": "code",
      "source": [
        "! pip install scikit-optimize"
      ],
      "metadata": {
        "id": "Xx7RMLCmW5E9",
        "outputId": "8c6000e0-1c25-45fb-8c16-d46a5584e9c0",
        "colab": {
          "base_uri": "https://localhost:8080/"
        }
      },
      "execution_count": 5,
      "outputs": [
        {
          "output_type": "stream",
          "name": "stdout",
          "text": [
            "Collecting scikit-optimize\n",
            "  Downloading scikit_optimize-0.9.0-py2.py3-none-any.whl (100 kB)\n",
            "\u001b[K     |████████████████████████████████| 100 kB 5.8 MB/s \n",
            "\u001b[?25hRequirement already satisfied: numpy>=1.13.3 in /usr/local/lib/python3.7/dist-packages (from scikit-optimize) (1.21.5)\n",
            "Requirement already satisfied: scikit-learn>=0.20.0 in /usr/local/lib/python3.7/dist-packages (from scikit-optimize) (1.0.2)\n",
            "Collecting pyaml>=16.9\n",
            "  Downloading pyaml-21.10.1-py2.py3-none-any.whl (24 kB)\n",
            "Requirement already satisfied: scipy>=0.19.1 in /usr/local/lib/python3.7/dist-packages (from scikit-optimize) (1.4.1)\n",
            "Requirement already satisfied: joblib>=0.11 in /usr/local/lib/python3.7/dist-packages (from scikit-optimize) (1.1.0)\n",
            "Requirement already satisfied: PyYAML in /usr/local/lib/python3.7/dist-packages (from pyaml>=16.9->scikit-optimize) (3.13)\n",
            "Requirement already satisfied: threadpoolctl>=2.0.0 in /usr/local/lib/python3.7/dist-packages (from scikit-learn>=0.20.0->scikit-optimize) (3.1.0)\n",
            "Installing collected packages: pyaml, scikit-optimize\n",
            "Successfully installed pyaml-21.10.1 scikit-optimize-0.9.0\n"
          ]
        }
      ]
    },
    {
      "cell_type": "code",
      "source": [
        "#Otimização de hiperparametros com Bayes Search Cross Validation\n",
        "#Necessario instalar scikit-optimize: ! pip install scikit-optimize\n",
        "from skopt import BayesSearchCV\n",
        "from skopt.space import Real, Categorical, Integer"
      ],
      "metadata": {
        "id": "rkJPfJ5pLJfa"
      },
      "execution_count": 6,
      "outputs": []
    },
    {
      "cell_type": "code",
      "source": [
        "#Otimização de hiperparametros com Randomized Search Cross Validation\n",
        "from sklearn.model_selection import RandomizedSearchCV"
      ],
      "metadata": {
        "id": "wMUmj9c4dYZR"
      },
      "execution_count": 7,
      "outputs": []
    },
    {
      "cell_type": "code",
      "source": [
        "#Modelos\n",
        "from sklearn.svm import SVC\n",
        "from sklearn.linear_model import LinearRegression\n",
        "from sklearn.ensemble import RandomForestRegressor\n",
        "from sklearn.linear_model import RidgeCV\n",
        "from sklearn.linear_model import LassoCV"
      ],
      "metadata": {
        "id": "lgPe2nX3LLgq"
      },
      "execution_count": 8,
      "outputs": []
    },
    {
      "cell_type": "code",
      "source": [
        "#Análise dos modelos\n",
        "from sklearn import metrics\n",
        "from sklearn.metrics import r2_score\n",
        "from sklearn.metrics import mean_absolute_percentage_error as mape\n",
        "from sklearn.metrics import mean_squared_error as mse"
      ],
      "metadata": {
        "id": "rnApnBCoLNa6"
      },
      "execution_count": 9,
      "outputs": []
    },
    {
      "cell_type": "markdown",
      "source": [
        "###Dados"
      ],
      "metadata": {
        "id": "nWl20w2n3DP1"
      }
    },
    {
      "cell_type": "markdown",
      "source": [
        "####Dados de consumo"
      ],
      "metadata": {
        "id": "hCIVgsoxFosm"
      }
    },
    {
      "cell_type": "code",
      "source": [
        "#Dados sobre o consumo de energia elétrica\n",
        "\n",
        "df_consumption = pd.read_csv('/content/power_usage_2016_to_2020.csv', \n",
        "                             parse_dates= ['StartDate'])"
      ],
      "metadata": {
        "id": "_VfM9kUO3HgK"
      },
      "execution_count": 10,
      "outputs": []
    },
    {
      "cell_type": "code",
      "source": [
        "df_consumption.head()"
      ],
      "metadata": {
        "colab": {
          "base_uri": "https://localhost:8080/",
          "height": 0
        },
        "id": "POf4TgVlFw4M",
        "outputId": "c06c3bd2-752c-482d-e569-aa1bb4dda76b"
      },
      "execution_count": 11,
      "outputs": [
        {
          "output_type": "execute_result",
          "data": {
            "text/plain": [
              "            StartDate  Value (kWh)  day_of_week    notes\n",
              "0 2016-01-06 00:00:00        1.057            2  weekday\n",
              "1 2016-01-06 01:00:00        1.171            2  weekday\n",
              "2 2016-01-06 02:00:00        0.560            2  weekday\n",
              "3 2016-01-06 03:00:00        0.828            2  weekday\n",
              "4 2016-01-06 04:00:00        0.932            2  weekday"
            ],
            "text/html": [
              "\n",
              "  <div id=\"df-10d25d12-8273-45c2-9838-1529d71cd765\">\n",
              "    <div class=\"colab-df-container\">\n",
              "      <div>\n",
              "<style scoped>\n",
              "    .dataframe tbody tr th:only-of-type {\n",
              "        vertical-align: middle;\n",
              "    }\n",
              "\n",
              "    .dataframe tbody tr th {\n",
              "        vertical-align: top;\n",
              "    }\n",
              "\n",
              "    .dataframe thead th {\n",
              "        text-align: right;\n",
              "    }\n",
              "</style>\n",
              "<table border=\"1\" class=\"dataframe\">\n",
              "  <thead>\n",
              "    <tr style=\"text-align: right;\">\n",
              "      <th></th>\n",
              "      <th>StartDate</th>\n",
              "      <th>Value (kWh)</th>\n",
              "      <th>day_of_week</th>\n",
              "      <th>notes</th>\n",
              "    </tr>\n",
              "  </thead>\n",
              "  <tbody>\n",
              "    <tr>\n",
              "      <th>0</th>\n",
              "      <td>2016-01-06 00:00:00</td>\n",
              "      <td>1.057</td>\n",
              "      <td>2</td>\n",
              "      <td>weekday</td>\n",
              "    </tr>\n",
              "    <tr>\n",
              "      <th>1</th>\n",
              "      <td>2016-01-06 01:00:00</td>\n",
              "      <td>1.171</td>\n",
              "      <td>2</td>\n",
              "      <td>weekday</td>\n",
              "    </tr>\n",
              "    <tr>\n",
              "      <th>2</th>\n",
              "      <td>2016-01-06 02:00:00</td>\n",
              "      <td>0.560</td>\n",
              "      <td>2</td>\n",
              "      <td>weekday</td>\n",
              "    </tr>\n",
              "    <tr>\n",
              "      <th>3</th>\n",
              "      <td>2016-01-06 03:00:00</td>\n",
              "      <td>0.828</td>\n",
              "      <td>2</td>\n",
              "      <td>weekday</td>\n",
              "    </tr>\n",
              "    <tr>\n",
              "      <th>4</th>\n",
              "      <td>2016-01-06 04:00:00</td>\n",
              "      <td>0.932</td>\n",
              "      <td>2</td>\n",
              "      <td>weekday</td>\n",
              "    </tr>\n",
              "  </tbody>\n",
              "</table>\n",
              "</div>\n",
              "      <button class=\"colab-df-convert\" onclick=\"convertToInteractive('df-10d25d12-8273-45c2-9838-1529d71cd765')\"\n",
              "              title=\"Convert this dataframe to an interactive table.\"\n",
              "              style=\"display:none;\">\n",
              "        \n",
              "  <svg xmlns=\"http://www.w3.org/2000/svg\" height=\"24px\"viewBox=\"0 0 24 24\"\n",
              "       width=\"24px\">\n",
              "    <path d=\"M0 0h24v24H0V0z\" fill=\"none\"/>\n",
              "    <path d=\"M18.56 5.44l.94 2.06.94-2.06 2.06-.94-2.06-.94-.94-2.06-.94 2.06-2.06.94zm-11 1L8.5 8.5l.94-2.06 2.06-.94-2.06-.94L8.5 2.5l-.94 2.06-2.06.94zm10 10l.94 2.06.94-2.06 2.06-.94-2.06-.94-.94-2.06-.94 2.06-2.06.94z\"/><path d=\"M17.41 7.96l-1.37-1.37c-.4-.4-.92-.59-1.43-.59-.52 0-1.04.2-1.43.59L10.3 9.45l-7.72 7.72c-.78.78-.78 2.05 0 2.83L4 21.41c.39.39.9.59 1.41.59.51 0 1.02-.2 1.41-.59l7.78-7.78 2.81-2.81c.8-.78.8-2.07 0-2.86zM5.41 20L4 18.59l7.72-7.72 1.47 1.35L5.41 20z\"/>\n",
              "  </svg>\n",
              "      </button>\n",
              "      \n",
              "  <style>\n",
              "    .colab-df-container {\n",
              "      display:flex;\n",
              "      flex-wrap:wrap;\n",
              "      gap: 12px;\n",
              "    }\n",
              "\n",
              "    .colab-df-convert {\n",
              "      background-color: #E8F0FE;\n",
              "      border: none;\n",
              "      border-radius: 50%;\n",
              "      cursor: pointer;\n",
              "      display: none;\n",
              "      fill: #1967D2;\n",
              "      height: 32px;\n",
              "      padding: 0 0 0 0;\n",
              "      width: 32px;\n",
              "    }\n",
              "\n",
              "    .colab-df-convert:hover {\n",
              "      background-color: #E2EBFA;\n",
              "      box-shadow: 0px 1px 2px rgba(60, 64, 67, 0.3), 0px 1px 3px 1px rgba(60, 64, 67, 0.15);\n",
              "      fill: #174EA6;\n",
              "    }\n",
              "\n",
              "    [theme=dark] .colab-df-convert {\n",
              "      background-color: #3B4455;\n",
              "      fill: #D2E3FC;\n",
              "    }\n",
              "\n",
              "    [theme=dark] .colab-df-convert:hover {\n",
              "      background-color: #434B5C;\n",
              "      box-shadow: 0px 1px 3px 1px rgba(0, 0, 0, 0.15);\n",
              "      filter: drop-shadow(0px 1px 2px rgba(0, 0, 0, 0.3));\n",
              "      fill: #FFFFFF;\n",
              "    }\n",
              "  </style>\n",
              "\n",
              "      <script>\n",
              "        const buttonEl =\n",
              "          document.querySelector('#df-10d25d12-8273-45c2-9838-1529d71cd765 button.colab-df-convert');\n",
              "        buttonEl.style.display =\n",
              "          google.colab.kernel.accessAllowed ? 'block' : 'none';\n",
              "\n",
              "        async function convertToInteractive(key) {\n",
              "          const element = document.querySelector('#df-10d25d12-8273-45c2-9838-1529d71cd765');\n",
              "          const dataTable =\n",
              "            await google.colab.kernel.invokeFunction('convertToInteractive',\n",
              "                                                     [key], {});\n",
              "          if (!dataTable) return;\n",
              "\n",
              "          const docLinkHtml = 'Like what you see? Visit the ' +\n",
              "            '<a target=\"_blank\" href=https://colab.research.google.com/notebooks/data_table.ipynb>data table notebook</a>'\n",
              "            + ' to learn more about interactive tables.';\n",
              "          element.innerHTML = '';\n",
              "          dataTable['output_type'] = 'display_data';\n",
              "          await google.colab.output.renderOutput(dataTable, element);\n",
              "          const docLink = document.createElement('div');\n",
              "          docLink.innerHTML = docLinkHtml;\n",
              "          element.appendChild(docLink);\n",
              "        }\n",
              "      </script>\n",
              "    </div>\n",
              "  </div>\n",
              "  "
            ]
          },
          "metadata": {},
          "execution_count": 11
        }
      ]
    },
    {
      "cell_type": "code",
      "source": [
        "df_consumption.info()"
      ],
      "metadata": {
        "colab": {
          "base_uri": "https://localhost:8080/"
        },
        "id": "mGNdr33zGCod",
        "outputId": "7a94d1e8-9f0f-4647-d20f-d79204bc3259"
      },
      "execution_count": 12,
      "outputs": [
        {
          "output_type": "stream",
          "name": "stdout",
          "text": [
            "<class 'pandas.core.frame.DataFrame'>\n",
            "RangeIndex: 35952 entries, 0 to 35951\n",
            "Data columns (total 4 columns):\n",
            " #   Column       Non-Null Count  Dtype         \n",
            "---  ------       --------------  -----         \n",
            " 0   StartDate    35952 non-null  datetime64[ns]\n",
            " 1   Value (kWh)  35952 non-null  float64       \n",
            " 2   day_of_week  35952 non-null  int64         \n",
            " 3   notes        35952 non-null  object        \n",
            "dtypes: datetime64[ns](1), float64(1), int64(1), object(1)\n",
            "memory usage: 1.1+ MB\n"
          ]
        }
      ]
    },
    {
      "cell_type": "code",
      "source": [
        "#Verificando registros duplicados\n",
        "print(f\"Valores duplicados: {df_consumption.duplicated().sum()}\")"
      ],
      "metadata": {
        "colab": {
          "base_uri": "https://localhost:8080/"
        },
        "id": "1eb4acShIGP7",
        "outputId": "c5ba82c0-ed06-482f-e95a-e4aa5ea974bf"
      },
      "execution_count": 13,
      "outputs": [
        {
          "output_type": "stream",
          "name": "stdout",
          "text": [
            "Valores duplicados: 0\n"
          ]
        }
      ]
    },
    {
      "cell_type": "code",
      "source": [
        "df_consumption.notes.unique()"
      ],
      "metadata": {
        "colab": {
          "base_uri": "https://localhost:8080/"
        },
        "id": "Kvl5Td_OI2wI",
        "outputId": "c569b8bb-68e3-453c-a2a1-b8faf9f3cd39"
      },
      "execution_count": 14,
      "outputs": [
        {
          "output_type": "execute_result",
          "data": {
            "text/plain": [
              "array(['weekday', 'weekend', 'vacation', 'COVID_lockdown'], dtype=object)"
            ]
          },
          "metadata": {},
          "execution_count": 14
        }
      ]
    },
    {
      "cell_type": "code",
      "source": [
        "df_consumption.notes.value_counts()"
      ],
      "metadata": {
        "colab": {
          "base_uri": "https://localhost:8080/"
        },
        "id": "YuVoMn1k_n6M",
        "outputId": "ea452503-1bf8-4203-9492-58ac8d9b36b1"
      },
      "execution_count": 15,
      "outputs": [
        {
          "output_type": "execute_result",
          "data": {
            "text/plain": [
              "weekday           23299\n",
              "weekend            9215\n",
              "COVID_lockdown     2305\n",
              "vacation           1133\n",
              "Name: notes, dtype: int64"
            ]
          },
          "metadata": {},
          "execution_count": 15
        }
      ]
    },
    {
      "cell_type": "markdown",
      "source": [
        "#####Novas colunas a partir da coluna notes"
      ],
      "metadata": {
        "id": "RdA8SClYreiB"
      }
    },
    {
      "cell_type": "code",
      "source": [
        "#Criação da coluna categorica vacation\n",
        "df_consumption['vacation'] = df_consumption.apply(lambda x: \n",
        "                                                      1 if x['notes'] == 'vacation'\n",
        "                                                        else 0, axis=1)"
      ],
      "metadata": {
        "id": "hApKtVnOrmqG"
      },
      "execution_count": 16,
      "outputs": []
    },
    {
      "cell_type": "code",
      "source": [
        "#Criação da coluna categorica lockdown\n",
        "df_consumption['lockdown'] = df_consumption.apply(lambda x: \n",
        "                                                      1 if x['notes'] == 'COVID_lockdown'\n",
        "                                                        else 0, axis=1)"
      ],
      "metadata": {
        "id": "gCHhbmpdssnG"
      },
      "execution_count": 17,
      "outputs": []
    },
    {
      "cell_type": "code",
      "source": [
        "df_consumption.drop(columns=['notes','day_of_week'], inplace=True)"
      ],
      "metadata": {
        "id": "kdOZYqS8HARb"
      },
      "execution_count": 18,
      "outputs": []
    },
    {
      "cell_type": "code",
      "source": [
        "#Renomeando a coluna de consumo\n",
        "df_consumption.rename(columns={'Value (kWh)': 'consumption', 'StartDate':'Date'}, inplace=True)"
      ],
      "metadata": {
        "id": "WyQaZ2OjMqEM"
      },
      "execution_count": 19,
      "outputs": []
    },
    {
      "cell_type": "code",
      "source": [
        "#agrupando os dados para o periodo diário\n",
        "df_consumption = df_consumption.groupby(df_consumption.Date.dt.date).agg({'consumption': 'sum',\n",
        "                                                              'vacation' : pd.Series.mode, \n",
        "                                                              'lockdown' : pd.Series.mode}).reset_index()"
      ],
      "metadata": {
        "id": "JGhg9BQvffGv"
      },
      "execution_count": 20,
      "outputs": []
    },
    {
      "cell_type": "code",
      "source": [
        "df_consumption.info()"
      ],
      "metadata": {
        "colab": {
          "base_uri": "https://localhost:8080/"
        },
        "id": "t35Smds6nCBA",
        "outputId": "b4ca32a2-5ef5-4e5a-dbc7-c4d2e323576c"
      },
      "execution_count": 21,
      "outputs": [
        {
          "output_type": "stream",
          "name": "stdout",
          "text": [
            "<class 'pandas.core.frame.DataFrame'>\n",
            "RangeIndex: 1498 entries, 0 to 1497\n",
            "Data columns (total 4 columns):\n",
            " #   Column       Non-Null Count  Dtype  \n",
            "---  ------       --------------  -----  \n",
            " 0   Date         1498 non-null   object \n",
            " 1   consumption  1498 non-null   float64\n",
            " 2   vacation     1498 non-null   int64  \n",
            " 3   lockdown     1498 non-null   int64  \n",
            "dtypes: float64(1), int64(2), object(1)\n",
            "memory usage: 46.9+ KB\n"
          ]
        }
      ]
    },
    {
      "cell_type": "code",
      "source": [
        "df_consumption.Date = pd.to_datetime(df_consumption.Date)"
      ],
      "metadata": {
        "id": "zYeJ4SD0SVhF"
      },
      "execution_count": 22,
      "outputs": []
    },
    {
      "cell_type": "code",
      "source": [
        "df_consumption.info()"
      ],
      "metadata": {
        "id": "pRg7GUnWSiDX",
        "outputId": "cd650af8-3b8c-4142-dd43-c7534ef938c8",
        "colab": {
          "base_uri": "https://localhost:8080/"
        }
      },
      "execution_count": 23,
      "outputs": [
        {
          "output_type": "stream",
          "name": "stdout",
          "text": [
            "<class 'pandas.core.frame.DataFrame'>\n",
            "RangeIndex: 1498 entries, 0 to 1497\n",
            "Data columns (total 4 columns):\n",
            " #   Column       Non-Null Count  Dtype         \n",
            "---  ------       --------------  -----         \n",
            " 0   Date         1498 non-null   datetime64[ns]\n",
            " 1   consumption  1498 non-null   float64       \n",
            " 2   vacation     1498 non-null   int64         \n",
            " 3   lockdown     1498 non-null   int64         \n",
            "dtypes: datetime64[ns](1), float64(1), int64(2)\n",
            "memory usage: 46.9 KB\n"
          ]
        }
      ]
    },
    {
      "cell_type": "code",
      "source": [
        "df_consumption.describe()"
      ],
      "metadata": {
        "colab": {
          "base_uri": "https://localhost:8080/",
          "height": 0
        },
        "id": "M54w73V1Rq5X",
        "outputId": "d9863d8e-9f28-4193-b0f8-5790e6a854b4"
      },
      "execution_count": 24,
      "outputs": [
        {
          "output_type": "execute_result",
          "data": {
            "text/plain": [
              "       consumption     vacation     lockdown\n",
              "count  1498.000000  1498.000000  1498.000000\n",
              "mean     21.399148     0.031375     0.064085\n",
              "std      12.635139     0.174388     0.244987\n",
              "min       4.610000     0.000000     0.000000\n",
              "25%      10.828750     0.000000     0.000000\n",
              "50%      16.833500     0.000000     0.000000\n",
              "75%      30.726250     0.000000     0.000000\n",
              "max      78.225300     1.000000     1.000000"
            ],
            "text/html": [
              "\n",
              "  <div id=\"df-cb6ce647-1469-4b91-ac8b-d4d6c6626e36\">\n",
              "    <div class=\"colab-df-container\">\n",
              "      <div>\n",
              "<style scoped>\n",
              "    .dataframe tbody tr th:only-of-type {\n",
              "        vertical-align: middle;\n",
              "    }\n",
              "\n",
              "    .dataframe tbody tr th {\n",
              "        vertical-align: top;\n",
              "    }\n",
              "\n",
              "    .dataframe thead th {\n",
              "        text-align: right;\n",
              "    }\n",
              "</style>\n",
              "<table border=\"1\" class=\"dataframe\">\n",
              "  <thead>\n",
              "    <tr style=\"text-align: right;\">\n",
              "      <th></th>\n",
              "      <th>consumption</th>\n",
              "      <th>vacation</th>\n",
              "      <th>lockdown</th>\n",
              "    </tr>\n",
              "  </thead>\n",
              "  <tbody>\n",
              "    <tr>\n",
              "      <th>count</th>\n",
              "      <td>1498.000000</td>\n",
              "      <td>1498.000000</td>\n",
              "      <td>1498.000000</td>\n",
              "    </tr>\n",
              "    <tr>\n",
              "      <th>mean</th>\n",
              "      <td>21.399148</td>\n",
              "      <td>0.031375</td>\n",
              "      <td>0.064085</td>\n",
              "    </tr>\n",
              "    <tr>\n",
              "      <th>std</th>\n",
              "      <td>12.635139</td>\n",
              "      <td>0.174388</td>\n",
              "      <td>0.244987</td>\n",
              "    </tr>\n",
              "    <tr>\n",
              "      <th>min</th>\n",
              "      <td>4.610000</td>\n",
              "      <td>0.000000</td>\n",
              "      <td>0.000000</td>\n",
              "    </tr>\n",
              "    <tr>\n",
              "      <th>25%</th>\n",
              "      <td>10.828750</td>\n",
              "      <td>0.000000</td>\n",
              "      <td>0.000000</td>\n",
              "    </tr>\n",
              "    <tr>\n",
              "      <th>50%</th>\n",
              "      <td>16.833500</td>\n",
              "      <td>0.000000</td>\n",
              "      <td>0.000000</td>\n",
              "    </tr>\n",
              "    <tr>\n",
              "      <th>75%</th>\n",
              "      <td>30.726250</td>\n",
              "      <td>0.000000</td>\n",
              "      <td>0.000000</td>\n",
              "    </tr>\n",
              "    <tr>\n",
              "      <th>max</th>\n",
              "      <td>78.225300</td>\n",
              "      <td>1.000000</td>\n",
              "      <td>1.000000</td>\n",
              "    </tr>\n",
              "  </tbody>\n",
              "</table>\n",
              "</div>\n",
              "      <button class=\"colab-df-convert\" onclick=\"convertToInteractive('df-cb6ce647-1469-4b91-ac8b-d4d6c6626e36')\"\n",
              "              title=\"Convert this dataframe to an interactive table.\"\n",
              "              style=\"display:none;\">\n",
              "        \n",
              "  <svg xmlns=\"http://www.w3.org/2000/svg\" height=\"24px\"viewBox=\"0 0 24 24\"\n",
              "       width=\"24px\">\n",
              "    <path d=\"M0 0h24v24H0V0z\" fill=\"none\"/>\n",
              "    <path d=\"M18.56 5.44l.94 2.06.94-2.06 2.06-.94-2.06-.94-.94-2.06-.94 2.06-2.06.94zm-11 1L8.5 8.5l.94-2.06 2.06-.94-2.06-.94L8.5 2.5l-.94 2.06-2.06.94zm10 10l.94 2.06.94-2.06 2.06-.94-2.06-.94-.94-2.06-.94 2.06-2.06.94z\"/><path d=\"M17.41 7.96l-1.37-1.37c-.4-.4-.92-.59-1.43-.59-.52 0-1.04.2-1.43.59L10.3 9.45l-7.72 7.72c-.78.78-.78 2.05 0 2.83L4 21.41c.39.39.9.59 1.41.59.51 0 1.02-.2 1.41-.59l7.78-7.78 2.81-2.81c.8-.78.8-2.07 0-2.86zM5.41 20L4 18.59l7.72-7.72 1.47 1.35L5.41 20z\"/>\n",
              "  </svg>\n",
              "      </button>\n",
              "      \n",
              "  <style>\n",
              "    .colab-df-container {\n",
              "      display:flex;\n",
              "      flex-wrap:wrap;\n",
              "      gap: 12px;\n",
              "    }\n",
              "\n",
              "    .colab-df-convert {\n",
              "      background-color: #E8F0FE;\n",
              "      border: none;\n",
              "      border-radius: 50%;\n",
              "      cursor: pointer;\n",
              "      display: none;\n",
              "      fill: #1967D2;\n",
              "      height: 32px;\n",
              "      padding: 0 0 0 0;\n",
              "      width: 32px;\n",
              "    }\n",
              "\n",
              "    .colab-df-convert:hover {\n",
              "      background-color: #E2EBFA;\n",
              "      box-shadow: 0px 1px 2px rgba(60, 64, 67, 0.3), 0px 1px 3px 1px rgba(60, 64, 67, 0.15);\n",
              "      fill: #174EA6;\n",
              "    }\n",
              "\n",
              "    [theme=dark] .colab-df-convert {\n",
              "      background-color: #3B4455;\n",
              "      fill: #D2E3FC;\n",
              "    }\n",
              "\n",
              "    [theme=dark] .colab-df-convert:hover {\n",
              "      background-color: #434B5C;\n",
              "      box-shadow: 0px 1px 3px 1px rgba(0, 0, 0, 0.15);\n",
              "      filter: drop-shadow(0px 1px 2px rgba(0, 0, 0, 0.3));\n",
              "      fill: #FFFFFF;\n",
              "    }\n",
              "  </style>\n",
              "\n",
              "      <script>\n",
              "        const buttonEl =\n",
              "          document.querySelector('#df-cb6ce647-1469-4b91-ac8b-d4d6c6626e36 button.colab-df-convert');\n",
              "        buttonEl.style.display =\n",
              "          google.colab.kernel.accessAllowed ? 'block' : 'none';\n",
              "\n",
              "        async function convertToInteractive(key) {\n",
              "          const element = document.querySelector('#df-cb6ce647-1469-4b91-ac8b-d4d6c6626e36');\n",
              "          const dataTable =\n",
              "            await google.colab.kernel.invokeFunction('convertToInteractive',\n",
              "                                                     [key], {});\n",
              "          if (!dataTable) return;\n",
              "\n",
              "          const docLinkHtml = 'Like what you see? Visit the ' +\n",
              "            '<a target=\"_blank\" href=https://colab.research.google.com/notebooks/data_table.ipynb>data table notebook</a>'\n",
              "            + ' to learn more about interactive tables.';\n",
              "          element.innerHTML = '';\n",
              "          dataTable['output_type'] = 'display_data';\n",
              "          await google.colab.output.renderOutput(dataTable, element);\n",
              "          const docLink = document.createElement('div');\n",
              "          docLink.innerHTML = docLinkHtml;\n",
              "          element.appendChild(docLink);\n",
              "        }\n",
              "      </script>\n",
              "    </div>\n",
              "  </div>\n",
              "  "
            ]
          },
          "metadata": {},
          "execution_count": 24
        }
      ]
    },
    {
      "cell_type": "markdown",
      "source": [
        "####Dados sobre o tempo"
      ],
      "metadata": {
        "id": "ecR4Dm8hFr3u"
      }
    },
    {
      "cell_type": "code",
      "source": [
        "#Dados sobre tempo (temperatura, pressão, preciptação...)\n",
        "df_weather = pd.read_csv('/content/weather_2016_2020_daily.csv', parse_dates=['Date'])"
      ],
      "metadata": {
        "id": "Wuu8Tw9v6H_n"
      },
      "execution_count": 25,
      "outputs": []
    },
    {
      "cell_type": "code",
      "source": [
        "df_weather.head()"
      ],
      "metadata": {
        "colab": {
          "base_uri": "https://localhost:8080/",
          "height": 0
        },
        "id": "MRw3RgY6ITSF",
        "outputId": "06430559-3580-4f48-8cdb-b7b5919ac94d"
      },
      "execution_count": 26,
      "outputs": [
        {
          "output_type": "execute_result",
          "data": {
            "text/plain": [
              "        Date  Day  Temp_max  Temp_avg  Temp_min  Dew_max  Dew_avg  Dew_min  \\\n",
              "0 2016-01-06    1        85      74.8        68       74     71.4       66   \n",
              "1 2016-02-06    2        76      71.2        66       74     70.3       66   \n",
              "2 2016-03-06    3        79      72.1        68       72     70.0       68   \n",
              "3 2016-04-06    4        76      71.2        69       73     70.0       66   \n",
              "4 2016-05-06    5        82      73.8        68       72     70.0       68   \n",
              "\n",
              "   Hum_max  Hum_avg  Hum_min  Wind_max  Wind_avg  Wind_min  Press_max  \\\n",
              "0      100     89.4       65        21       9.5         0       29.8   \n",
              "1      100     96.8       89        18       7.8         0       29.8   \n",
              "2      100     93.6       72        18       4.7         0       29.8   \n",
              "3      100     96.1       85        20       7.0         0       29.8   \n",
              "4      100     88.7       62        17       7.7         0       29.7   \n",
              "\n",
              "   Press_avg  Press_min  Precipit  day_of_week  \n",
              "0       29.8       29.7      0.00            2  \n",
              "1       29.8       29.7      4.33            5  \n",
              "2       29.8       29.7      3.18            6  \n",
              "3       29.7       29.7      2.37            2  \n",
              "4       29.7       29.7      0.39            4  "
            ],
            "text/html": [
              "\n",
              "  <div id=\"df-b100e684-5056-456b-b09b-34b5859e74f4\">\n",
              "    <div class=\"colab-df-container\">\n",
              "      <div>\n",
              "<style scoped>\n",
              "    .dataframe tbody tr th:only-of-type {\n",
              "        vertical-align: middle;\n",
              "    }\n",
              "\n",
              "    .dataframe tbody tr th {\n",
              "        vertical-align: top;\n",
              "    }\n",
              "\n",
              "    .dataframe thead th {\n",
              "        text-align: right;\n",
              "    }\n",
              "</style>\n",
              "<table border=\"1\" class=\"dataframe\">\n",
              "  <thead>\n",
              "    <tr style=\"text-align: right;\">\n",
              "      <th></th>\n",
              "      <th>Date</th>\n",
              "      <th>Day</th>\n",
              "      <th>Temp_max</th>\n",
              "      <th>Temp_avg</th>\n",
              "      <th>Temp_min</th>\n",
              "      <th>Dew_max</th>\n",
              "      <th>Dew_avg</th>\n",
              "      <th>Dew_min</th>\n",
              "      <th>Hum_max</th>\n",
              "      <th>Hum_avg</th>\n",
              "      <th>Hum_min</th>\n",
              "      <th>Wind_max</th>\n",
              "      <th>Wind_avg</th>\n",
              "      <th>Wind_min</th>\n",
              "      <th>Press_max</th>\n",
              "      <th>Press_avg</th>\n",
              "      <th>Press_min</th>\n",
              "      <th>Precipit</th>\n",
              "      <th>day_of_week</th>\n",
              "    </tr>\n",
              "  </thead>\n",
              "  <tbody>\n",
              "    <tr>\n",
              "      <th>0</th>\n",
              "      <td>2016-01-06</td>\n",
              "      <td>1</td>\n",
              "      <td>85</td>\n",
              "      <td>74.8</td>\n",
              "      <td>68</td>\n",
              "      <td>74</td>\n",
              "      <td>71.4</td>\n",
              "      <td>66</td>\n",
              "      <td>100</td>\n",
              "      <td>89.4</td>\n",
              "      <td>65</td>\n",
              "      <td>21</td>\n",
              "      <td>9.5</td>\n",
              "      <td>0</td>\n",
              "      <td>29.8</td>\n",
              "      <td>29.8</td>\n",
              "      <td>29.7</td>\n",
              "      <td>0.00</td>\n",
              "      <td>2</td>\n",
              "    </tr>\n",
              "    <tr>\n",
              "      <th>1</th>\n",
              "      <td>2016-02-06</td>\n",
              "      <td>2</td>\n",
              "      <td>76</td>\n",
              "      <td>71.2</td>\n",
              "      <td>66</td>\n",
              "      <td>74</td>\n",
              "      <td>70.3</td>\n",
              "      <td>66</td>\n",
              "      <td>100</td>\n",
              "      <td>96.8</td>\n",
              "      <td>89</td>\n",
              "      <td>18</td>\n",
              "      <td>7.8</td>\n",
              "      <td>0</td>\n",
              "      <td>29.8</td>\n",
              "      <td>29.8</td>\n",
              "      <td>29.7</td>\n",
              "      <td>4.33</td>\n",
              "      <td>5</td>\n",
              "    </tr>\n",
              "    <tr>\n",
              "      <th>2</th>\n",
              "      <td>2016-03-06</td>\n",
              "      <td>3</td>\n",
              "      <td>79</td>\n",
              "      <td>72.1</td>\n",
              "      <td>68</td>\n",
              "      <td>72</td>\n",
              "      <td>70.0</td>\n",
              "      <td>68</td>\n",
              "      <td>100</td>\n",
              "      <td>93.6</td>\n",
              "      <td>72</td>\n",
              "      <td>18</td>\n",
              "      <td>4.7</td>\n",
              "      <td>0</td>\n",
              "      <td>29.8</td>\n",
              "      <td>29.8</td>\n",
              "      <td>29.7</td>\n",
              "      <td>3.18</td>\n",
              "      <td>6</td>\n",
              "    </tr>\n",
              "    <tr>\n",
              "      <th>3</th>\n",
              "      <td>2016-04-06</td>\n",
              "      <td>4</td>\n",
              "      <td>76</td>\n",
              "      <td>71.2</td>\n",
              "      <td>69</td>\n",
              "      <td>73</td>\n",
              "      <td>70.0</td>\n",
              "      <td>66</td>\n",
              "      <td>100</td>\n",
              "      <td>96.1</td>\n",
              "      <td>85</td>\n",
              "      <td>20</td>\n",
              "      <td>7.0</td>\n",
              "      <td>0</td>\n",
              "      <td>29.8</td>\n",
              "      <td>29.7</td>\n",
              "      <td>29.7</td>\n",
              "      <td>2.37</td>\n",
              "      <td>2</td>\n",
              "    </tr>\n",
              "    <tr>\n",
              "      <th>4</th>\n",
              "      <td>2016-05-06</td>\n",
              "      <td>5</td>\n",
              "      <td>82</td>\n",
              "      <td>73.8</td>\n",
              "      <td>68</td>\n",
              "      <td>72</td>\n",
              "      <td>70.0</td>\n",
              "      <td>68</td>\n",
              "      <td>100</td>\n",
              "      <td>88.7</td>\n",
              "      <td>62</td>\n",
              "      <td>17</td>\n",
              "      <td>7.7</td>\n",
              "      <td>0</td>\n",
              "      <td>29.7</td>\n",
              "      <td>29.7</td>\n",
              "      <td>29.7</td>\n",
              "      <td>0.39</td>\n",
              "      <td>4</td>\n",
              "    </tr>\n",
              "  </tbody>\n",
              "</table>\n",
              "</div>\n",
              "      <button class=\"colab-df-convert\" onclick=\"convertToInteractive('df-b100e684-5056-456b-b09b-34b5859e74f4')\"\n",
              "              title=\"Convert this dataframe to an interactive table.\"\n",
              "              style=\"display:none;\">\n",
              "        \n",
              "  <svg xmlns=\"http://www.w3.org/2000/svg\" height=\"24px\"viewBox=\"0 0 24 24\"\n",
              "       width=\"24px\">\n",
              "    <path d=\"M0 0h24v24H0V0z\" fill=\"none\"/>\n",
              "    <path d=\"M18.56 5.44l.94 2.06.94-2.06 2.06-.94-2.06-.94-.94-2.06-.94 2.06-2.06.94zm-11 1L8.5 8.5l.94-2.06 2.06-.94-2.06-.94L8.5 2.5l-.94 2.06-2.06.94zm10 10l.94 2.06.94-2.06 2.06-.94-2.06-.94-.94-2.06-.94 2.06-2.06.94z\"/><path d=\"M17.41 7.96l-1.37-1.37c-.4-.4-.92-.59-1.43-.59-.52 0-1.04.2-1.43.59L10.3 9.45l-7.72 7.72c-.78.78-.78 2.05 0 2.83L4 21.41c.39.39.9.59 1.41.59.51 0 1.02-.2 1.41-.59l7.78-7.78 2.81-2.81c.8-.78.8-2.07 0-2.86zM5.41 20L4 18.59l7.72-7.72 1.47 1.35L5.41 20z\"/>\n",
              "  </svg>\n",
              "      </button>\n",
              "      \n",
              "  <style>\n",
              "    .colab-df-container {\n",
              "      display:flex;\n",
              "      flex-wrap:wrap;\n",
              "      gap: 12px;\n",
              "    }\n",
              "\n",
              "    .colab-df-convert {\n",
              "      background-color: #E8F0FE;\n",
              "      border: none;\n",
              "      border-radius: 50%;\n",
              "      cursor: pointer;\n",
              "      display: none;\n",
              "      fill: #1967D2;\n",
              "      height: 32px;\n",
              "      padding: 0 0 0 0;\n",
              "      width: 32px;\n",
              "    }\n",
              "\n",
              "    .colab-df-convert:hover {\n",
              "      background-color: #E2EBFA;\n",
              "      box-shadow: 0px 1px 2px rgba(60, 64, 67, 0.3), 0px 1px 3px 1px rgba(60, 64, 67, 0.15);\n",
              "      fill: #174EA6;\n",
              "    }\n",
              "\n",
              "    [theme=dark] .colab-df-convert {\n",
              "      background-color: #3B4455;\n",
              "      fill: #D2E3FC;\n",
              "    }\n",
              "\n",
              "    [theme=dark] .colab-df-convert:hover {\n",
              "      background-color: #434B5C;\n",
              "      box-shadow: 0px 1px 3px 1px rgba(0, 0, 0, 0.15);\n",
              "      filter: drop-shadow(0px 1px 2px rgba(0, 0, 0, 0.3));\n",
              "      fill: #FFFFFF;\n",
              "    }\n",
              "  </style>\n",
              "\n",
              "      <script>\n",
              "        const buttonEl =\n",
              "          document.querySelector('#df-b100e684-5056-456b-b09b-34b5859e74f4 button.colab-df-convert');\n",
              "        buttonEl.style.display =\n",
              "          google.colab.kernel.accessAllowed ? 'block' : 'none';\n",
              "\n",
              "        async function convertToInteractive(key) {\n",
              "          const element = document.querySelector('#df-b100e684-5056-456b-b09b-34b5859e74f4');\n",
              "          const dataTable =\n",
              "            await google.colab.kernel.invokeFunction('convertToInteractive',\n",
              "                                                     [key], {});\n",
              "          if (!dataTable) return;\n",
              "\n",
              "          const docLinkHtml = 'Like what you see? Visit the ' +\n",
              "            '<a target=\"_blank\" href=https://colab.research.google.com/notebooks/data_table.ipynb>data table notebook</a>'\n",
              "            + ' to learn more about interactive tables.';\n",
              "          element.innerHTML = '';\n",
              "          dataTable['output_type'] = 'display_data';\n",
              "          await google.colab.output.renderOutput(dataTable, element);\n",
              "          const docLink = document.createElement('div');\n",
              "          docLink.innerHTML = docLinkHtml;\n",
              "          element.appendChild(docLink);\n",
              "        }\n",
              "      </script>\n",
              "    </div>\n",
              "  </div>\n",
              "  "
            ]
          },
          "metadata": {},
          "execution_count": 26
        }
      ]
    },
    {
      "cell_type": "code",
      "source": [
        "df_weather.info()"
      ],
      "metadata": {
        "colab": {
          "base_uri": "https://localhost:8080/"
        },
        "id": "yxdjumHjSEnZ",
        "outputId": "5eeeaa1e-c6f1-42c9-c82d-f48de0e3b7a6"
      },
      "execution_count": 27,
      "outputs": [
        {
          "output_type": "stream",
          "name": "stdout",
          "text": [
            "<class 'pandas.core.frame.DataFrame'>\n",
            "RangeIndex: 1552 entries, 0 to 1551\n",
            "Data columns (total 19 columns):\n",
            " #   Column       Non-Null Count  Dtype         \n",
            "---  ------       --------------  -----         \n",
            " 0   Date         1552 non-null   datetime64[ns]\n",
            " 1   Day          1552 non-null   int64         \n",
            " 2   Temp_max     1552 non-null   int64         \n",
            " 3   Temp_avg     1552 non-null   float64       \n",
            " 4   Temp_min     1552 non-null   int64         \n",
            " 5   Dew_max      1552 non-null   int64         \n",
            " 6   Dew_avg      1552 non-null   float64       \n",
            " 7   Dew_min      1552 non-null   int64         \n",
            " 8   Hum_max      1552 non-null   int64         \n",
            " 9   Hum_avg      1552 non-null   float64       \n",
            " 10  Hum_min      1552 non-null   int64         \n",
            " 11  Wind_max     1552 non-null   int64         \n",
            " 12  Wind_avg     1552 non-null   float64       \n",
            " 13  Wind_min     1552 non-null   int64         \n",
            " 14  Press_max    1552 non-null   float64       \n",
            " 15  Press_avg    1552 non-null   float64       \n",
            " 16  Press_min    1552 non-null   float64       \n",
            " 17  Precipit     1552 non-null   float64       \n",
            " 18  day_of_week  1552 non-null   int64         \n",
            "dtypes: datetime64[ns](1), float64(8), int64(10)\n",
            "memory usage: 230.5 KB\n"
          ]
        }
      ]
    },
    {
      "cell_type": "code",
      "source": [
        "#Verificando registros duplicados\n",
        "print(f\"Valores duplicados: {df_weather.duplicated().sum()}\")"
      ],
      "metadata": {
        "id": "6rQzrLe2LPbO",
        "outputId": "bf2f349e-d569-4d67-db7c-850a9bd1eccf",
        "colab": {
          "base_uri": "https://localhost:8080/"
        }
      },
      "execution_count": 28,
      "outputs": [
        {
          "output_type": "stream",
          "name": "stdout",
          "text": [
            "Valores duplicados: 0\n"
          ]
        }
      ]
    },
    {
      "cell_type": "code",
      "source": [
        "df_weather.drop(columns=['Day', 'day_of_week'], inplace=True)"
      ],
      "metadata": {
        "id": "o8003Ig2mY_0"
      },
      "execution_count": 29,
      "outputs": []
    },
    {
      "cell_type": "markdown",
      "source": [
        "###Dataset para modelagem"
      ],
      "metadata": {
        "id": "kQWRs2RlLZ4A"
      }
    },
    {
      "cell_type": "code",
      "source": [
        "df_cons_pred = df_weather.merge(df_consumption, on='Date', how='right')"
      ],
      "metadata": {
        "id": "nbGFLZQALktO"
      },
      "execution_count": 30,
      "outputs": []
    },
    {
      "cell_type": "code",
      "source": [
        "df_cons_pred.info()"
      ],
      "metadata": {
        "id": "Y3lLtPC3PHVa",
        "outputId": "f131dc26-2e80-40a1-e85c-85ed58af43a5",
        "colab": {
          "base_uri": "https://localhost:8080/"
        }
      },
      "execution_count": 31,
      "outputs": [
        {
          "output_type": "stream",
          "name": "stdout",
          "text": [
            "<class 'pandas.core.frame.DataFrame'>\n",
            "Int64Index: 1498 entries, 0 to 1497\n",
            "Data columns (total 20 columns):\n",
            " #   Column       Non-Null Count  Dtype         \n",
            "---  ------       --------------  -----         \n",
            " 0   Date         1498 non-null   datetime64[ns]\n",
            " 1   Temp_max     1498 non-null   int64         \n",
            " 2   Temp_avg     1498 non-null   float64       \n",
            " 3   Temp_min     1498 non-null   int64         \n",
            " 4   Dew_max      1498 non-null   int64         \n",
            " 5   Dew_avg      1498 non-null   float64       \n",
            " 6   Dew_min      1498 non-null   int64         \n",
            " 7   Hum_max      1498 non-null   int64         \n",
            " 8   Hum_avg      1498 non-null   float64       \n",
            " 9   Hum_min      1498 non-null   int64         \n",
            " 10  Wind_max     1498 non-null   int64         \n",
            " 11  Wind_avg     1498 non-null   float64       \n",
            " 12  Wind_min     1498 non-null   int64         \n",
            " 13  Press_max    1498 non-null   float64       \n",
            " 14  Press_avg    1498 non-null   float64       \n",
            " 15  Press_min    1498 non-null   float64       \n",
            " 16  Precipit     1498 non-null   float64       \n",
            " 17  consumption  1498 non-null   float64       \n",
            " 18  vacation     1498 non-null   int64         \n",
            " 19  lockdown     1498 non-null   int64         \n",
            "dtypes: datetime64[ns](1), float64(9), int64(10)\n",
            "memory usage: 245.8 KB\n"
          ]
        }
      ]
    },
    {
      "cell_type": "code",
      "source": [
        "#Verificando registros duplicados\n",
        "print(f\"Valores duplicados: {df_cons_pred.duplicated().sum()}\")"
      ],
      "metadata": {
        "id": "Zu4YLMBzLgJ_",
        "outputId": "40311dbd-954f-42ad-c590-6591f3d7e601",
        "colab": {
          "base_uri": "https://localhost:8080/"
        }
      },
      "execution_count": 32,
      "outputs": [
        {
          "output_type": "stream",
          "name": "stdout",
          "text": [
            "Valores duplicados: 0\n"
          ]
        }
      ]
    },
    {
      "cell_type": "markdown",
      "source": [
        "###Extração de dia, dia da semana, mes e ano da data"
      ],
      "metadata": {
        "id": "N9BEuOiQerAH"
      }
    },
    {
      "cell_type": "code",
      "source": [
        "#Extrção do dia do mês\n",
        "df_cons_pred['day'] = df_cons_pred.Date.dt.day.astype(str)\n",
        "\n",
        "#Extração do nome dia da semana\n",
        "df_cons_pred['day_of_week'] = df_cons_pred.Date.dt.day_name()\n",
        "\n",
        "#Criação da coluna categorica weekend\n",
        "df_cons_pred['weekend'] = df_cons_pred.apply(lambda x: \n",
        "                                             'weekend' if (x['day_of_week'] == 'Saturday') | \n",
        "                                                          (x['day_of_week'] == 'Sunday')\n",
        "                                                        else 'weekday', axis=1)\n",
        "\n",
        "#Extração do nome do mês\n",
        "df_cons_pred['month'] = df_cons_pred.Date.dt.month_name()\n",
        "\n",
        "#Extração do ano\n",
        "df_cons_pred['year'] = df_cons_pred.Date.dt.year.astype(str)"
      ],
      "metadata": {
        "id": "VLBTkJ8RqcEg"
      },
      "execution_count": 33,
      "outputs": []
    },
    {
      "cell_type": "code",
      "source": [
        "df_cons_pred.drop(columns=['Date'], inplace=True)"
      ],
      "metadata": {
        "id": "vjjyW1RvsSec"
      },
      "execution_count": 34,
      "outputs": []
    },
    {
      "cell_type": "code",
      "source": [
        "df_cons_pred.head()"
      ],
      "metadata": {
        "colab": {
          "base_uri": "https://localhost:8080/",
          "height": 0
        },
        "id": "V-ADKurYqt1P",
        "outputId": "002c97a3-dc4f-4535-f739-c1a88c5dda5f"
      },
      "execution_count": 35,
      "outputs": [
        {
          "output_type": "execute_result",
          "data": {
            "text/plain": [
              "   Temp_max  Temp_avg  Temp_min  Dew_max  Dew_avg  Dew_min  Hum_max  Hum_avg  \\\n",
              "0        85      74.8        68       74     71.4       66      100     89.4   \n",
              "1        94      84.9        76       76     74.0       72       94     71.6   \n",
              "2        97      86.5        75       76     73.3       67       96     67.3   \n",
              "3        96      86.2        78       75     73.3       70       88     67.1   \n",
              "4        81      71.1        61       64     59.4       57       90     68.7   \n",
              "\n",
              "   Hum_min  Wind_max  ...  Press_min  Precipit  consumption  vacation  \\\n",
              "0       65        21  ...       29.7      0.00       29.691         0   \n",
              "1       51        13  ...       29.8      0.00       43.177         0   \n",
              "2       37        20  ...       29.9      0.00       50.057         0   \n",
              "3       46        13  ...       29.7      0.01       47.363         0   \n",
              "4       45         8  ...       29.9      0.00       42.203         0   \n",
              "\n",
              "   lockdown  day  day_of_week  weekend    month  year  \n",
              "0         0    6    Wednesday  weekday  January  2016  \n",
              "1         0    7     Thursday  weekday  January  2016  \n",
              "2         0    8       Friday  weekday  January  2016  \n",
              "3         0    9     Saturday  weekend  January  2016  \n",
              "4         0   10       Sunday  weekend  January  2016  \n",
              "\n",
              "[5 rows x 24 columns]"
            ],
            "text/html": [
              "\n",
              "  <div id=\"df-0b39fc9c-61ac-48ab-b1c2-c2ad0f890694\">\n",
              "    <div class=\"colab-df-container\">\n",
              "      <div>\n",
              "<style scoped>\n",
              "    .dataframe tbody tr th:only-of-type {\n",
              "        vertical-align: middle;\n",
              "    }\n",
              "\n",
              "    .dataframe tbody tr th {\n",
              "        vertical-align: top;\n",
              "    }\n",
              "\n",
              "    .dataframe thead th {\n",
              "        text-align: right;\n",
              "    }\n",
              "</style>\n",
              "<table border=\"1\" class=\"dataframe\">\n",
              "  <thead>\n",
              "    <tr style=\"text-align: right;\">\n",
              "      <th></th>\n",
              "      <th>Temp_max</th>\n",
              "      <th>Temp_avg</th>\n",
              "      <th>Temp_min</th>\n",
              "      <th>Dew_max</th>\n",
              "      <th>Dew_avg</th>\n",
              "      <th>Dew_min</th>\n",
              "      <th>Hum_max</th>\n",
              "      <th>Hum_avg</th>\n",
              "      <th>Hum_min</th>\n",
              "      <th>Wind_max</th>\n",
              "      <th>...</th>\n",
              "      <th>Press_min</th>\n",
              "      <th>Precipit</th>\n",
              "      <th>consumption</th>\n",
              "      <th>vacation</th>\n",
              "      <th>lockdown</th>\n",
              "      <th>day</th>\n",
              "      <th>day_of_week</th>\n",
              "      <th>weekend</th>\n",
              "      <th>month</th>\n",
              "      <th>year</th>\n",
              "    </tr>\n",
              "  </thead>\n",
              "  <tbody>\n",
              "    <tr>\n",
              "      <th>0</th>\n",
              "      <td>85</td>\n",
              "      <td>74.8</td>\n",
              "      <td>68</td>\n",
              "      <td>74</td>\n",
              "      <td>71.4</td>\n",
              "      <td>66</td>\n",
              "      <td>100</td>\n",
              "      <td>89.4</td>\n",
              "      <td>65</td>\n",
              "      <td>21</td>\n",
              "      <td>...</td>\n",
              "      <td>29.7</td>\n",
              "      <td>0.00</td>\n",
              "      <td>29.691</td>\n",
              "      <td>0</td>\n",
              "      <td>0</td>\n",
              "      <td>6</td>\n",
              "      <td>Wednesday</td>\n",
              "      <td>weekday</td>\n",
              "      <td>January</td>\n",
              "      <td>2016</td>\n",
              "    </tr>\n",
              "    <tr>\n",
              "      <th>1</th>\n",
              "      <td>94</td>\n",
              "      <td>84.9</td>\n",
              "      <td>76</td>\n",
              "      <td>76</td>\n",
              "      <td>74.0</td>\n",
              "      <td>72</td>\n",
              "      <td>94</td>\n",
              "      <td>71.6</td>\n",
              "      <td>51</td>\n",
              "      <td>13</td>\n",
              "      <td>...</td>\n",
              "      <td>29.8</td>\n",
              "      <td>0.00</td>\n",
              "      <td>43.177</td>\n",
              "      <td>0</td>\n",
              "      <td>0</td>\n",
              "      <td>7</td>\n",
              "      <td>Thursday</td>\n",
              "      <td>weekday</td>\n",
              "      <td>January</td>\n",
              "      <td>2016</td>\n",
              "    </tr>\n",
              "    <tr>\n",
              "      <th>2</th>\n",
              "      <td>97</td>\n",
              "      <td>86.5</td>\n",
              "      <td>75</td>\n",
              "      <td>76</td>\n",
              "      <td>73.3</td>\n",
              "      <td>67</td>\n",
              "      <td>96</td>\n",
              "      <td>67.3</td>\n",
              "      <td>37</td>\n",
              "      <td>20</td>\n",
              "      <td>...</td>\n",
              "      <td>29.9</td>\n",
              "      <td>0.00</td>\n",
              "      <td>50.057</td>\n",
              "      <td>0</td>\n",
              "      <td>0</td>\n",
              "      <td>8</td>\n",
              "      <td>Friday</td>\n",
              "      <td>weekday</td>\n",
              "      <td>January</td>\n",
              "      <td>2016</td>\n",
              "    </tr>\n",
              "    <tr>\n",
              "      <th>3</th>\n",
              "      <td>96</td>\n",
              "      <td>86.2</td>\n",
              "      <td>78</td>\n",
              "      <td>75</td>\n",
              "      <td>73.3</td>\n",
              "      <td>70</td>\n",
              "      <td>88</td>\n",
              "      <td>67.1</td>\n",
              "      <td>46</td>\n",
              "      <td>13</td>\n",
              "      <td>...</td>\n",
              "      <td>29.7</td>\n",
              "      <td>0.01</td>\n",
              "      <td>47.363</td>\n",
              "      <td>0</td>\n",
              "      <td>0</td>\n",
              "      <td>9</td>\n",
              "      <td>Saturday</td>\n",
              "      <td>weekend</td>\n",
              "      <td>January</td>\n",
              "      <td>2016</td>\n",
              "    </tr>\n",
              "    <tr>\n",
              "      <th>4</th>\n",
              "      <td>81</td>\n",
              "      <td>71.1</td>\n",
              "      <td>61</td>\n",
              "      <td>64</td>\n",
              "      <td>59.4</td>\n",
              "      <td>57</td>\n",
              "      <td>90</td>\n",
              "      <td>68.7</td>\n",
              "      <td>45</td>\n",
              "      <td>8</td>\n",
              "      <td>...</td>\n",
              "      <td>29.9</td>\n",
              "      <td>0.00</td>\n",
              "      <td>42.203</td>\n",
              "      <td>0</td>\n",
              "      <td>0</td>\n",
              "      <td>10</td>\n",
              "      <td>Sunday</td>\n",
              "      <td>weekend</td>\n",
              "      <td>January</td>\n",
              "      <td>2016</td>\n",
              "    </tr>\n",
              "  </tbody>\n",
              "</table>\n",
              "<p>5 rows × 24 columns</p>\n",
              "</div>\n",
              "      <button class=\"colab-df-convert\" onclick=\"convertToInteractive('df-0b39fc9c-61ac-48ab-b1c2-c2ad0f890694')\"\n",
              "              title=\"Convert this dataframe to an interactive table.\"\n",
              "              style=\"display:none;\">\n",
              "        \n",
              "  <svg xmlns=\"http://www.w3.org/2000/svg\" height=\"24px\"viewBox=\"0 0 24 24\"\n",
              "       width=\"24px\">\n",
              "    <path d=\"M0 0h24v24H0V0z\" fill=\"none\"/>\n",
              "    <path d=\"M18.56 5.44l.94 2.06.94-2.06 2.06-.94-2.06-.94-.94-2.06-.94 2.06-2.06.94zm-11 1L8.5 8.5l.94-2.06 2.06-.94-2.06-.94L8.5 2.5l-.94 2.06-2.06.94zm10 10l.94 2.06.94-2.06 2.06-.94-2.06-.94-.94-2.06-.94 2.06-2.06.94z\"/><path d=\"M17.41 7.96l-1.37-1.37c-.4-.4-.92-.59-1.43-.59-.52 0-1.04.2-1.43.59L10.3 9.45l-7.72 7.72c-.78.78-.78 2.05 0 2.83L4 21.41c.39.39.9.59 1.41.59.51 0 1.02-.2 1.41-.59l7.78-7.78 2.81-2.81c.8-.78.8-2.07 0-2.86zM5.41 20L4 18.59l7.72-7.72 1.47 1.35L5.41 20z\"/>\n",
              "  </svg>\n",
              "      </button>\n",
              "      \n",
              "  <style>\n",
              "    .colab-df-container {\n",
              "      display:flex;\n",
              "      flex-wrap:wrap;\n",
              "      gap: 12px;\n",
              "    }\n",
              "\n",
              "    .colab-df-convert {\n",
              "      background-color: #E8F0FE;\n",
              "      border: none;\n",
              "      border-radius: 50%;\n",
              "      cursor: pointer;\n",
              "      display: none;\n",
              "      fill: #1967D2;\n",
              "      height: 32px;\n",
              "      padding: 0 0 0 0;\n",
              "      width: 32px;\n",
              "    }\n",
              "\n",
              "    .colab-df-convert:hover {\n",
              "      background-color: #E2EBFA;\n",
              "      box-shadow: 0px 1px 2px rgba(60, 64, 67, 0.3), 0px 1px 3px 1px rgba(60, 64, 67, 0.15);\n",
              "      fill: #174EA6;\n",
              "    }\n",
              "\n",
              "    [theme=dark] .colab-df-convert {\n",
              "      background-color: #3B4455;\n",
              "      fill: #D2E3FC;\n",
              "    }\n",
              "\n",
              "    [theme=dark] .colab-df-convert:hover {\n",
              "      background-color: #434B5C;\n",
              "      box-shadow: 0px 1px 3px 1px rgba(0, 0, 0, 0.15);\n",
              "      filter: drop-shadow(0px 1px 2px rgba(0, 0, 0, 0.3));\n",
              "      fill: #FFFFFF;\n",
              "    }\n",
              "  </style>\n",
              "\n",
              "      <script>\n",
              "        const buttonEl =\n",
              "          document.querySelector('#df-0b39fc9c-61ac-48ab-b1c2-c2ad0f890694 button.colab-df-convert');\n",
              "        buttonEl.style.display =\n",
              "          google.colab.kernel.accessAllowed ? 'block' : 'none';\n",
              "\n",
              "        async function convertToInteractive(key) {\n",
              "          const element = document.querySelector('#df-0b39fc9c-61ac-48ab-b1c2-c2ad0f890694');\n",
              "          const dataTable =\n",
              "            await google.colab.kernel.invokeFunction('convertToInteractive',\n",
              "                                                     [key], {});\n",
              "          if (!dataTable) return;\n",
              "\n",
              "          const docLinkHtml = 'Like what you see? Visit the ' +\n",
              "            '<a target=\"_blank\" href=https://colab.research.google.com/notebooks/data_table.ipynb>data table notebook</a>'\n",
              "            + ' to learn more about interactive tables.';\n",
              "          element.innerHTML = '';\n",
              "          dataTable['output_type'] = 'display_data';\n",
              "          await google.colab.output.renderOutput(dataTable, element);\n",
              "          const docLink = document.createElement('div');\n",
              "          docLink.innerHTML = docLinkHtml;\n",
              "          element.appendChild(docLink);\n",
              "        }\n",
              "      </script>\n",
              "    </div>\n",
              "  </div>\n",
              "  "
            ]
          },
          "metadata": {},
          "execution_count": 35
        }
      ]
    },
    {
      "cell_type": "markdown",
      "source": [
        "#Analises dos dados"
      ],
      "metadata": {
        "id": "gLb-iw1UK_aH"
      }
    },
    {
      "cell_type": "code",
      "source": [
        "features_cat = ['vacation', 'lockdown','day', 'weekend', 'day_of_week', 'month', 'year']"
      ],
      "metadata": {
        "id": "KhHayQK6C6ra"
      },
      "execution_count": 36,
      "outputs": []
    },
    {
      "cell_type": "code",
      "source": [
        "features_cont = ['Temp_max', 'Temp_avg', 'Temp_min', 'Dew_max', 'Dew_avg', 'Dew_min',\n",
        "                 'Hum_max', 'Hum_avg', 'Hum_min', 'Wind_max', 'Wind_avg', 'Wind_min', \n",
        "                 'Press_max', 'Press_avg', 'Press_min', 'Precipit'] "
      ],
      "metadata": {
        "id": "eN0UOLfxl-iG"
      },
      "execution_count": 37,
      "outputs": []
    },
    {
      "cell_type": "markdown",
      "source": [
        "##Análise temporal"
      ],
      "metadata": {
        "id": "WzdrNOYpfc7t"
      }
    },
    {
      "cell_type": "markdown",
      "source": [
        "###Consumo médio mensal"
      ],
      "metadata": {
        "id": "mwfr8lhIIwN6"
      }
    },
    {
      "cell_type": "code",
      "source": [
        "df_cons_year_mean = df_cons_pred[['consumption',  'month', 'year']].groupby(['year', 'month']).mean().reset_index()"
      ],
      "metadata": {
        "id": "4rx9BUzgff_F"
      },
      "execution_count": 38,
      "outputs": []
    },
    {
      "cell_type": "code",
      "source": [
        "#lista com os meses do ano ordenados cronologicamente\n",
        "months = ['January', 'February', 'March', 'April', 'May', 'June',\n",
        "             'July', 'August', 'September', 'October', 'November', 'December']\n",
        "\n",
        "#Cria uma categoria com a lista de meses do ano, dessa forma os gráficos serão ordenados de forma cronológica\n",
        "df_cons_year_mean['month'] = pd.Categorical(df_cons_year_mean['month'], categories=months, ordered=True)"
      ],
      "metadata": {
        "id": "YTXYtoALn9kt"
      },
      "execution_count": 39,
      "outputs": []
    },
    {
      "cell_type": "code",
      "source": [
        "# Plot the responses for different events and regions\n",
        "fig, axs = plt.subplots(figsize=(10,5))\n",
        "\n",
        "ax = sns.lineplot(x=\"month\", y=\"consumption\", hue=\"year\", data=df_cons_year_mean)\n",
        "\n",
        "ax = sns.swarmplot(x=\"month\", y=\"consumption\", data=df_cons_year_mean, color=\".25\")\n",
        "\n",
        "ax.tick_params(axis='x',labelrotation=75)\n",
        "\n",
        "# Define os nomes dos eixos x e Y\n",
        "ax.set_ylabel('Consumo (kWh)')\n",
        "ax.set_xlabel('Mês')\n",
        "\n",
        "# Define o titulo do grafico\n",
        "ax.set_title('Consumo mensal médio de Energia Elétrica', pad=15, color='black')\n",
        "\n",
        "plt.tight_layout()"
      ],
      "metadata": {
        "id": "hPrzhlGHmOyj",
        "outputId": "3d68ddb4-3e3a-4054-caf7-23250644844c",
        "colab": {
          "base_uri": "https://localhost:8080/",
          "height": 369
        }
      },
      "execution_count": 40,
      "outputs": [
        {
          "output_type": "display_data",
          "data": {
            "text/plain": [
              "<Figure size 720x360 with 1 Axes>"
            ],
            "image/png": "[encoded data removed]"
          },
          "metadata": {
            "needs_background": "light"
          }
        }
      ]
    },
    {
      "cell_type": "code",
      "source": [
        "# Plot the responses for different events and regions\n",
        "fig, axs = plt.subplots(figsize=(10,5))\n",
        "\n",
        "ax = sns.boxplot(x=\"month\", y=\"consumption\", data=df_cons_year_mean, order=months)\n",
        "ax = sns.swarmplot(x=\"month\", y=\"consumption\", data=df_cons_year_mean, color=\".25\")\n",
        "\n",
        "# Define os nomes dos eixos x e Y\n",
        "ax.set_ylabel('Consumo (kWh)')\n",
        "ax.set_xlabel('Mês')\n",
        "\n",
        "# Define o titulo do grafico\n",
        "ax.set_title('Distribuição do consumo médio mensal de Energia Elétrica', pad=15, color='black')\n",
        "\n",
        "plt.tight_layout()"
      ],
      "metadata": {
        "id": "cKZNCmoZPx7Q",
        "outputId": "ae125c07-1cc6-4548-df11-89275d366022",
        "colab": {
          "base_uri": "https://localhost:8080/",
          "height": 369
        }
      },
      "execution_count": 41,
      "outputs": [
        {
          "output_type": "display_data",
          "data": {
            "text/plain": [
              "<Figure size 720x360 with 1 Axes>"
            ],
            "image/png": "[encoded data removed]"
          },
          "metadata": {
            "needs_background": "light"
          }
        }
      ]
    },
    {
      "cell_type": "markdown",
      "source": [
        "###Consumo semanal típico"
      ],
      "metadata": {
        "id": "tUNYDn23I0Ba"
      }
    },
    {
      "cell_type": "code",
      "source": [
        "#lista com os meses do ano ordenados cronologicamente\n",
        "days_of_week = ['Monday', 'Tuesday', 'Wednesday', 'Thursday', 'Friday', 'Saturday', 'Sunday']\n",
        "\n",
        "#Cria uma categoria com a lista de meses do ano, dessa forma os gráficos serão ordenados de forma cronológica\n",
        "df_cons_pred['day_of_week'] = pd.Categorical(df_cons_pred['day_of_week'], categories=days_of_week, ordered=True)"
      ],
      "metadata": {
        "id": "57IdtITOJr79"
      },
      "execution_count": 56,
      "outputs": []
    },
    {
      "cell_type": "code",
      "source": [
        "# Plot the responses for different events and regions\n",
        "fig, axs = plt.subplots(figsize=(9,5))\n",
        "\n",
        "ax = sns.boxplot(x=\"day_of_week\", \n",
        "                 y=\"consumption\", \n",
        "                 data=df_cons_pred, \n",
        "                 showmeans=True,\n",
        "                 meanprops={\"marker\":\"o\",\n",
        "                            \"markerfacecolor\":\"white\", \n",
        "                            \"markeredgecolor\":\"black\",\n",
        "                            \"markersize\":\"7\"})\n",
        "\n",
        "# Define os nomes dos eixos x e Y\n",
        "ax.set_ylabel('Consumo (kWh)')\n",
        "ax.set_xlabel('Dia da Semana')\n",
        "\n",
        "# Define o titulo do grafico\n",
        "ax.set_title('Distribuição do consumo diário de Energia Elétrica', pad=15, color='black')\n",
        "\n",
        "plt.tight_layout()"
      ],
      "metadata": {
        "id": "GjmT-aOEI_iS",
        "outputId": "83662ff2-814f-4b08-9dcf-4589ba89ef08",
        "colab": {
          "base_uri": "https://localhost:8080/",
          "height": 369
        }
      },
      "execution_count": 57,
      "outputs": [
        {
          "output_type": "display_data",
          "data": {
            "text/plain": [
              "<Figure size 648x360 with 1 Axes>"
            ],
            "image/png": "[encoded data removed]"
          },
          "metadata": {
            "needs_background": "light"
          }
        }
      ]
    },
    {
      "cell_type": "markdown",
      "source": [
        "##Variáveis contínuas"
      ],
      "metadata": {
        "id": "Wn9alhASk0vm"
      }
    },
    {
      "cell_type": "markdown",
      "source": [
        "###Analise boxplot"
      ],
      "metadata": {
        "id": "SaYjj2F5vX-r"
      }
    },
    {
      "cell_type": "code",
      "source": [
        "#Plot do histograma de cada coluna\n",
        "n, m = 4, 4\n",
        "fig, axs = plt.subplots(n, m,figsize=(12,8))\n",
        "fig.tight_layout()\n",
        "count = 0\n",
        "for j in range(n):\n",
        "  for i in range(m):\n",
        "    axs[j, i].boxplot(x=df_cons_pred[features_cont[count]])\n",
        "    axs[j, i].set_title(features_cont[count])\n",
        "    plt.tight_layout()\n",
        "    count +=1"
      ],
      "metadata": {
        "id": "NeEoFH_xvgYf",
        "outputId": "4b68974b-26d4-4f49-a056-8dd28d99f29b",
        "colab": {
          "base_uri": "https://localhost:8080/"
        }
      },
      "execution_count": null,
      "outputs": [
        {
          "output_type": "display_data",
          "data": {
            "text/plain": [
              "<Figure size 864x576 with 16 Axes>"
            ],
            "image/png": "[encoded data removed]"
          },
          "metadata": {
            "needs_background": "light"
          }
        }
      ]
    },
    {
      "cell_type": "code",
      "source": [
        "for feature in features_cont:\n",
        "  filtro_upper = df_cons_pred[feature]> (df_cons_pred[feature].mean() + 3*df_cons_pred[feature].std())\n",
        "  filtro_lower = df_cons_pred[feature]< (df_cons_pred[feature].mean() - 3*df_cons_pred[feature].std())\n",
        "  index_drop = df_cons_pred.loc[filtro_upper | filtro_lower].index\n",
        "  df_cons_pred.drop(index= index_drop, inplace=True)"
      ],
      "metadata": {
        "id": "-CBQpbZ80JYR"
      },
      "execution_count": null,
      "outputs": []
    },
    {
      "cell_type": "code",
      "source": [
        "df_cons_pred.shape"
      ],
      "metadata": {
        "id": "qCkcMk8c1dx7",
        "outputId": "136d0461-c442-4e62-8147-94dcd764ca61",
        "colab": {
          "base_uri": "https://localhost:8080/"
        }
      },
      "execution_count": null,
      "outputs": [
        {
          "output_type": "execute_result",
          "data": {
            "text/plain": [
              "(1388, 20)"
            ]
          },
          "metadata": {},
          "execution_count": 32
        }
      ]
    },
    {
      "cell_type": "code",
      "source": [
        "#Plot do histograma de cada coluna\n",
        "n, m = 4, 4\n",
        "fig, axs = plt.subplots(n, m,figsize=(12,8))\n",
        "fig.tight_layout()\n",
        "count = 0\n",
        "for j in range(n):\n",
        "  for i in range(m):\n",
        "    axs[j, i].boxplot(x=df_cons_pred[features_cont[count]])\n",
        "    axs[j, i].set_title(features_cont[count])\n",
        "    plt.tight_layout()\n",
        "    count +=1"
      ],
      "metadata": {
        "id": "3n73CYyo5mHv",
        "outputId": "5e190efa-bf65-4348-b511-bff00d65c15f",
        "colab": {
          "base_uri": "https://localhost:8080/"
        }
      },
      "execution_count": null,
      "outputs": [
        {
          "output_type": "display_data",
          "data": {
            "text/plain": [
              "<Figure size 864x576 with 16 Axes>"
            ],
            "image/png": "[encoded data removed]"
          },
          "metadata": {
            "needs_background": "light"
          }
        }
      ]
    },
    {
      "cell_type": "code",
      "source": [
        "df_cons_pred.describe()"
      ],
      "metadata": {
        "id": "THfzPBwc0hj-",
        "outputId": "0fac2500-b43e-4980-abc9-db0bdbddbac3",
        "colab": {
          "base_uri": "https://localhost:8080/"
        }
      },
      "execution_count": null,
      "outputs": [
        {
          "output_type": "execute_result",
          "data": {
            "text/plain": [
              "               Day     Temp_max     Temp_avg     Temp_min      Dew_max  \\\n",
              "count  1388.000000  1388.000000  1388.000000  1388.000000  1388.000000   \n",
              "mean     15.645533    81.710375    72.124856    63.613833    67.257205   \n",
              "std       8.785089    11.919266    11.685209    12.846019    10.965147   \n",
              "min       1.000000    44.000000    39.000000    31.000000    32.000000   \n",
              "25%       8.000000    74.000000    63.975000    53.750000    62.000000   \n",
              "50%      16.000000    84.000000    74.300000    67.000000    70.000000   \n",
              "75%      23.000000    91.000000    81.900000    75.000000    76.000000   \n",
              "max      31.000000   101.000000    90.000000    83.000000    83.000000   \n",
              "\n",
              "           Dew_avg      Dew_min      Hum_max      Hum_avg      Hum_min  \\\n",
              "count  1388.000000  1388.000000  1388.000000  1388.000000  1388.000000   \n",
              "mean     62.836455    57.580692    93.425072    75.120965    51.692363   \n",
              "std      12.252014    13.986861     6.160390    10.759577    15.117651   \n",
              "min      24.700000    18.000000    71.000000    43.600000    15.000000   \n",
              "25%      55.075000    47.000000    90.000000    68.100000    42.000000   \n",
              "50%      66.400000    62.000000    94.000000    75.200000    51.000000   \n",
              "75%      73.225000    70.000000   100.000000    82.800000    61.000000   \n",
              "max      79.800000    78.000000   100.000000    99.900000    97.000000   \n",
              "\n",
              "          Wind_max     Wind_avg     Wind_min    Press_max    Press_avg  \\\n",
              "count  1388.000000  1388.000000  1388.000000  1388.000000  1388.000000   \n",
              "mean     15.541787     7.503026     1.198847    29.967435    29.898271   \n",
              "std       4.474278     2.704762     2.187518     0.150625     0.144487   \n",
              "min       6.000000     1.600000     0.000000    29.600000    29.500000   \n",
              "25%      13.000000     5.600000     0.000000    29.900000    29.800000   \n",
              "50%      15.000000     7.200000     0.000000    29.900000    29.900000   \n",
              "75%      18.000000     9.200000     3.000000    30.100000    30.000000   \n",
              "max      30.000000    16.400000     8.000000    30.400000    30.300000   \n",
              "\n",
              "         Press_min     Precipit  day_of_week  consumption  \n",
              "count  1388.000000  1388.000000  1388.000000  1388.000000  \n",
              "mean     29.827450     0.103919     2.998559    21.773926  \n",
              "std       0.145552     0.286933     1.996030    12.844332  \n",
              "min      29.400000     0.000000     0.000000     4.610000  \n",
              "25%      29.700000     0.000000     1.000000    10.790750  \n",
              "50%      29.800000     0.000000     3.000000    17.081000  \n",
              "75%      29.900000     0.020000     5.000000    31.480500  \n",
              "max      30.200000     1.920000     6.000000    78.225300  "
            ],
            "text/html": [
              "\n",
              "  <div id=\"df-73a910a3-37cc-4e97-89cf-e5ced82f16d3\">\n",
              "    <div class=\"colab-df-container\">\n",
              "      <div>\n",
              "<style scoped>\n",
              "    .dataframe tbody tr th:only-of-type {\n",
              "        vertical-align: middle;\n",
              "    }\n",
              "\n",
              "    .dataframe tbody tr th {\n",
              "        vertical-align: top;\n",
              "    }\n",
              "\n",
              "    .dataframe thead th {\n",
              "        text-align: right;\n",
              "    }\n",
              "</style>\n",
              "<table border=\"1\" class=\"dataframe\">\n",
              "  <thead>\n",
              "    <tr style=\"text-align: right;\">\n",
              "      <th></th>\n",
              "      <th>Day</th>\n",
              "      <th>Temp_max</th>\n",
              "      <th>Temp_avg</th>\n",
              "      <th>Temp_min</th>\n",
              "      <th>Dew_max</th>\n",
              "      <th>Dew_avg</th>\n",
              "      <th>Dew_min</th>\n",
              "      <th>Hum_max</th>\n",
              "      <th>Hum_avg</th>\n",
              "      <th>Hum_min</th>\n",
              "      <th>Wind_max</th>\n",
              "      <th>Wind_avg</th>\n",
              "      <th>Wind_min</th>\n",
              "      <th>Press_max</th>\n",
              "      <th>Press_avg</th>\n",
              "      <th>Press_min</th>\n",
              "      <th>Precipit</th>\n",
              "      <th>day_of_week</th>\n",
              "      <th>consumption</th>\n",
              "    </tr>\n",
              "  </thead>\n",
              "  <tbody>\n",
              "    <tr>\n",
              "      <th>count</th>\n",
              "      <td>1388.000000</td>\n",
              "      <td>1388.000000</td>\n",
              "      <td>1388.000000</td>\n",
              "      <td>1388.000000</td>\n",
              "      <td>1388.000000</td>\n",
              "      <td>1388.000000</td>\n",
              "      <td>1388.000000</td>\n",
              "      <td>1388.000000</td>\n",
              "      <td>1388.000000</td>\n",
              "      <td>1388.000000</td>\n",
              "      <td>1388.000000</td>\n",
              "      <td>1388.000000</td>\n",
              "      <td>1388.000000</td>\n",
              "      <td>1388.000000</td>\n",
              "      <td>1388.000000</td>\n",
              "      <td>1388.000000</td>\n",
              "      <td>1388.000000</td>\n",
              "      <td>1388.000000</td>\n",
              "      <td>1388.000000</td>\n",
              "    </tr>\n",
              "    <tr>\n",
              "      <th>mean</th>\n",
              "      <td>15.645533</td>\n",
              "      <td>81.710375</td>\n",
              "      <td>72.124856</td>\n",
              "      <td>63.613833</td>\n",
              "      <td>67.257205</td>\n",
              "      <td>62.836455</td>\n",
              "      <td>57.580692</td>\n",
              "      <td>93.425072</td>\n",
              "      <td>75.120965</td>\n",
              "      <td>51.692363</td>\n",
              "      <td>15.541787</td>\n",
              "      <td>7.503026</td>\n",
              "      <td>1.198847</td>\n",
              "      <td>29.967435</td>\n",
              "      <td>29.898271</td>\n",
              "      <td>29.827450</td>\n",
              "      <td>0.103919</td>\n",
              "      <td>2.998559</td>\n",
              "      <td>21.773926</td>\n",
              "    </tr>\n",
              "    <tr>\n",
              "      <th>std</th>\n",
              "      <td>8.785089</td>\n",
              "      <td>11.919266</td>\n",
              "      <td>11.685209</td>\n",
              "      <td>12.846019</td>\n",
              "      <td>10.965147</td>\n",
              "      <td>12.252014</td>\n",
              "      <td>13.986861</td>\n",
              "      <td>6.160390</td>\n",
              "      <td>10.759577</td>\n",
              "      <td>15.117651</td>\n",
              "      <td>4.474278</td>\n",
              "      <td>2.704762</td>\n",
              "      <td>2.187518</td>\n",
              "      <td>0.150625</td>\n",
              "      <td>0.144487</td>\n",
              "      <td>0.145552</td>\n",
              "      <td>0.286933</td>\n",
              "      <td>1.996030</td>\n",
              "      <td>12.844332</td>\n",
              "    </tr>\n",
              "    <tr>\n",
              "      <th>min</th>\n",
              "      <td>1.000000</td>\n",
              "      <td>44.000000</td>\n",
              "      <td>39.000000</td>\n",
              "      <td>31.000000</td>\n",
              "      <td>32.000000</td>\n",
              "      <td>24.700000</td>\n",
              "      <td>18.000000</td>\n",
              "      <td>71.000000</td>\n",
              "      <td>43.600000</td>\n",
              "      <td>15.000000</td>\n",
              "      <td>6.000000</td>\n",
              "      <td>1.600000</td>\n",
              "      <td>0.000000</td>\n",
              "      <td>29.600000</td>\n",
              "      <td>29.500000</td>\n",
              "      <td>29.400000</td>\n",
              "      <td>0.000000</td>\n",
              "      <td>0.000000</td>\n",
              "      <td>4.610000</td>\n",
              "    </tr>\n",
              "    <tr>\n",
              "      <th>25%</th>\n",
              "      <td>8.000000</td>\n",
              "      <td>74.000000</td>\n",
              "      <td>63.975000</td>\n",
              "      <td>53.750000</td>\n",
              "      <td>62.000000</td>\n",
              "      <td>55.075000</td>\n",
              "      <td>47.000000</td>\n",
              "      <td>90.000000</td>\n",
              "      <td>68.100000</td>\n",
              "      <td>42.000000</td>\n",
              "      <td>13.000000</td>\n",
              "      <td>5.600000</td>\n",
              "      <td>0.000000</td>\n",
              "      <td>29.900000</td>\n",
              "      <td>29.800000</td>\n",
              "      <td>29.700000</td>\n",
              "      <td>0.000000</td>\n",
              "      <td>1.000000</td>\n",
              "      <td>10.790750</td>\n",
              "    </tr>\n",
              "    <tr>\n",
              "      <th>50%</th>\n",
              "      <td>16.000000</td>\n",
              "      <td>84.000000</td>\n",
              "      <td>74.300000</td>\n",
              "      <td>67.000000</td>\n",
              "      <td>70.000000</td>\n",
              "      <td>66.400000</td>\n",
              "      <td>62.000000</td>\n",
              "      <td>94.000000</td>\n",
              "      <td>75.200000</td>\n",
              "      <td>51.000000</td>\n",
              "      <td>15.000000</td>\n",
              "      <td>7.200000</td>\n",
              "      <td>0.000000</td>\n",
              "      <td>29.900000</td>\n",
              "      <td>29.900000</td>\n",
              "      <td>29.800000</td>\n",
              "      <td>0.000000</td>\n",
              "      <td>3.000000</td>\n",
              "      <td>17.081000</td>\n",
              "    </tr>\n",
              "    <tr>\n",
              "      <th>75%</th>\n",
              "      <td>23.000000</td>\n",
              "      <td>91.000000</td>\n",
              "      <td>81.900000</td>\n",
              "      <td>75.000000</td>\n",
              "      <td>76.000000</td>\n",
              "      <td>73.225000</td>\n",
              "      <td>70.000000</td>\n",
              "      <td>100.000000</td>\n",
              "      <td>82.800000</td>\n",
              "      <td>61.000000</td>\n",
              "      <td>18.000000</td>\n",
              "      <td>9.200000</td>\n",
              "      <td>3.000000</td>\n",
              "      <td>30.100000</td>\n",
              "      <td>30.000000</td>\n",
              "      <td>29.900000</td>\n",
              "      <td>0.020000</td>\n",
              "      <td>5.000000</td>\n",
              "      <td>31.480500</td>\n",
              "    </tr>\n",
              "    <tr>\n",
              "      <th>max</th>\n",
              "      <td>31.000000</td>\n",
              "      <td>101.000000</td>\n",
              "      <td>90.000000</td>\n",
              "      <td>83.000000</td>\n",
              "      <td>83.000000</td>\n",
              "      <td>79.800000</td>\n",
              "      <td>78.000000</td>\n",
              "      <td>100.000000</td>\n",
              "      <td>99.900000</td>\n",
              "      <td>97.000000</td>\n",
              "      <td>30.000000</td>\n",
              "      <td>16.400000</td>\n",
              "      <td>8.000000</td>\n",
              "      <td>30.400000</td>\n",
              "      <td>30.300000</td>\n",
              "      <td>30.200000</td>\n",
              "      <td>1.920000</td>\n",
              "      <td>6.000000</td>\n",
              "      <td>78.225300</td>\n",
              "    </tr>\n",
              "  </tbody>\n",
              "</table>\n",
              "</div>\n",
              "      <button class=\"colab-df-convert\" onclick=\"convertToInteractive('df-73a910a3-37cc-4e97-89cf-e5ced82f16d3')\"\n",
              "              title=\"Convert this dataframe to an interactive table.\"\n",
              "              style=\"display:none;\">\n",
              "        \n",
              "  <svg xmlns=\"http://www.w3.org/2000/svg\" height=\"24px\"viewBox=\"0 0 24 24\"\n",
              "       width=\"24px\">\n",
              "    <path d=\"M0 0h24v24H0V0z\" fill=\"none\"/>\n",
              "    <path d=\"M18.56 5.44l.94 2.06.94-2.06 2.06-.94-2.06-.94-.94-2.06-.94 2.06-2.06.94zm-11 1L8.5 8.5l.94-2.06 2.06-.94-2.06-.94L8.5 2.5l-.94 2.06-2.06.94zm10 10l.94 2.06.94-2.06 2.06-.94-2.06-.94-.94-2.06-.94 2.06-2.06.94z\"/><path d=\"M17.41 7.96l-1.37-1.37c-.4-.4-.92-.59-1.43-.59-.52 0-1.04.2-1.43.59L10.3 9.45l-7.72 7.72c-.78.78-.78 2.05 0 2.83L4 21.41c.39.39.9.59 1.41.59.51 0 1.02-.2 1.41-.59l7.78-7.78 2.81-2.81c.8-.78.8-2.07 0-2.86zM5.41 20L4 18.59l7.72-7.72 1.47 1.35L5.41 20z\"/>\n",
              "  </svg>\n",
              "      </button>\n",
              "      \n",
              "  <style>\n",
              "    .colab-df-container {\n",
              "      display:flex;\n",
              "      flex-wrap:wrap;\n",
              "      gap: 12px;\n",
              "    }\n",
              "\n",
              "    .colab-df-convert {\n",
              "      background-color: #E8F0FE;\n",
              "      border: none;\n",
              "      border-radius: 50%;\n",
              "      cursor: pointer;\n",
              "      display: none;\n",
              "      fill: #1967D2;\n",
              "      height: 32px;\n",
              "      padding: 0 0 0 0;\n",
              "      width: 32px;\n",
              "    }\n",
              "\n",
              "    .colab-df-convert:hover {\n",
              "      background-color: #E2EBFA;\n",
              "      box-shadow: 0px 1px 2px rgba(60, 64, 67, 0.3), 0px 1px 3px 1px rgba(60, 64, 67, 0.15);\n",
              "      fill: #174EA6;\n",
              "    }\n",
              "\n",
              "    [theme=dark] .colab-df-convert {\n",
              "      background-color: #3B4455;\n",
              "      fill: #D2E3FC;\n",
              "    }\n",
              "\n",
              "    [theme=dark] .colab-df-convert:hover {\n",
              "      background-color: #434B5C;\n",
              "      box-shadow: 0px 1px 3px 1px rgba(0, 0, 0, 0.15);\n",
              "      filter: drop-shadow(0px 1px 2px rgba(0, 0, 0, 0.3));\n",
              "      fill: #FFFFFF;\n",
              "    }\n",
              "  </style>\n",
              "\n",
              "      <script>\n",
              "        const buttonEl =\n",
              "          document.querySelector('#df-73a910a3-37cc-4e97-89cf-e5ced82f16d3 button.colab-df-convert');\n",
              "        buttonEl.style.display =\n",
              "          google.colab.kernel.accessAllowed ? 'block' : 'none';\n",
              "\n",
              "        async function convertToInteractive(key) {\n",
              "          const element = document.querySelector('#df-73a910a3-37cc-4e97-89cf-e5ced82f16d3');\n",
              "          const dataTable =\n",
              "            await google.colab.kernel.invokeFunction('convertToInteractive',\n",
              "                                                     [key], {});\n",
              "          if (!dataTable) return;\n",
              "\n",
              "          const docLinkHtml = 'Like what you see? Visit the ' +\n",
              "            '<a target=\"_blank\" href=https://colab.research.google.com/notebooks/data_table.ipynb>data table notebook</a>'\n",
              "            + ' to learn more about interactive tables.';\n",
              "          element.innerHTML = '';\n",
              "          dataTable['output_type'] = 'display_data';\n",
              "          await google.colab.output.renderOutput(dataTable, element);\n",
              "          const docLink = document.createElement('div');\n",
              "          docLink.innerHTML = docLinkHtml;\n",
              "          element.appendChild(docLink);\n",
              "        }\n",
              "      </script>\n",
              "    </div>\n",
              "  </div>\n",
              "  "
            ]
          },
          "metadata": {},
          "execution_count": 34
        }
      ]
    },
    {
      "cell_type": "markdown",
      "source": [
        "###Analise correlação"
      ],
      "metadata": {
        "id": "RtUZWlHTaP7m"
      }
    },
    {
      "cell_type": "code",
      "source": [
        "#correlacao linear\n",
        "#get correlations of each features in dataset\n",
        "corrmat = df_cons_pred[features_cont + ['consumption']].corr()\n",
        "top_corr_features = corrmat.index\n",
        "plt.figure(figsize=(20,20))\n",
        "#plot heat map\n",
        "g=sns.heatmap(df_cons_pred[top_corr_features].corr(),annot=True,cmap=\"RdYlGn\")"
      ],
      "metadata": {
        "id": "zryJ34FeonLS",
        "outputId": "6e7223b3-f4c5-49af-965a-fc1449dba6ee",
        "colab": {
          "base_uri": "https://localhost:8080/"
        }
      },
      "execution_count": null,
      "outputs": [
        {
          "output_type": "display_data",
          "data": {
            "text/plain": [
              "<Figure size 1440x1440 with 2 Axes>"
            ],
            "image/png": "[encoded data removed]"
          },
          "metadata": {
            "needs_background": "light"
          }
        }
      ]
    },
    {
      "cell_type": "markdown",
      "source": [
        "###Analise de escala"
      ],
      "metadata": {
        "id": "XzBHCaFFVJcv"
      }
    },
    {
      "cell_type": "code",
      "source": [
        "#Plot do histograma de cada coluna\n",
        "n, m = 4, 4\n",
        "fig, axs = plt.subplots(n, m,figsize=(12,8))\n",
        "fig.tight_layout()\n",
        "count = 0\n",
        "for j in range(n):\n",
        "  for i in range(m):\n",
        "    axs[j, i].hist(x=df_cons_pred[features_cont[count]])\n",
        "    axs[j, i].set_title(features_cont[count])\n",
        "    plt.tight_layout()\n",
        "    count +=1"
      ],
      "metadata": {
        "id": "1WW4LOqktRWI",
        "outputId": "5c7a21a5-cf93-4fa1-d2a6-7a652d97b94f",
        "colab": {
          "base_uri": "https://localhost:8080/"
        }
      },
      "execution_count": null,
      "outputs": [
        {
          "output_type": "display_data",
          "data": {
            "text/plain": [
              "<Figure size 864x576 with 16 Axes>"
            ],
            "image/png": "[encoded data removed]"
          },
          "metadata": {
            "needs_background": "light"
          }
        }
      ]
    },
    {
      "cell_type": "markdown",
      "source": [
        "####Mudança de Escala"
      ],
      "metadata": {
        "id": "R5a15-Ze6cu9"
      }
    },
    {
      "cell_type": "code",
      "source": [
        "scaler = StandardScaler()"
      ],
      "metadata": {
        "id": "9pxSAb7ihUSN"
      },
      "execution_count": null,
      "outputs": []
    },
    {
      "cell_type": "code",
      "source": [
        "for feature in features_cont:\n",
        "  temp = StandardScaler().fit_transform(df_cons_pred[feature].values.reshape(-1, 1))\n",
        "  df_cons_pred[feature] = temp"
      ],
      "metadata": {
        "id": "ro5WfmfYjemm"
      },
      "execution_count": null,
      "outputs": []
    },
    {
      "cell_type": "markdown",
      "source": [
        "####Escala logarítmica"
      ],
      "metadata": {
        "id": "PQyYjejW6jzN"
      }
    },
    {
      "cell_type": "code",
      "source": [
        "feature_log = ['Wind_min', 'Precipit']"
      ],
      "metadata": {
        "id": "32IvAvAa6yQ9"
      },
      "execution_count": null,
      "outputs": []
    },
    {
      "cell_type": "code",
      "source": [
        "for feature in feature_log:\n",
        "  df_cons_pred[feature + '_log'] = np.log10(df_cons_pred[feature] + 1)"
      ],
      "metadata": {
        "id": "E4k9yWK9bXqm"
      },
      "execution_count": null,
      "outputs": []
    },
    {
      "cell_type": "code",
      "source": [
        "for feature in feature_log:\n",
        "  fig, ax = plt.subplots()\n",
        "  fig.tight_layout()\n",
        "  ax.hist(x=df_cons_pred[feature + '_log'])\n",
        "  ax.set_title(feature + '_log')"
      ],
      "metadata": {
        "id": "6AON2SPs8Tac",
        "outputId": "2b8f1cec-d863-46d7-8715-e954b658a127",
        "colab": {
          "base_uri": "https://localhost:8080/"
        }
      },
      "execution_count": null,
      "outputs": [
        {
          "output_type": "display_data",
          "data": {
            "text/plain": [
              "<Figure size 432x288 with 1 Axes>"
            ],
            "image/png": "[encoded data removed]"
          },
          "metadata": {
            "needs_background": "light"
          }
        },
        {
          "output_type": "display_data",
          "data": {
            "text/plain": [
              "<Figure size 432x288 with 1 Axes>"
            ],
            "image/png": "[encoded data removed]"
          },
          "metadata": {
            "needs_background": "light"
          }
        }
      ]
    },
    {
      "cell_type": "code",
      "source": [
        "df_cons_pred.describe()"
      ],
      "metadata": {
        "id": "Q2nNtcs4kSi_",
        "outputId": "01ba892e-e6dd-41ff-cb04-0f9f8dfb6116",
        "colab": {
          "base_uri": "https://localhost:8080/"
        }
      },
      "execution_count": null,
      "outputs": [
        {
          "output_type": "execute_result",
          "data": {
            "text/plain": [
              "               Day      Temp_max      Temp_avg      Temp_min       Dew_max  \\\n",
              "count  1388.000000  1.388000e+03  1.388000e+03  1.388000e+03  1.388000e+03   \n",
              "mean     15.645533 -3.560232e-16 -4.586469e-16  1.372901e-15  6.408578e-16   \n",
              "std       8.785089  1.000360e+00  1.000360e+00  1.000360e+00  1.000360e+00   \n",
              "min       1.000000 -3.164957e+00 -2.835790e+00 -2.539743e+00 -3.216547e+00   \n",
              "25%       8.000000 -6.471165e-01 -6.977019e-01 -7.681281e-01 -4.796196e-01   \n",
              "50%      16.000000  1.921637e-01  1.862122e-01  2.636916e-01  2.502277e-01   \n",
              "75%      23.000000  7.796599e-01  8.368414e-01  8.866771e-01  7.976133e-01   \n",
              "max      31.000000  1.618940e+00  1.530275e+00  1.509663e+00  1.436230e+00   \n",
              "\n",
              "            Dew_avg       Dew_min       Hum_max       Hum_avg       Hum_min  \\\n",
              "count  1.388000e+03  1.388000e+03  1.388000e+03  1.388000e+03  1.388000e+03   \n",
              "mean   1.024637e-16 -6.495465e-17  1.673653e-15  1.024477e-15  2.431612e-17   \n",
              "std    1.000360e+00  1.000360e+00  1.000360e+00  1.000360e+00  1.000360e+00   \n",
              "min   -3.113790e+00 -2.830868e+00 -3.641515e+00 -2.930629e+00 -2.427996e+00   \n",
              "25%   -6.337124e-01 -7.567463e-01 -5.561834e-01 -6.527669e-01 -6.413600e-01   \n",
              "50%    2.909586e-01  3.160753e-01  9.336019e-02  7.348158e-03 -4.581483e-02   \n",
              "75%    8.482107e-01  8.882468e-01  1.067676e+00  7.139502e-01  6.159020e-01   \n",
              "max    1.385051e+00  1.460418e+00  1.067676e+00  2.303805e+00  2.998083e+00   \n",
              "\n",
              "       ...      Wind_avg      Wind_min     Press_max     Press_avg  \\\n",
              "count  ...  1.388000e+03  1.388000e+03  1.388000e+03  1.388000e+03   \n",
              "mean   ...  2.786728e-17  7.918738e-17  1.934124e-14 -8.241886e-15   \n",
              "std    ...  1.000360e+00  1.000360e+00  1.000360e+00  1.000360e+00   \n",
              "min    ... -2.183243e+00 -5.482376e-01 -2.440284e+00 -2.757434e+00   \n",
              "25%    ... -7.038371e-01 -5.482376e-01 -4.478639e-01 -6.803799e-01   \n",
              "50%    ... -1.120746e-01 -5.482376e-01 -4.478639e-01  1.197149e-02   \n",
              "75%    ...  6.276285e-01  8.236743e-01  8.804162e-01  7.043229e-01   \n",
              "max    ...  3.290560e+00  3.110194e+00  2.872836e+00  2.781377e+00   \n",
              "\n",
              "          Press_min      Precipit  day_of_week  consumption  Wind_min_log  \\\n",
              "count  1.388000e+03  1.388000e+03  1388.000000  1388.000000   1388.000000   \n",
              "mean   7.701172e-15  1.031836e-17     2.998559    21.773926     -0.154052   \n",
              "std    1.000360e+00  1.000360e+00     1.996030    12.844332      0.329019   \n",
              "min   -2.937804e+00 -3.623039e-01     0.000000     4.610000     -0.345090   \n",
              "25%   -8.759441e-01 -3.623039e-01     1.000000    10.790750     -0.345090   \n",
              "50%   -1.886573e-01 -3.623039e-01     3.000000    17.081000     -0.345090   \n",
              "75%    4.986296e-01 -2.925760e-01     5.000000    31.480500      0.260947   \n",
              "max    2.560490e+00  6.331577e+00     6.000000    78.225300      0.613862   \n",
              "\n",
              "       Precipit_log  \n",
              "count   1388.000000  \n",
              "mean      -0.091705  \n",
              "std        0.228858  \n",
              "min       -0.195386  \n",
              "25%       -0.195386  \n",
              "50%       -0.195386  \n",
              "75%       -0.150320  \n",
              "max        0.865197  \n",
              "\n",
              "[8 rows x 21 columns]"
            ],
            "text/html": [
              "\n",
              "  <div id=\"df-87e2544d-0800-4e8d-9e6e-c661c7650eea\">\n",
              "    <div class=\"colab-df-container\">\n",
              "      <div>\n",
              "<style scoped>\n",
              "    .dataframe tbody tr th:only-of-type {\n",
              "        vertical-align: middle;\n",
              "    }\n",
              "\n",
              "    .dataframe tbody tr th {\n",
              "        vertical-align: top;\n",
              "    }\n",
              "\n",
              "    .dataframe thead th {\n",
              "        text-align: right;\n",
              "    }\n",
              "</style>\n",
              "<table border=\"1\" class=\"dataframe\">\n",
              "  <thead>\n",
              "    <tr style=\"text-align: right;\">\n",
              "      <th></th>\n",
              "      <th>Day</th>\n",
              "      <th>Temp_max</th>\n",
              "      <th>Temp_avg</th>\n",
              "      <th>Temp_min</th>\n",
              "      <th>Dew_max</th>\n",
              "      <th>Dew_avg</th>\n",
              "      <th>Dew_min</th>\n",
              "      <th>Hum_max</th>\n",
              "      <th>Hum_avg</th>\n",
              "      <th>Hum_min</th>\n",
              "      <th>...</th>\n",
              "      <th>Wind_avg</th>\n",
              "      <th>Wind_min</th>\n",
              "      <th>Press_max</th>\n",
              "      <th>Press_avg</th>\n",
              "      <th>Press_min</th>\n",
              "      <th>Precipit</th>\n",
              "      <th>day_of_week</th>\n",
              "      <th>consumption</th>\n",
              "      <th>Wind_min_log</th>\n",
              "      <th>Precipit_log</th>\n",
              "    </tr>\n",
              "  </thead>\n",
              "  <tbody>\n",
              "    <tr>\n",
              "      <th>count</th>\n",
              "      <td>1388.000000</td>\n",
              "      <td>1.388000e+03</td>\n",
              "      <td>1.388000e+03</td>\n",
              "      <td>1.388000e+03</td>\n",
              "      <td>1.388000e+03</td>\n",
              "      <td>1.388000e+03</td>\n",
              "      <td>1.388000e+03</td>\n",
              "      <td>1.388000e+03</td>\n",
              "      <td>1.388000e+03</td>\n",
              "      <td>1.388000e+03</td>\n",
              "      <td>...</td>\n",
              "      <td>1.388000e+03</td>\n",
              "      <td>1.388000e+03</td>\n",
              "      <td>1.388000e+03</td>\n",
              "      <td>1.388000e+03</td>\n",
              "      <td>1.388000e+03</td>\n",
              "      <td>1.388000e+03</td>\n",
              "      <td>1388.000000</td>\n",
              "      <td>1388.000000</td>\n",
              "      <td>1388.000000</td>\n",
              "      <td>1388.000000</td>\n",
              "    </tr>\n",
              "    <tr>\n",
              "      <th>mean</th>\n",
              "      <td>15.645533</td>\n",
              "      <td>-3.560232e-16</td>\n",
              "      <td>-4.586469e-16</td>\n",
              "      <td>1.372901e-15</td>\n",
              "      <td>6.408578e-16</td>\n",
              "      <td>1.024637e-16</td>\n",
              "      <td>-6.495465e-17</td>\n",
              "      <td>1.673653e-15</td>\n",
              "      <td>1.024477e-15</td>\n",
              "      <td>2.431612e-17</td>\n",
              "      <td>...</td>\n",
              "      <td>2.786728e-17</td>\n",
              "      <td>7.918738e-17</td>\n",
              "      <td>1.934124e-14</td>\n",
              "      <td>-8.241886e-15</td>\n",
              "      <td>7.701172e-15</td>\n",
              "      <td>1.031836e-17</td>\n",
              "      <td>2.998559</td>\n",
              "      <td>21.773926</td>\n",
              "      <td>-0.154052</td>\n",
              "      <td>-0.091705</td>\n",
              "    </tr>\n",
              "    <tr>\n",
              "      <th>std</th>\n",
              "      <td>8.785089</td>\n",
              "      <td>1.000360e+00</td>\n",
              "      <td>1.000360e+00</td>\n",
              "      <td>1.000360e+00</td>\n",
              "      <td>1.000360e+00</td>\n",
              "      <td>1.000360e+00</td>\n",
              "      <td>1.000360e+00</td>\n",
              "      <td>1.000360e+00</td>\n",
              "      <td>1.000360e+00</td>\n",
              "      <td>1.000360e+00</td>\n",
              "      <td>...</td>\n",
              "      <td>1.000360e+00</td>\n",
              "      <td>1.000360e+00</td>\n",
              "      <td>1.000360e+00</td>\n",
              "      <td>1.000360e+00</td>\n",
              "      <td>1.000360e+00</td>\n",
              "      <td>1.000360e+00</td>\n",
              "      <td>1.996030</td>\n",
              "      <td>12.844332</td>\n",
              "      <td>0.329019</td>\n",
              "      <td>0.228858</td>\n",
              "    </tr>\n",
              "    <tr>\n",
              "      <th>min</th>\n",
              "      <td>1.000000</td>\n",
              "      <td>-3.164957e+00</td>\n",
              "      <td>-2.835790e+00</td>\n",
              "      <td>-2.539743e+00</td>\n",
              "      <td>-3.216547e+00</td>\n",
              "      <td>-3.113790e+00</td>\n",
              "      <td>-2.830868e+00</td>\n",
              "      <td>-3.641515e+00</td>\n",
              "      <td>-2.930629e+00</td>\n",
              "      <td>-2.427996e+00</td>\n",
              "      <td>...</td>\n",
              "      <td>-2.183243e+00</td>\n",
              "      <td>-5.482376e-01</td>\n",
              "      <td>-2.440284e+00</td>\n",
              "      <td>-2.757434e+00</td>\n",
              "      <td>-2.937804e+00</td>\n",
              "      <td>-3.623039e-01</td>\n",
              "      <td>0.000000</td>\n",
              "      <td>4.610000</td>\n",
              "      <td>-0.345090</td>\n",
              "      <td>-0.195386</td>\n",
              "    </tr>\n",
              "    <tr>\n",
              "      <th>25%</th>\n",
              "      <td>8.000000</td>\n",
              "      <td>-6.471165e-01</td>\n",
              "      <td>-6.977019e-01</td>\n",
              "      <td>-7.681281e-01</td>\n",
              "      <td>-4.796196e-01</td>\n",
              "      <td>-6.337124e-01</td>\n",
              "      <td>-7.567463e-01</td>\n",
              "      <td>-5.561834e-01</td>\n",
              "      <td>-6.527669e-01</td>\n",
              "      <td>-6.413600e-01</td>\n",
              "      <td>...</td>\n",
              "      <td>-7.038371e-01</td>\n",
              "      <td>-5.482376e-01</td>\n",
              "      <td>-4.478639e-01</td>\n",
              "      <td>-6.803799e-01</td>\n",
              "      <td>-8.759441e-01</td>\n",
              "      <td>-3.623039e-01</td>\n",
              "      <td>1.000000</td>\n",
              "      <td>10.790750</td>\n",
              "      <td>-0.345090</td>\n",
              "      <td>-0.195386</td>\n",
              "    </tr>\n",
              "    <tr>\n",
              "      <th>50%</th>\n",
              "      <td>16.000000</td>\n",
              "      <td>1.921637e-01</td>\n",
              "      <td>1.862122e-01</td>\n",
              "      <td>2.636916e-01</td>\n",
              "      <td>2.502277e-01</td>\n",
              "      <td>2.909586e-01</td>\n",
              "      <td>3.160753e-01</td>\n",
              "      <td>9.336019e-02</td>\n",
              "      <td>7.348158e-03</td>\n",
              "      <td>-4.581483e-02</td>\n",
              "      <td>...</td>\n",
              "      <td>-1.120746e-01</td>\n",
              "      <td>-5.482376e-01</td>\n",
              "      <td>-4.478639e-01</td>\n",
              "      <td>1.197149e-02</td>\n",
              "      <td>-1.886573e-01</td>\n",
              "      <td>-3.623039e-01</td>\n",
              "      <td>3.000000</td>\n",
              "      <td>17.081000</td>\n",
              "      <td>-0.345090</td>\n",
              "      <td>-0.195386</td>\n",
              "    </tr>\n",
              "    <tr>\n",
              "      <th>75%</th>\n",
              "      <td>23.000000</td>\n",
              "      <td>7.796599e-01</td>\n",
              "      <td>8.368414e-01</td>\n",
              "      <td>8.866771e-01</td>\n",
              "      <td>7.976133e-01</td>\n",
              "      <td>8.482107e-01</td>\n",
              "      <td>8.882468e-01</td>\n",
              "      <td>1.067676e+00</td>\n",
              "      <td>7.139502e-01</td>\n",
              "      <td>6.159020e-01</td>\n",
              "      <td>...</td>\n",
              "      <td>6.276285e-01</td>\n",
              "      <td>8.236743e-01</td>\n",
              "      <td>8.804162e-01</td>\n",
              "      <td>7.043229e-01</td>\n",
              "      <td>4.986296e-01</td>\n",
              "      <td>-2.925760e-01</td>\n",
              "      <td>5.000000</td>\n",
              "      <td>31.480500</td>\n",
              "      <td>0.260947</td>\n",
              "      <td>-0.150320</td>\n",
              "    </tr>\n",
              "    <tr>\n",
              "      <th>max</th>\n",
              "      <td>31.000000</td>\n",
              "      <td>1.618940e+00</td>\n",
              "      <td>1.530275e+00</td>\n",
              "      <td>1.509663e+00</td>\n",
              "      <td>1.436230e+00</td>\n",
              "      <td>1.385051e+00</td>\n",
              "      <td>1.460418e+00</td>\n",
              "      <td>1.067676e+00</td>\n",
              "      <td>2.303805e+00</td>\n",
              "      <td>2.998083e+00</td>\n",
              "      <td>...</td>\n",
              "      <td>3.290560e+00</td>\n",
              "      <td>3.110194e+00</td>\n",
              "      <td>2.872836e+00</td>\n",
              "      <td>2.781377e+00</td>\n",
              "      <td>2.560490e+00</td>\n",
              "      <td>6.331577e+00</td>\n",
              "      <td>6.000000</td>\n",
              "      <td>78.225300</td>\n",
              "      <td>0.613862</td>\n",
              "      <td>0.865197</td>\n",
              "    </tr>\n",
              "  </tbody>\n",
              "</table>\n",
              "<p>8 rows × 21 columns</p>\n",
              "</div>\n",
              "      <button class=\"colab-df-convert\" onclick=\"convertToInteractive('df-87e2544d-0800-4e8d-9e6e-c661c7650eea')\"\n",
              "              title=\"Convert this dataframe to an interactive table.\"\n",
              "              style=\"display:none;\">\n",
              "        \n",
              "  <svg xmlns=\"http://www.w3.org/2000/svg\" height=\"24px\"viewBox=\"0 0 24 24\"\n",
              "       width=\"24px\">\n",
              "    <path d=\"M0 0h24v24H0V0z\" fill=\"none\"/>\n",
              "    <path d=\"M18.56 5.44l.94 2.06.94-2.06 2.06-.94-2.06-.94-.94-2.06-.94 2.06-2.06.94zm-11 1L8.5 8.5l.94-2.06 2.06-.94-2.06-.94L8.5 2.5l-.94 2.06-2.06.94zm10 10l.94 2.06.94-2.06 2.06-.94-2.06-.94-.94-2.06-.94 2.06-2.06.94z\"/><path d=\"M17.41 7.96l-1.37-1.37c-.4-.4-.92-.59-1.43-.59-.52 0-1.04.2-1.43.59L10.3 9.45l-7.72 7.72c-.78.78-.78 2.05 0 2.83L4 21.41c.39.39.9.59 1.41.59.51 0 1.02-.2 1.41-.59l7.78-7.78 2.81-2.81c.8-.78.8-2.07 0-2.86zM5.41 20L4 18.59l7.72-7.72 1.47 1.35L5.41 20z\"/>\n",
              "  </svg>\n",
              "      </button>\n",
              "      \n",
              "  <style>\n",
              "    .colab-df-container {\n",
              "      display:flex;\n",
              "      flex-wrap:wrap;\n",
              "      gap: 12px;\n",
              "    }\n",
              "\n",
              "    .colab-df-convert {\n",
              "      background-color: #E8F0FE;\n",
              "      border: none;\n",
              "      border-radius: 50%;\n",
              "      cursor: pointer;\n",
              "      display: none;\n",
              "      fill: #1967D2;\n",
              "      height: 32px;\n",
              "      padding: 0 0 0 0;\n",
              "      width: 32px;\n",
              "    }\n",
              "\n",
              "    .colab-df-convert:hover {\n",
              "      background-color: #E2EBFA;\n",
              "      box-shadow: 0px 1px 2px rgba(60, 64, 67, 0.3), 0px 1px 3px 1px rgba(60, 64, 67, 0.15);\n",
              "      fill: #174EA6;\n",
              "    }\n",
              "\n",
              "    [theme=dark] .colab-df-convert {\n",
              "      background-color: #3B4455;\n",
              "      fill: #D2E3FC;\n",
              "    }\n",
              "\n",
              "    [theme=dark] .colab-df-convert:hover {\n",
              "      background-color: #434B5C;\n",
              "      box-shadow: 0px 1px 3px 1px rgba(0, 0, 0, 0.15);\n",
              "      filter: drop-shadow(0px 1px 2px rgba(0, 0, 0, 0.3));\n",
              "      fill: #FFFFFF;\n",
              "    }\n",
              "  </style>\n",
              "\n",
              "      <script>\n",
              "        const buttonEl =\n",
              "          document.querySelector('#df-87e2544d-0800-4e8d-9e6e-c661c7650eea button.colab-df-convert');\n",
              "        buttonEl.style.display =\n",
              "          google.colab.kernel.accessAllowed ? 'block' : 'none';\n",
              "\n",
              "        async function convertToInteractive(key) {\n",
              "          const element = document.querySelector('#df-87e2544d-0800-4e8d-9e6e-c661c7650eea');\n",
              "          const dataTable =\n",
              "            await google.colab.kernel.invokeFunction('convertToInteractive',\n",
              "                                                     [key], {});\n",
              "          if (!dataTable) return;\n",
              "\n",
              "          const docLinkHtml = 'Like what you see? Visit the ' +\n",
              "            '<a target=\"_blank\" href=https://colab.research.google.com/notebooks/data_table.ipynb>data table notebook</a>'\n",
              "            + ' to learn more about interactive tables.';\n",
              "          element.innerHTML = '';\n",
              "          dataTable['output_type'] = 'display_data';\n",
              "          await google.colab.output.renderOutput(dataTable, element);\n",
              "          const docLink = document.createElement('div');\n",
              "          docLink.innerHTML = docLinkHtml;\n",
              "          element.appendChild(docLink);\n",
              "        }\n",
              "      </script>\n",
              "    </div>\n",
              "  </div>\n",
              "  "
            ]
          },
          "metadata": {},
          "execution_count": 42
        }
      ]
    },
    {
      "cell_type": "markdown",
      "source": [
        "###Teste Anova"
      ],
      "metadata": {
        "id": "ObWicw47oRK-"
      }
    },
    {
      "cell_type": "code",
      "source": [
        "# Avaliação das features aplicando o teste Anova\n",
        "test = SelectKBest(score_func=f_regression)\n",
        "fit = test.fit(df_cons_pred[features_cont], df_cons_pred['consumption'])\n",
        "\n",
        "#print das features e seus respectivos p-value\n",
        "columns_cont_select = []\n",
        "for value in zip(df_cons_pred[features_cont], fit.pvalues_):\n",
        "  if value[1]<0.05:\n",
        "    columns_cont_select.append(value[0])\n",
        "    print(value)"
      ],
      "metadata": {
        "id": "X4fK3xt5c2mv",
        "outputId": "e932cabe-19c6-4ee2-a00f-bd6c182b50ec",
        "colab": {
          "base_uri": "https://localhost:8080/"
        }
      },
      "execution_count": null,
      "outputs": [
        {
          "output_type": "stream",
          "name": "stdout",
          "text": [
            "('Temp_max', 1.2027131467913788e-235)\n",
            "('Temp_avg', 7.619430073064956e-248)\n",
            "('Temp_min', 9.616856075105704e-228)\n",
            "('Dew_max', 1.6771744319184144e-158)\n",
            "('Dew_avg', 3.376469221816593e-176)\n",
            "('Dew_min', 4.8555900425885845e-178)\n",
            "('Hum_avg', 0.00043845590805977904)\n",
            "('Hum_min', 4.343432205700932e-06)\n",
            "('Wind_avg', 1.2068195181125488e-15)\n",
            "('Wind_min', 7.447844889158468e-07)\n",
            "('Press_max', 5.567877637037409e-51)\n",
            "('Press_avg', 1.6564690947380916e-27)\n",
            "('Press_min', 2.743220666651347e-16)\n",
            "('Precipit', 0.03465499332220789)\n"
          ]
        }
      ]
    },
    {
      "cell_type": "code",
      "source": [
        "columns_cont_select"
      ],
      "metadata": {
        "id": "B3LfJQw2f5EM",
        "outputId": "b8f04dd2-307e-4c83-8d77-d959f94ff721",
        "colab": {
          "base_uri": "https://localhost:8080/"
        }
      },
      "execution_count": null,
      "outputs": [
        {
          "output_type": "execute_result",
          "data": {
            "text/plain": [
              "['Temp_max',\n",
              " 'Temp_avg',\n",
              " 'Temp_min',\n",
              " 'Dew_max',\n",
              " 'Dew_avg',\n",
              " 'Dew_min',\n",
              " 'Hum_avg',\n",
              " 'Hum_min',\n",
              " 'Wind_avg',\n",
              " 'Wind_min',\n",
              " 'Press_max',\n",
              " 'Press_avg',\n",
              " 'Press_min',\n",
              " 'Precipit']"
            ]
          },
          "metadata": {},
          "execution_count": 44
        }
      ]
    },
    {
      "cell_type": "markdown",
      "source": [
        "##Variáveis categóricas"
      ],
      "metadata": {
        "id": "OCOc3oMMJhRb"
      }
    },
    {
      "cell_type": "markdown",
      "source": [
        "###Analise de frequencia"
      ],
      "metadata": {
        "id": "Ix3D9z1JCZwm"
      }
    },
    {
      "cell_type": "code",
      "source": [
        "#Plot do histograma de cada coluna\n",
        "n, m = 2, 2\n",
        "fig, axs = plt.subplots(n, m,figsize=(12,8))\n",
        "fig.tight_layout()\n",
        "count = 0\n",
        "for j in range(n):\n",
        "  for i in range(m):\n",
        "    ax = sns.histplot(x=df_cons_pred[features_cat[count]], ax=axs[j, i])\n",
        "    axs[j, i].set_title(features_cat[count])\n",
        "    ax.tick_params(axis='x', labelrotation=90)\n",
        "    ax.set(xlabel=None)\n",
        "    plt.tight_layout()\n",
        "    count +=1"
      ],
      "metadata": {
        "colab": {
          "base_uri": "https://localhost:8080/"
        },
        "id": "pU584gTSPX8B",
        "outputId": "96ae9681-7534-440e-d6d9-0f48d27e5869"
      },
      "execution_count": null,
      "outputs": [
        {
          "output_type": "display_data",
          "data": {
            "text/plain": [
              "<Figure size 864x576 with 4 Axes>"
            ],
            "image/png": "[encoded data removed]"
          },
          "metadata": {
            "needs_background": "light"
          }
        }
      ]
    },
    {
      "cell_type": "markdown",
      "source": [
        "###One hot encoder + dummies"
      ],
      "metadata": {
        "id": "WM08JT9HCfRp"
      }
    },
    {
      "cell_type": "code",
      "source": [
        "# Definindo a função Dummies\n",
        "def dummies(x,df):\n",
        "    \n",
        "    #cria um dataframe temporario com o resultado do processo One-hot Encode e deletando a primeira coluna\n",
        "    temp = pd.get_dummies(df[x], drop_first = True)\n",
        "    \n",
        "    #concatena o dataframe df com o temporario\n",
        "    df = pd.concat([df, temp], axis = 1)\n",
        "    \n",
        "    #exclui a coluna referente ao atributo x\n",
        "    df = df.drop(columns = x)\n",
        "    \n",
        "    return df"
      ],
      "metadata": {
        "id": "n5j6_WhHtH5Z"
      },
      "execution_count": null,
      "outputs": []
    },
    {
      "cell_type": "code",
      "source": [
        "#aplica a função dummies para os atributos categoricos\n",
        "for feature in features_cat:\n",
        "    df_cons_pred = dummies(feature,df_cons_pred)"
      ],
      "metadata": {
        "id": "SKHPixVvtVNT"
      },
      "execution_count": null,
      "outputs": []
    },
    {
      "cell_type": "code",
      "source": [
        "df_cons_pred.head()"
      ],
      "metadata": {
        "colab": {
          "base_uri": "https://localhost:8080/"
        },
        "id": "tRO0Sa1uvtfc",
        "outputId": "b7baa53c-f9a4-4a7d-e34c-8a4dfc919a34"
      },
      "execution_count": null,
      "outputs": [
        {
          "output_type": "execute_result",
          "data": {
            "text/plain": [
              "   Temp_max  Temp_avg  Temp_min   Dew_max   Dew_avg   Dew_min   Hum_avg  \\\n",
              "0  0.276092  0.229017  0.341565  0.615151  0.699202  0.602161  1.327578   \n",
              "1  1.031444  1.093669  0.964550  0.797613  0.911488  1.031290 -0.327358   \n",
              "2  1.283228  1.230643  0.886677  0.797613  0.854334  0.673683 -0.727146   \n",
              "3  1.199300  1.204961  1.120297  0.706382  0.854334  0.888247 -0.745741   \n",
              "4 -0.059620 -0.087737 -0.203547 -0.297158 -0.280582 -0.041532 -0.596983   \n",
              "\n",
              "    Hum_min  Wind_avg  Wind_min  ...  June  March  May  November  October  \\\n",
              "0  0.880589  0.738584 -0.548238  ...     0      0    0         0        0   \n",
              "1 -0.045815 -0.666852 -0.548238  ...     0      0    0         0        0   \n",
              "2 -0.972218 -0.555896 -0.548238  ...     0      0    0         0        0   \n",
              "3 -0.376673 -0.444941 -0.548238  ...     0      0    0         0        0   \n",
              "4 -0.442845 -1.554496 -0.548238  ...     0      0    0         0        0   \n",
              "\n",
              "   September  2017  2018  2019  2020  \n",
              "0          0     0     0     0     0  \n",
              "1          0     0     0     0     0  \n",
              "2          0     0     0     0     0  \n",
              "3          0     0     0     0     0  \n",
              "4          0     0     0     0     0  \n",
              "\n",
              "[5 rows x 66 columns]"
            ],
            "text/html": [
              "\n",
              "  <div id=\"df-adf5bade-e270-4786-8078-399e7748c14e\">\n",
              "    <div class=\"colab-df-container\">\n",
              "      <div>\n",
              "<style scoped>\n",
              "    .dataframe tbody tr th:only-of-type {\n",
              "        vertical-align: middle;\n",
              "    }\n",
              "\n",
              "    .dataframe tbody tr th {\n",
              "        vertical-align: top;\n",
              "    }\n",
              "\n",
              "    .dataframe thead th {\n",
              "        text-align: right;\n",
              "    }\n",
              "</style>\n",
              "<table border=\"1\" class=\"dataframe\">\n",
              "  <thead>\n",
              "    <tr style=\"text-align: right;\">\n",
              "      <th></th>\n",
              "      <th>Temp_max</th>\n",
              "      <th>Temp_avg</th>\n",
              "      <th>Temp_min</th>\n",
              "      <th>Dew_max</th>\n",
              "      <th>Dew_avg</th>\n",
              "      <th>Dew_min</th>\n",
              "      <th>Hum_avg</th>\n",
              "      <th>Hum_min</th>\n",
              "      <th>Wind_avg</th>\n",
              "      <th>Wind_min</th>\n",
              "      <th>...</th>\n",
              "      <th>June</th>\n",
              "      <th>March</th>\n",
              "      <th>May</th>\n",
              "      <th>November</th>\n",
              "      <th>October</th>\n",
              "      <th>September</th>\n",
              "      <th>2017</th>\n",
              "      <th>2018</th>\n",
              "      <th>2019</th>\n",
              "      <th>2020</th>\n",
              "    </tr>\n",
              "  </thead>\n",
              "  <tbody>\n",
              "    <tr>\n",
              "      <th>0</th>\n",
              "      <td>0.276092</td>\n",
              "      <td>0.229017</td>\n",
              "      <td>0.341565</td>\n",
              "      <td>0.615151</td>\n",
              "      <td>0.699202</td>\n",
              "      <td>0.602161</td>\n",
              "      <td>1.327578</td>\n",
              "      <td>0.880589</td>\n",
              "      <td>0.738584</td>\n",
              "      <td>-0.548238</td>\n",
              "      <td>...</td>\n",
              "      <td>0</td>\n",
              "      <td>0</td>\n",
              "      <td>0</td>\n",
              "      <td>0</td>\n",
              "      <td>0</td>\n",
              "      <td>0</td>\n",
              "      <td>0</td>\n",
              "      <td>0</td>\n",
              "      <td>0</td>\n",
              "      <td>0</td>\n",
              "    </tr>\n",
              "    <tr>\n",
              "      <th>1</th>\n",
              "      <td>1.031444</td>\n",
              "      <td>1.093669</td>\n",
              "      <td>0.964550</td>\n",
              "      <td>0.797613</td>\n",
              "      <td>0.911488</td>\n",
              "      <td>1.031290</td>\n",
              "      <td>-0.327358</td>\n",
              "      <td>-0.045815</td>\n",
              "      <td>-0.666852</td>\n",
              "      <td>-0.548238</td>\n",
              "      <td>...</td>\n",
              "      <td>0</td>\n",
              "      <td>0</td>\n",
              "      <td>0</td>\n",
              "      <td>0</td>\n",
              "      <td>0</td>\n",
              "      <td>0</td>\n",
              "      <td>0</td>\n",
              "      <td>0</td>\n",
              "      <td>0</td>\n",
              "      <td>0</td>\n",
              "    </tr>\n",
              "    <tr>\n",
              "      <th>2</th>\n",
              "      <td>1.283228</td>\n",
              "      <td>1.230643</td>\n",
              "      <td>0.886677</td>\n",
              "      <td>0.797613</td>\n",
              "      <td>0.854334</td>\n",
              "      <td>0.673683</td>\n",
              "      <td>-0.727146</td>\n",
              "      <td>-0.972218</td>\n",
              "      <td>-0.555896</td>\n",
              "      <td>-0.548238</td>\n",
              "      <td>...</td>\n",
              "      <td>0</td>\n",
              "      <td>0</td>\n",
              "      <td>0</td>\n",
              "      <td>0</td>\n",
              "      <td>0</td>\n",
              "      <td>0</td>\n",
              "      <td>0</td>\n",
              "      <td>0</td>\n",
              "      <td>0</td>\n",
              "      <td>0</td>\n",
              "    </tr>\n",
              "    <tr>\n",
              "      <th>3</th>\n",
              "      <td>1.199300</td>\n",
              "      <td>1.204961</td>\n",
              "      <td>1.120297</td>\n",
              "      <td>0.706382</td>\n",
              "      <td>0.854334</td>\n",
              "      <td>0.888247</td>\n",
              "      <td>-0.745741</td>\n",
              "      <td>-0.376673</td>\n",
              "      <td>-0.444941</td>\n",
              "      <td>-0.548238</td>\n",
              "      <td>...</td>\n",
              "      <td>0</td>\n",
              "      <td>0</td>\n",
              "      <td>0</td>\n",
              "      <td>0</td>\n",
              "      <td>0</td>\n",
              "      <td>0</td>\n",
              "      <td>0</td>\n",
              "      <td>0</td>\n",
              "      <td>0</td>\n",
              "      <td>0</td>\n",
              "    </tr>\n",
              "    <tr>\n",
              "      <th>4</th>\n",
              "      <td>-0.059620</td>\n",
              "      <td>-0.087737</td>\n",
              "      <td>-0.203547</td>\n",
              "      <td>-0.297158</td>\n",
              "      <td>-0.280582</td>\n",
              "      <td>-0.041532</td>\n",
              "      <td>-0.596983</td>\n",
              "      <td>-0.442845</td>\n",
              "      <td>-1.554496</td>\n",
              "      <td>-0.548238</td>\n",
              "      <td>...</td>\n",
              "      <td>0</td>\n",
              "      <td>0</td>\n",
              "      <td>0</td>\n",
              "      <td>0</td>\n",
              "      <td>0</td>\n",
              "      <td>0</td>\n",
              "      <td>0</td>\n",
              "      <td>0</td>\n",
              "      <td>0</td>\n",
              "      <td>0</td>\n",
              "    </tr>\n",
              "  </tbody>\n",
              "</table>\n",
              "<p>5 rows × 66 columns</p>\n",
              "</div>\n",
              "      <button class=\"colab-df-convert\" onclick=\"convertToInteractive('df-adf5bade-e270-4786-8078-399e7748c14e')\"\n",
              "              title=\"Convert this dataframe to an interactive table.\"\n",
              "              style=\"display:none;\">\n",
              "        \n",
              "  <svg xmlns=\"http://www.w3.org/2000/svg\" height=\"24px\"viewBox=\"0 0 24 24\"\n",
              "       width=\"24px\">\n",
              "    <path d=\"M0 0h24v24H0V0z\" fill=\"none\"/>\n",
              "    <path d=\"M18.56 5.44l.94 2.06.94-2.06 2.06-.94-2.06-.94-.94-2.06-.94 2.06-2.06.94zm-11 1L8.5 8.5l.94-2.06 2.06-.94-2.06-.94L8.5 2.5l-.94 2.06-2.06.94zm10 10l.94 2.06.94-2.06 2.06-.94-2.06-.94-.94-2.06-.94 2.06-2.06.94z\"/><path d=\"M17.41 7.96l-1.37-1.37c-.4-.4-.92-.59-1.43-.59-.52 0-1.04.2-1.43.59L10.3 9.45l-7.72 7.72c-.78.78-.78 2.05 0 2.83L4 21.41c.39.39.9.59 1.41.59.51 0 1.02-.2 1.41-.59l7.78-7.78 2.81-2.81c.8-.78.8-2.07 0-2.86zM5.41 20L4 18.59l7.72-7.72 1.47 1.35L5.41 20z\"/>\n",
              "  </svg>\n",
              "      </button>\n",
              "      \n",
              "  <style>\n",
              "    .colab-df-container {\n",
              "      display:flex;\n",
              "      flex-wrap:wrap;\n",
              "      gap: 12px;\n",
              "    }\n",
              "\n",
              "    .colab-df-convert {\n",
              "      background-color: #E8F0FE;\n",
              "      border: none;\n",
              "      border-radius: 50%;\n",
              "      cursor: pointer;\n",
              "      display: none;\n",
              "      fill: #1967D2;\n",
              "      height: 32px;\n",
              "      padding: 0 0 0 0;\n",
              "      width: 32px;\n",
              "    }\n",
              "\n",
              "    .colab-df-convert:hover {\n",
              "      background-color: #E2EBFA;\n",
              "      box-shadow: 0px 1px 2px rgba(60, 64, 67, 0.3), 0px 1px 3px 1px rgba(60, 64, 67, 0.15);\n",
              "      fill: #174EA6;\n",
              "    }\n",
              "\n",
              "    [theme=dark] .colab-df-convert {\n",
              "      background-color: #3B4455;\n",
              "      fill: #D2E3FC;\n",
              "    }\n",
              "\n",
              "    [theme=dark] .colab-df-convert:hover {\n",
              "      background-color: #434B5C;\n",
              "      box-shadow: 0px 1px 3px 1px rgba(0, 0, 0, 0.15);\n",
              "      filter: drop-shadow(0px 1px 2px rgba(0, 0, 0, 0.3));\n",
              "      fill: #FFFFFF;\n",
              "    }\n",
              "  </style>\n",
              "\n",
              "      <script>\n",
              "        const buttonEl =\n",
              "          document.querySelector('#df-adf5bade-e270-4786-8078-399e7748c14e button.colab-df-convert');\n",
              "        buttonEl.style.display =\n",
              "          google.colab.kernel.accessAllowed ? 'block' : 'none';\n",
              "\n",
              "        async function convertToInteractive(key) {\n",
              "          const element = document.querySelector('#df-adf5bade-e270-4786-8078-399e7748c14e');\n",
              "          const dataTable =\n",
              "            await google.colab.kernel.invokeFunction('convertToInteractive',\n",
              "                                                     [key], {});\n",
              "          if (!dataTable) return;\n",
              "\n",
              "          const docLinkHtml = 'Like what you see? Visit the ' +\n",
              "            '<a target=\"_blank\" href=https://colab.research.google.com/notebooks/data_table.ipynb>data table notebook</a>'\n",
              "            + ' to learn more about interactive tables.';\n",
              "          element.innerHTML = '';\n",
              "          dataTable['output_type'] = 'display_data';\n",
              "          await google.colab.output.renderOutput(dataTable, element);\n",
              "          const docLink = document.createElement('div');\n",
              "          docLink.innerHTML = docLinkHtml;\n",
              "          element.appendChild(docLink);\n",
              "        }\n",
              "      </script>\n",
              "    </div>\n",
              "  </div>\n",
              "  "
            ]
          },
          "metadata": {},
          "execution_count": 54
        }
      ]
    },
    {
      "cell_type": "markdown",
      "source": [
        "#Treinamento e Teste"
      ],
      "metadata": {
        "id": "JGESng3I6SHU"
      }
    },
    {
      "cell_type": "markdown",
      "source": [
        "##Preparação"
      ],
      "metadata": {
        "id": "lp8q0T6RCpDQ"
      }
    },
    {
      "cell_type": "code",
      "source": [
        "X = df_cons_pred.drop(columns=['consumption'])\n",
        "y = df_cons_pred.consumption"
      ],
      "metadata": {
        "id": "yLRsB4hJO4oS"
      },
      "execution_count": null,
      "outputs": []
    },
    {
      "cell_type": "code",
      "source": [
        "X_train, X_test, y_train, y_test = train_test_split(X, y, test_size=0.25, random_state=123)"
      ],
      "metadata": {
        "id": "SVnTAAAXQbCH"
      },
      "execution_count": null,
      "outputs": []
    },
    {
      "cell_type": "markdown",
      "source": [
        "##Modelos"
      ],
      "metadata": {
        "id": "kYDOWYZOCur6"
      }
    },
    {
      "cell_type": "markdown",
      "source": [
        "###Regressão Linear"
      ],
      "metadata": {
        "id": "KO4qjsLuCw3q"
      }
    },
    {
      "cell_type": "code",
      "source": [
        "LM = LinearRegression()"
      ],
      "metadata": {
        "id": "yCfaOcyuQeWz"
      },
      "execution_count": null,
      "outputs": []
    },
    {
      "cell_type": "code",
      "source": [
        "LM.fit(X_train, y_train)"
      ],
      "metadata": {
        "id": "hF2zUVMPUoiJ",
        "outputId": "837969c7-3c67-4b92-f9ce-86c330d0aa60",
        "colab": {
          "base_uri": "https://localhost:8080/"
        }
      },
      "execution_count": null,
      "outputs": [
        {
          "output_type": "execute_result",
          "data": {
            "text/plain": [
              "LinearRegression()"
            ]
          },
          "metadata": {},
          "execution_count": 67
        }
      ]
    },
    {
      "cell_type": "code",
      "source": [
        "LM.score(X_test, y_test)"
      ],
      "metadata": {
        "id": "20WWM8XJUu3H",
        "outputId": "7611c49a-8751-4668-f2cd-97a9b818190b",
        "colab": {
          "base_uri": "https://localhost:8080/"
        }
      },
      "execution_count": null,
      "outputs": [
        {
          "output_type": "execute_result",
          "data": {
            "text/plain": [
              "0.6851955318922007"
            ]
          },
          "metadata": {},
          "execution_count": 68
        }
      ]
    },
    {
      "cell_type": "code",
      "source": [
        "mape(y_test, LM.predict(X_test))"
      ],
      "metadata": {
        "id": "oiG_qy0tYisq",
        "outputId": "62dd3ffc-4637-47bd-a619-13ada4cd8f8b",
        "colab": {
          "base_uri": "https://localhost:8080/"
        }
      },
      "execution_count": null,
      "outputs": [
        {
          "output_type": "execute_result",
          "data": {
            "text/plain": [
              "0.355391278236266"
            ]
          },
          "metadata": {},
          "execution_count": 72
        }
      ]
    },
    {
      "cell_type": "code",
      "source": [
        "#RMSE\n",
        "mse(y_test, LM.predict(X_test), squared=False)"
      ],
      "metadata": {
        "id": "PZ4Lzk56Z9I5",
        "outputId": "db3f5e6e-7ad5-4447-9605-3ea705b714a3",
        "colab": {
          "base_uri": "https://localhost:8080/"
        }
      },
      "execution_count": null,
      "outputs": [
        {
          "output_type": "execute_result",
          "data": {
            "text/plain": [
              "7.389473008536171"
            ]
          },
          "metadata": {},
          "execution_count": 75
        }
      ]
    },
    {
      "cell_type": "markdown",
      "source": [
        "###Random Forest Regressor"
      ],
      "metadata": {
        "id": "jZf1XmB5C3BB"
      }
    },
    {
      "cell_type": "markdown",
      "source": [
        "####Tuning hiperparametros"
      ],
      "metadata": {
        "id": "2xHcU--CEUAW"
      }
    },
    {
      "cell_type": "code",
      "source": [
        "# Conjunto de valores para os Hiperparametros\n",
        "params = {\n",
        "    \"n_estimators\": (1, 1000),\n",
        "    \"max_depth\": (1, 500),\n",
        "}"
      ],
      "metadata": {
        "id": "YtIC80S8Edsh"
      },
      "execution_count": null,
      "outputs": []
    },
    {
      "cell_type": "code",
      "source": [
        "%%time\n",
        "# Criação da class BayesSearchCV para os parametros escolhidos e tendo o recall como metrica de avaliacao:\n",
        "BS_RF = BayesSearchCV(estimator = RandomForestRegressor(),\n",
        "                       search_spaces = params,\n",
        "                       scoring='neg_mean_squared_error',\n",
        "                       cv = 10,\n",
        "                       n_iter = 20, \n",
        "                       random_state=123)\n",
        "\n",
        "# Realizando a otimização por BayesSearchCV para a deteccao de curto circuito:\n",
        "BS_RF.fit(X_test,y_test)"
      ],
      "metadata": {
        "id": "X-Rl5Q7UEmBg",
        "outputId": "be481cb7-c93b-4fb6-b8df-b7d04d3fcfca",
        "colab": {
          "base_uri": "https://localhost:8080/"
        }
      },
      "execution_count": null,
      "outputs": [
        {
          "output_type": "stream",
          "name": "stdout",
          "text": [
            "CPU times: user 7min 58s, sys: 8.01 s, total: 8min 6s\n",
            "Wall time: 7min 58s\n"
          ]
        }
      ]
    },
    {
      "cell_type": "code",
      "source": [
        "# Melhores valores para os paramentros:\n",
        "BS_RF.best_params_"
      ],
      "metadata": {
        "colab": {
          "base_uri": "https://localhost:8080/"
        },
        "id": "qpnf-aUf1ibV",
        "outputId": "6da2c4a6-5f85-43f0-c8cd-fe08a3bf9cb8"
      },
      "execution_count": null,
      "outputs": [
        {
          "output_type": "execute_result",
          "data": {
            "text/plain": [
              "OrderedDict([('max_depth', 81), ('n_estimators', 775)])"
            ]
          },
          "metadata": {},
          "execution_count": 129
        }
      ]
    },
    {
      "cell_type": "code",
      "source": [
        "BS_RF.best_score_"
      ],
      "metadata": {
        "id": "DBeR2K9KqalS",
        "outputId": "79029dc6-5b77-4d73-9af3-40c6fc957c15",
        "colab": {
          "base_uri": "https://localhost:8080/"
        }
      },
      "execution_count": null,
      "outputs": [
        {
          "output_type": "execute_result",
          "data": {
            "text/plain": [
              "-39.42802837295047"
            ]
          },
          "metadata": {},
          "execution_count": 130
        }
      ]
    },
    {
      "cell_type": "markdown",
      "source": [
        "####Tuning with RandomizedSearchCV"
      ],
      "metadata": {
        "id": "76R3Oou9acC-"
      }
    },
    {
      "cell_type": "code",
      "source": [
        "# Conjunto de valores para os Hiperparametros\n",
        "params = {\n",
        "    \"n_estimators\": [*range(50, 1000, 50)],\n",
        "    \"max_depth\": [*range(1, 51)],\n",
        "}"
      ],
      "metadata": {
        "id": "BF5KHihjdnnK"
      },
      "execution_count": null,
      "outputs": []
    },
    {
      "cell_type": "code",
      "source": [
        "RS_RF = RandomizedSearchCV(estimator=RandomForestRegressor(),\n",
        "                           param_distributions=params,\n",
        "                           scoring='r2',\n",
        "                           n_iter=20,\n",
        "                           cv=10,\n",
        "                           random_state=123\n",
        "    \n",
        ")"
      ],
      "metadata": {
        "id": "piTUlNKEeREV"
      },
      "execution_count": null,
      "outputs": []
    },
    {
      "cell_type": "code",
      "source": [
        "%%time\n",
        "RS_RF.fit(X_train,y_train)"
      ],
      "metadata": {
        "id": "EJXLLYECgyE0",
        "outputId": "444aed68-cfbb-4141-c352-78d4181eaf0b",
        "colab": {
          "base_uri": "https://localhost:8080/"
        }
      },
      "execution_count": null,
      "outputs": [
        {
          "output_type": "stream",
          "name": "stdout",
          "text": [
            "CPU times: user 17min 49s, sys: 2.95 s, total: 17min 52s\n",
            "Wall time: 17min 52s\n"
          ]
        },
        {
          "output_type": "execute_result",
          "data": {
            "text/plain": [
              "RandomizedSearchCV(cv=10, estimator=RandomForestRegressor(), n_iter=20,\n",
              "                   param_distributions={'max_depth': [1, 2, 3, 4, 5, 6, 7, 8, 9,\n",
              "                                                      10, 11, 12, 13, 14, 15,\n",
              "                                                      16, 17, 18, 19, 20, 21,\n",
              "                                                      22, 23, 24, 25, 26, 27,\n",
              "                                                      28, 29, 30, ...],\n",
              "                                        'n_estimators': [50, 100, 150, 200, 250,\n",
              "                                                         300, 350, 400, 450,\n",
              "                                                         500, 550, 600, 650,\n",
              "                                                         700, 750, 800, 850,\n",
              "                                                         900, 950]},\n",
              "                   random_state=123, scoring='r2')"
            ]
          },
          "metadata": {},
          "execution_count": 84
        }
      ]
    },
    {
      "cell_type": "code",
      "source": [
        "RS_RF.best_params_"
      ],
      "metadata": {
        "id": "hzHPEVQqorVK",
        "outputId": "08c90f1e-35d5-4c55-88d3-c4a2f02e9ec1",
        "colab": {
          "base_uri": "https://localhost:8080/"
        }
      },
      "execution_count": null,
      "outputs": [
        {
          "output_type": "execute_result",
          "data": {
            "text/plain": [
              "{'max_depth': 40, 'n_estimators': 700}"
            ]
          },
          "metadata": {},
          "execution_count": 86
        }
      ]
    },
    {
      "cell_type": "markdown",
      "source": [
        "####Treinamento, validação e teste"
      ],
      "metadata": {
        "id": "tXpS14gGEb3_"
      }
    },
    {
      "cell_type": "code",
      "source": [
        "RFR = RandomForestRegressor(n_estimators= 700, max_depth=40)"
      ],
      "metadata": {
        "id": "cBJiyHHAVlwJ"
      },
      "execution_count": null,
      "outputs": []
    },
    {
      "cell_type": "code",
      "source": [
        "RFR.fit(X_train, y_train)"
      ],
      "metadata": {
        "id": "EoM-9_8JVr2p",
        "outputId": "f0c5122f-39e8-487c-c53a-2faab0348b83",
        "colab": {
          "base_uri": "https://localhost:8080/"
        }
      },
      "execution_count": null,
      "outputs": [
        {
          "output_type": "execute_result",
          "data": {
            "text/plain": [
              "RandomForestRegressor(max_depth=40, n_estimators=700)"
            ]
          },
          "metadata": {},
          "execution_count": 134
        }
      ]
    },
    {
      "cell_type": "code",
      "source": [
        "RFR.score(X_test, y_test)"
      ],
      "metadata": {
        "id": "LShqIE1iFs5h",
        "outputId": "c7aed318-78f1-43ff-944d-b7c1235b374e",
        "colab": {
          "base_uri": "https://localhost:8080/"
        }
      },
      "execution_count": null,
      "outputs": [
        {
          "output_type": "execute_result",
          "data": {
            "text/plain": [
              "0.8160163219563752"
            ]
          },
          "metadata": {},
          "execution_count": 135
        }
      ]
    },
    {
      "cell_type": "code",
      "source": [
        "RF = RandomForestRegressor(max_depth=384, n_estimators=185)\n",
        "RF.fit(X_train, y_train)\n",
        "RF.score(X_test, y_test)"
      ],
      "metadata": {
        "id": "RPOSM9K22Y9w",
        "outputId": "2342c0c7-9206-4b72-9873-e2eb36b80f89",
        "colab": {
          "base_uri": "https://localhost:8080/"
        }
      },
      "execution_count": null,
      "outputs": [
        {
          "output_type": "execute_result",
          "data": {
            "text/plain": [
              "0.8157404375745843"
            ]
          },
          "metadata": {},
          "execution_count": 132
        }
      ]
    },
    {
      "cell_type": "code",
      "source": [
        "mape(y_test, RF.predict(X_test))"
      ],
      "metadata": {
        "id": "xloOlcY9piQ0",
        "outputId": "f76b14e9-4556-45da-fcef-84ed4e2cae9e",
        "colab": {
          "base_uri": "https://localhost:8080/"
        }
      },
      "execution_count": null,
      "outputs": [
        {
          "output_type": "execute_result",
          "data": {
            "text/plain": [
              "0.20483419890974663"
            ]
          },
          "metadata": {},
          "execution_count": 107
        }
      ]
    },
    {
      "cell_type": "code",
      "source": [
        "#RMSE\n",
        "mse(y_test, RF.predict(X_test), squared=False)"
      ],
      "metadata": {
        "id": "hWM6V0WOpvlu",
        "outputId": "12c4a122-0cca-4090-d6d9-d00b844c68ab",
        "colab": {
          "base_uri": "https://localhost:8080/"
        }
      },
      "execution_count": null,
      "outputs": [
        {
          "output_type": "execute_result",
          "data": {
            "text/plain": [
              "5.62337396731338"
            ]
          },
          "metadata": {},
          "execution_count": 108
        }
      ]
    },
    {
      "cell_type": "markdown",
      "source": [
        "###Regressão Linear com Regularização Lasso"
      ],
      "metadata": {
        "id": "AL60iJbvD7kc"
      }
    },
    {
      "cell_type": "code",
      "source": [
        "Lasso = LassoCV(cv=10)"
      ],
      "metadata": {
        "id": "E8REg_8nZwld"
      },
      "execution_count": null,
      "outputs": []
    },
    {
      "cell_type": "code",
      "source": [
        "Lasso.fit(X_train, y_train)"
      ],
      "metadata": {
        "id": "inDH-iM1RwkT"
      },
      "execution_count": null,
      "outputs": []
    },
    {
      "cell_type": "code",
      "source": [
        "Lasso.score(X_test, y_test)"
      ],
      "metadata": {
        "id": "RinwNd7gR4wS"
      },
      "execution_count": null,
      "outputs": []
    },
    {
      "cell_type": "code",
      "source": [
        "Lasso.coef_"
      ],
      "metadata": {
        "id": "RowpgDXOR80i"
      },
      "execution_count": null,
      "outputs": []
    },
    {
      "cell_type": "code",
      "source": [
        "#print das features e seus respectivos p-value\n",
        "for value in [*zip(df_cons_pred.columns.values[:-1], Lasso.coef_)]:\n",
        "  print(value)"
      ],
      "metadata": {
        "id": "P2A_d9b0SRND"
      },
      "execution_count": null,
      "outputs": []
    },
    {
      "cell_type": "code",
      "source": [
        "Ridge = RidgeCV()"
      ],
      "metadata": {
        "id": "sE61YoUnTQIU"
      },
      "execution_count": null,
      "outputs": []
    },
    {
      "cell_type": "code",
      "source": [
        "Ridge.fit(X_train, y_train)"
      ],
      "metadata": {
        "id": "I_FRRyO2UHCW"
      },
      "execution_count": null,
      "outputs": []
    },
    {
      "cell_type": "code",
      "source": [
        "Ridge.score(X_test, y_test)"
      ],
      "metadata": {
        "id": "x5QU2yIlUMdl"
      },
      "execution_count": null,
      "outputs": []
    },
    {
      "cell_type": "code",
      "source": [
        ""
      ],
      "metadata": {
        "id": "bLgImA2aUSwl"
      },
      "execution_count": null,
      "outputs": []
    },
    {
      "cell_type": "code",
      "source": [
        ""
      ],
      "metadata": {
        "id": "CQkIvE9f6vDF"
      },
      "execution_count": null,
      "outputs": []
    },
    {
      "cell_type": "markdown",
      "source": [
        "###Bayesian Regression"
      ],
      "metadata": {
        "id": "k42r21L00-IR"
      }
    },
    {
      "cell_type": "code",
      "source": [
        "from sklearn.linear_model import BayesianRidge"
      ],
      "metadata": {
        "id": "ZeHFWRZL1E_u"
      },
      "execution_count": null,
      "outputs": []
    },
    {
      "cell_type": "code",
      "source": [
        "BR = BayesianRidge()"
      ],
      "metadata": {
        "id": "cWZkCGxj1QuO"
      },
      "execution_count": null,
      "outputs": []
    },
    {
      "cell_type": "code",
      "source": [
        "BR.fit(X_train, y_train)"
      ],
      "metadata": {
        "colab": {
          "base_uri": "https://localhost:8080/"
        },
        "id": "qP6GCPM61gZ1",
        "outputId": "00fad7a9-3614-47d0-8624-5e40fabed28a"
      },
      "execution_count": null,
      "outputs": [
        {
          "output_type": "execute_result",
          "data": {
            "text/plain": [
              "BayesianRidge()"
            ]
          },
          "metadata": {},
          "execution_count": 61
        }
      ]
    },
    {
      "cell_type": "code",
      "source": [
        "BR.score(X_test, y_test)"
      ],
      "metadata": {
        "colab": {
          "base_uri": "https://localhost:8080/"
        },
        "id": "H1I5q-jO1kl-",
        "outputId": "bda29f37-9d8e-4936-e2c5-1a09e54d8a6a"
      },
      "execution_count": null,
      "outputs": [
        {
          "output_type": "execute_result",
          "data": {
            "text/plain": [
              "0.6555917932488169"
            ]
          },
          "metadata": {},
          "execution_count": 65
        }
      ]
    },
    {
      "cell_type": "code",
      "source": [
        ""
      ],
      "metadata": {
        "id": "YRLPhltf1ovN"
      },
      "execution_count": null,
      "outputs": []
    },
    {
      "cell_type": "markdown",
      "source": [
        "###Support Vector Machines Regression"
      ],
      "metadata": {
        "id": "S76ysLxqBQPm"
      }
    },
    {
      "cell_type": "code",
      "source": [
        "from sklearn.svm import SVR"
      ],
      "metadata": {
        "id": "OhYPwLP83mSH"
      },
      "execution_count": null,
      "outputs": []
    },
    {
      "cell_type": "markdown",
      "source": [
        "#####Tuning hiperparametros"
      ],
      "metadata": {
        "id": "oW8STUO-jl62"
      }
    },
    {
      "cell_type": "code",
      "source": [
        "# Conjunto de valores para os Hiperparametros\n",
        "params = {\n",
        "          'C': (1e-3, 1e+3, 'log-uniform'),\n",
        "          #'gamma': (1e-2, 1e+1, 'log-uniform'),\n",
        "          'kernel': ['linear', 'poly', 'rbf', 'sigmoid']\n",
        "         }"
      ],
      "metadata": {
        "id": "PNG1U5Oh2XFV"
      },
      "execution_count": null,
      "outputs": []
    },
    {
      "cell_type": "code",
      "source": [
        "%%time\n",
        "# Criação da class BayesSearchCV para os parametros escolhidos e tendo o recall como metrica de avaliacao:\n",
        "BS_SVC = BayesSearchCV(estimator = SVR(),\n",
        "                       search_spaces = params,\n",
        "                       scoring='r2',\n",
        "                       cv = 10,\n",
        "                       n_iter = 20, \n",
        "                       random_state=123)\n",
        "\n",
        "# Realizando a otimização por BayesSearchCV para a deteccao de curto circuito:\n",
        "BS_SVC.fit(X_test,y_test)"
      ],
      "metadata": {
        "colab": {
          "base_uri": "https://localhost:8080/"
        },
        "id": "lfyU59WHyvWG",
        "outputId": "d376d599-837a-4522-c678-459b77ef3615"
      },
      "execution_count": null,
      "outputs": [
        {
          "output_type": "stream",
          "name": "stdout",
          "text": [
            "CPU times: user 1min 21s, sys: 5.75 s, total: 1min 27s\n",
            "Wall time: 1min 20s\n"
          ]
        }
      ]
    },
    {
      "cell_type": "code",
      "source": [
        "BS_SVC.best_params_"
      ],
      "metadata": {
        "colab": {
          "base_uri": "https://localhost:8080/"
        },
        "id": "8DnVes9n7ZyL",
        "outputId": "d1c1458a-529f-4681-c761-29fadccce1fc"
      },
      "execution_count": null,
      "outputs": [
        {
          "output_type": "execute_result",
          "data": {
            "text/plain": [
              "OrderedDict([('C', 23.13022772446096), ('kernel', 'rbf')])"
            ]
          },
          "metadata": {},
          "execution_count": 88
        }
      ]
    },
    {
      "cell_type": "code",
      "source": [
        "BS_SVC.best_score_"
      ],
      "metadata": {
        "colab": {
          "base_uri": "https://localhost:8080/"
        },
        "id": "UPGtqjla7hMC",
        "outputId": "ac7380e9-04ce-4475-97d3-3790d3566a44"
      },
      "execution_count": null,
      "outputs": [
        {
          "output_type": "execute_result",
          "data": {
            "text/plain": [
              "0.6968999906940048"
            ]
          },
          "metadata": {},
          "execution_count": 89
        }
      ]
    },
    {
      "cell_type": "markdown",
      "source": [
        "#####Treinamento, validação e teste"
      ],
      "metadata": {
        "id": "NuK--E4wjtMK"
      }
    },
    {
      "cell_type": "code",
      "source": [
        "classif_fault_SVM = SVR(C = 23.1302 )"
      ],
      "metadata": {
        "id": "Iaqm9b6sBjGP"
      },
      "execution_count": null,
      "outputs": []
    },
    {
      "cell_type": "code",
      "source": [
        "classif_fault_SVM.fit(X_train, y_train)"
      ],
      "metadata": {
        "id": "raAjCUfVBuXO",
        "outputId": "1f4fe1cd-907a-4f51-b70d-9ac514f6a5d4",
        "colab": {
          "base_uri": "https://localhost:8080/"
        }
      },
      "execution_count": null,
      "outputs": [
        {
          "output_type": "execute_result",
          "data": {
            "text/plain": [
              "SVR(C=23.1302)"
            ]
          },
          "metadata": {},
          "execution_count": 92
        }
      ]
    },
    {
      "cell_type": "code",
      "source": [
        "classif_fault_SVM.score(X_test, y_test)"
      ],
      "metadata": {
        "id": "P2WkCwf-BuPH",
        "outputId": "89347cb7-da08-47b1-d451-0408939a5369",
        "colab": {
          "base_uri": "https://localhost:8080/"
        }
      },
      "execution_count": null,
      "outputs": [
        {
          "output_type": "execute_result",
          "data": {
            "text/plain": [
              "0.7479552361884236"
            ]
          },
          "metadata": {},
          "execution_count": 93
        }
      ]
    },
    {
      "cell_type": "markdown",
      "source": [
        "###XGBoost Classifier"
      ],
      "metadata": {
        "id": "K1CGZIv_B9rY"
      }
    },
    {
      "cell_type": "code",
      "source": [
        "from xgboost import XGBRegressor"
      ],
      "metadata": {
        "id": "F5oZfiAE9qyn"
      },
      "execution_count": null,
      "outputs": []
    },
    {
      "cell_type": "markdown",
      "source": [
        "#####Tuning hiperparametros"
      ],
      "metadata": {
        "id": "H7Yd9SONj-CA"
      }
    },
    {
      "cell_type": "code",
      "source": [
        "# Conjunto de valores para os Hiperparametros\n",
        "params = {\n",
        "    \"eta\": (0,1),\n",
        "    \"gamma\": (0, 200),\n",
        "    \"max_depth\": (1, 100),\n",
        "    'n_estimators':(1,5000),\n",
        "}\n"
      ],
      "metadata": {
        "id": "pMFFr_-WB9rY"
      },
      "execution_count": null,
      "outputs": []
    },
    {
      "cell_type": "code",
      "source": [
        "%time\n",
        "# Criação da class BayesSearchCV para os parametros escolhidos e tendo o recall como metrica de avaliacao:\n",
        "BS_XGB = BayesSearchCV(estimator = XGBRegressor(),\n",
        "                       search_spaces = params,\n",
        "                       scoring='r2',\n",
        "                       cv = 10,\n",
        "                       n_iter = 20, \n",
        "                       random_state=123)\n",
        "\n",
        "# Realizando a otimização por BayesSearchCV para a deteccao de curto circuito:\n",
        "BS_XGB.fit(X_test,y_test)\n"
      ],
      "metadata": {
        "colab": {
          "base_uri": "https://localhost:8080/"
        },
        "outputId": "801771ce-b9a5-4430-f84d-2f9228cd5e14",
        "id": "EZ8XJZdNB9rY"
      },
      "execution_count": null,
      "outputs": [
        {
          "output_type": "stream",
          "name": "stdout",
          "text": [
            "CPU times: user 3 µs, sys: 0 ns, total: 3 µs\n",
            "Wall time: 6.91 µs\n"
          ]
        },
        {
          "output_type": "execute_result",
          "data": {
            "text/plain": [
              "BayesSearchCV(cv=10, estimator=XGBClassifier(), n_iter=20, random_state=123,\n",
              "              scoring='recall',\n",
              "              search_spaces={'eta': (0, 1), 'gamma': (0, 200),\n",
              "                             'max_depth': (1, 100), 'n_estimators': (1, 5000)})"
            ]
          },
          "metadata": {},
          "execution_count": 277
        }
      ]
    },
    {
      "cell_type": "code",
      "source": [
        "\n",
        "# Melhores valores para os paramentros:\n",
        "print('eta: {}'.format(BS_XGB.best_params_['eta']))\n",
        "print('gamma: {}'.format(BS_XGB.best_params_['gamma']))\n",
        "print('max_depth: {}'.format(BS_XGB.best_params_['max_depth']))\n",
        "print('n_estimators: {}'.format(BS_XGB.best_params_['n_estimators']))\n",
        "print('Best Score: {}'.format(BS_XGB.best_score_))\n"
      ],
      "metadata": {
        "colab": {
          "base_uri": "https://localhost:8080/"
        },
        "outputId": "aaade5ea-b5a5-4635-a87a-b3f7cc676532",
        "id": "VcoYQBftB9rZ"
      },
      "execution_count": null,
      "outputs": [
        {
          "output_type": "stream",
          "name": "stdout",
          "text": [
            "eta: 1\n",
            "gamma: 0\n",
            "max_depth: 6\n",
            "n_estimators: 2391\n",
            "Best Score: 0.9948583082868183\n"
          ]
        }
      ]
    },
    {
      "cell_type": "markdown",
      "source": [
        "#####Treinamento, validacao e teste"
      ],
      "metadata": {
        "id": "OMf5W_kUkWux"
      }
    },
    {
      "cell_type": "code",
      "source": [
        "classif_fault_XGB = XGBRegressor()#(eta=1, gamma=0, max_depth=6, n_estimators=2391)"
      ],
      "metadata": {
        "id": "wxWlA6W4B9rZ"
      },
      "execution_count": null,
      "outputs": []
    },
    {
      "cell_type": "code",
      "source": [
        "classif_fault_XGB.fit(X_train, y_train)"
      ],
      "metadata": {
        "outputId": "62debff7-86cd-4e31-8ce0-011b533b0582",
        "colab": {
          "base_uri": "https://localhost:8080/"
        },
        "id": "tgwQFkjxB9rZ"
      },
      "execution_count": null,
      "outputs": [
        {
          "output_type": "stream",
          "name": "stdout",
          "text": [
            "[14:14:43] WARNING: /workspace/src/objective/regression_obj.cu:152: reg:linear is now deprecated in favor of reg:squarederror.\n"
          ]
        },
        {
          "output_type": "execute_result",
          "data": {
            "text/plain": [
              "XGBRegressor()"
            ]
          },
          "metadata": {},
          "execution_count": 303
        }
      ]
    },
    {
      "cell_type": "code",
      "source": [
        "classif_fault_XGB.score(X_test, y_test)"
      ],
      "metadata": {
        "colab": {
          "base_uri": "https://localhost:8080/"
        },
        "id": "KX70A0gMNwGa",
        "outputId": "f3237c3e-b40f-46e1-c30a-7eb85e94a24d"
      },
      "execution_count": null,
      "outputs": [
        {
          "output_type": "execute_result",
          "data": {
            "text/plain": [
              "0.773495810370575"
            ]
          },
          "metadata": {},
          "execution_count": 305
        }
      ]
    },
    {
      "cell_type": "markdown",
      "source": [
        "###LGBM Regressor"
      ],
      "metadata": {
        "id": "72OGARpW_oW7"
      }
    },
    {
      "cell_type": "code",
      "source": [
        "from lightgbm import LGBMRegressor"
      ],
      "metadata": {
        "id": "Y8YKMukd_pbP"
      },
      "execution_count": null,
      "outputs": []
    },
    {
      "cell_type": "code",
      "source": [
        "LGBM = LGBMRegressor()"
      ],
      "metadata": {
        "id": "0-W310DT_wcy"
      },
      "execution_count": null,
      "outputs": []
    },
    {
      "cell_type": "code",
      "source": [
        "LGBM.fit(X_train, y_train)"
      ],
      "metadata": {
        "colab": {
          "base_uri": "https://localhost:8080/"
        },
        "id": "fZwFhZHPBFaH",
        "outputId": "427f227b-de0c-49d0-f2f6-95858f045e01"
      },
      "execution_count": null,
      "outputs": [
        {
          "output_type": "execute_result",
          "data": {
            "text/plain": [
              "LGBMRegressor()"
            ]
          },
          "metadata": {},
          "execution_count": 104
        }
      ]
    },
    {
      "cell_type": "code",
      "source": [
        "LGBM.score(X_test,y_test)"
      ],
      "metadata": {
        "colab": {
          "base_uri": "https://localhost:8080/"
        },
        "id": "69blGmtYBKUq",
        "outputId": "28aa999c-f8c3-468c-9bea-0614bc8c8ed5"
      },
      "execution_count": null,
      "outputs": [
        {
          "output_type": "execute_result",
          "data": {
            "text/plain": [
              "0.7494486449937683"
            ]
          },
          "metadata": {},
          "execution_count": 105
        }
      ]
    },
    {
      "cell_type": "markdown",
      "source": [
        "###Stochastic Gradient Descent Regression"
      ],
      "metadata": {
        "id": "gt0H6_T6_yKX"
      }
    },
    {
      "cell_type": "code",
      "source": [
        "from sklearn.linear_model import SGDRegressor"
      ],
      "metadata": {
        "id": "2nHZP62__1zy"
      },
      "execution_count": null,
      "outputs": []
    },
    {
      "cell_type": "code",
      "source": [
        "SGDR = SGDRegressor()"
      ],
      "metadata": {
        "id": "8rPQb1NLBYCf"
      },
      "execution_count": null,
      "outputs": []
    },
    {
      "cell_type": "code",
      "source": [
        "SGDR.fit(X_train, y_train)"
      ],
      "metadata": {
        "colab": {
          "base_uri": "https://localhost:8080/"
        },
        "id": "bREyUXRTBcbG",
        "outputId": "e87b4b6d-9253-41ac-9cea-c956aa957086"
      },
      "execution_count": null,
      "outputs": [
        {
          "output_type": "execute_result",
          "data": {
            "text/plain": [
              "SGDRegressor()"
            ]
          },
          "metadata": {},
          "execution_count": 108
        }
      ]
    },
    {
      "cell_type": "code",
      "source": [
        "SGDR.score(X_test,y_test)"
      ],
      "metadata": {
        "colab": {
          "base_uri": "https://localhost:8080/"
        },
        "id": "mJq_myTdBfg5",
        "outputId": "8663f030-1cce-4f7c-d483-d560003c9c56"
      },
      "execution_count": null,
      "outputs": [
        {
          "output_type": "execute_result",
          "data": {
            "text/plain": [
              "0.6491956688278977"
            ]
          },
          "metadata": {},
          "execution_count": 109
        }
      ]
    },
    {
      "cell_type": "code",
      "source": [
        ""
      ],
      "metadata": {
        "id": "pVhFgThZBiPT"
      },
      "execution_count": null,
      "outputs": []
    }
  ]
}